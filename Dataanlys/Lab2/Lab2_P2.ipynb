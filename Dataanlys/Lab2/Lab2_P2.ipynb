{
 "cells": [
  {
   "cell_type": "markdown",
   "metadata": {},
   "source": [
    "# Lab exercise 2: Regression, Least squares, QR "
   ]
  },
  {
   "cell_type": "markdown",
   "metadata": {},
   "source": [
    "## Part 2: Curve Fitting to Temperature Data"
   ]
  },
  {
   "cell_type": "markdown",
   "metadata": {},
   "source": [
    "_SMHI provides a generous dataset containing the evolution of the daily temperature in Uppsala. The dataset contains measurements ranging from the beginning of the meteorological observations in 1722 all the way until 2020. In this part of the lab, we will fit polynomials to this data using the method of least squares._"
   ]
  },
  {
   "cell_type": "markdown",
   "metadata": {},
   "source": [
    "### 1. Load the dataset and inspect the data"
   ]
  },
  {
   "cell_type": "markdown",
   "metadata": {},
   "source": [
    "_1.1) You can find the complete dataset here: https://www.smhi.se/data/meteorologi/temperatur/uppsalas-temperaturserie-1.2855. This is a large dataset containing the daily temperatures between 1722-2020. To start with, we will work with a smaller dataset containing the average annual temperatures over the last 80 years, i.e. data covering the period 1960-2020. This data has been prepared for you in a txt-file called **tempAverage1960_2020.txt**. We will begin by loading this dataset using NumPy. Find the txt-file and make sure that it is located in the same folder as this notebook. Run the cell below to import the required packages._ "
   ]
  },
  {
   "cell_type": "code",
   "execution_count": null,
   "metadata": {},
   "outputs": [],
   "source": [
    "import numpy as np\n",
    "import matplotlib.pyplot as plt"
   ]
  },
  {
   "cell_type": "markdown",
   "metadata": {},
   "source": [
    "_1.2) Load the txt file tempAverage1960_2020.txt using NumPy and store it using an appropriate variable name. The first column in the txt-file contains the year and the second column contains the corresponding temperature. Store the temperature data and the year vector in separate arrays using appropriate variable names, and inspect the data by printing the arrays._\n",
    "\n",
    "Hint: You can load a txt file into an ndarray called example_array using the numpy command `example_array = np.loadtxt('example_filename.txt', usecols=(0,1))`, where the last argument specifies which columns you want to include. In this case, we want to include the first and second columns indexed 0 and 1, respectively. You can then collect the data in the first column using the command `example_array[:, 0]`."
   ]
  },
  {
   "cell_type": "code",
   "execution_count": null,
   "metadata": {},
   "outputs": [],
   "source": [
    "# enter your code here\n"
   ]
  },
  {
   "cell_type": "markdown",
   "metadata": {},
   "source": [
    "_1.3) You can check the shape of a numpy array using the command `example_array.shape`. How many datapoints does your dataset contain? Are there as many temperature measurements as years included in the first column?_"
   ]
  },
  {
   "cell_type": "code",
   "execution_count": null,
   "metadata": {},
   "outputs": [],
   "source": [
    "# enter your code here\n"
   ]
  },
  {
   "cell_type": "markdown",
   "metadata": {},
   "source": [
    "_1.4) Plot the temperature as a function of time. Don't forget to add axis labels and a title to your plot. Do you see any potential trends in the data?_"
   ]
  },
  {
   "cell_type": "code",
   "execution_count": null,
   "metadata": {},
   "outputs": [],
   "source": [
    "plt.figure(1)\n",
    "#enter your code here\n"
   ]
  },
  {
   "cell_type": "markdown",
   "metadata": {},
   "source": [
    "### 2. Curve Fitting"
   ]
  },
  {
   "cell_type": "markdown",
   "metadata": {},
   "source": [
    "To investigate the trends in the data, we will use the numpy.polynomial package to fit polynomials of different degrees to our data. This is done using the method of least squares, which finds the polynomial of the specified degree that minimizes the sum of the squares of the errors."
   ]
  },
  {
   "cell_type": "markdown",
   "metadata": {},
   "source": [
    "_1.5) Import the required package by running the cell below. Then, fit a linear polynomial (degree 1) to the data. What polynomial provides the best fit? Print the coefficients._\n",
    "\n",
    "Hint: If you have some observations y given x, you can fit a first degree polynomial to this data using the command `p = Polynomial.fit(x, y, deg=1, window=[a,b])`. The second argument specifies the degree of the polynomial you wish to fit to the data, and the last argument specifies the domain (in this case [1960, 2020]) The best fit polynomial of the specified degree is then stored by its coefficients in the polynomial object p. Print the polynomial object to inspect the coefficients. "
   ]
  },
  {
   "cell_type": "code",
   "execution_count": null,
   "metadata": {},
   "outputs": [],
   "source": [
    "from numpy.polynomial import Polynomial"
   ]
  },
  {
   "cell_type": "code",
   "execution_count": null,
   "metadata": {},
   "outputs": [],
   "source": [
    "# enter your code here\n"
   ]
  },
  {
   "cell_type": "markdown",
   "metadata": {},
   "source": [
    "_1.6) Plot the best fit together with the original data, with the original data plotted as a scatter plot. Does a first degree polynomial fit manage to capture the trends in the data?_\n",
    "\n",
    "Hint: You can plot scattered data using `plt.plot(x, y, '*')`. Plot the polynomial you fitted in task 1.5) following the procedure you learned in the previous part of the lab, i.e. by first constructing a vector with a reasonable number of points on the x-axis, evaluating the polynomial in these points and storing the result in a variable that you can plot using `plt.plot`. "
   ]
  },
  {
   "cell_type": "code",
   "execution_count": null,
   "metadata": {},
   "outputs": [],
   "source": [
    "plt.figure(2)\n",
    "# enter your code here\n"
   ]
  },
  {
   "cell_type": "markdown",
   "metadata": {},
   "source": [
    "_1.7) Now, fit a 2nd (quadratic) and 3rd degree (cubic) polynomial to the data and plot the resulting polynomials in separate figures together with the original data. Do these fits capture the trends in the data? Which fit would you choose?_"
   ]
  },
  {
   "cell_type": "code",
   "execution_count": null,
   "metadata": {},
   "outputs": [],
   "source": [
    "# enter your code here\n"
   ]
  },
  {
   "cell_type": "markdown",
   "metadata": {},
   "source": [
    "_1.8) Fit a 8th and a 28th degree polynomial to the data and plot the results. What do you observe? High polynomial degrees often lead to oscillations between the data\n",
    "points. Therefore, high-degree polynomial fittings are often avoided. Do you see why?_\n",
    "\n",
    "Hint: If you want to save a plot you create to view later or use in a report, you can use the command plt.savefig('filename.png'), with an appropriate filename, after the plot commands. "
   ]
  },
  {
   "cell_type": "code",
   "execution_count": null,
   "metadata": {},
   "outputs": [],
   "source": [
    "# enter your code here\n"
   ]
  },
  {
   "cell_type": "markdown",
   "metadata": {},
   "source": [
    "### 3. Global Warming Analysis"
   ]
  },
  {
   "cell_type": "markdown",
   "metadata": {},
   "source": [
    "It is known that the temperature of the Earth has risen in recent years. Is it possible to see that trend also in Uppsala? To investigate this, we will look at a larger part of the available temperature observations, dating back to year 1800. You have access to the average annual temepratures in the txt-file tempAverage1800_2020.txt. The data before the 19th century is not as reliable as more recent data, so we focus on the 19th century and onwards in our analysis. "
   ]
  },
  {
   "cell_type": "markdown",
   "metadata": {},
   "source": [
    "_1.9) Load the txt-file and plot the temperature as a function of time. Can you see an increase in temperature in recent years? Are signs of the global warming visible in the data? Do a least squares fitting and investigate a few polynomial degrees. Which one do you think is the best for showing the trend in the data?_"
   ]
  },
  {
   "cell_type": "code",
   "execution_count": null,
   "metadata": {},
   "outputs": [],
   "source": [
    "# enter your code here\n"
   ]
  }
 ],
 "metadata": {
  "kernelspec": {
   "display_name": "Python 3",
   "language": "python",
   "name": "python3"
  },
  "language_info": {
   "codemirror_mode": {
    "name": "ipython",
    "version": 3
   },
   "file_extension": ".py",
   "mimetype": "text/x-python",
   "name": "python",
   "nbconvert_exporter": "python",
   "pygments_lexer": "ipython3",
   "version": "3.8.5"
  },
  "toc-autonumbering": false
 },
 "nbformat": 4,
 "nbformat_minor": 5
}
