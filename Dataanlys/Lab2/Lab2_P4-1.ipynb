{
  "cells": [
    {
      "cell_type": "markdown",
      "metadata": {
        "id": "-vKeZj4I2C69"
      },
      "source": [
        "# Lab exercise 2: Regression, Least squares, QR"
      ]
    },
    {
      "cell_type": "markdown",
      "metadata": {
        "id": "QQvgd4Bl2C7B"
      },
      "source": [
        "## Part 4: QR factorization and application to least squares problem\n"
      ]
    },
    {
      "cell_type": "markdown",
      "metadata": {
        "id": "RdmObQnn2C7B"
      },
      "source": [
        "This part of the lab the QR factorization in Python, and its application for solving the least squares problem.\n"
      ]
    },
    {
      "cell_type": "markdown",
      "metadata": {
        "id": "nnOcXLl22C7B"
      },
      "source": [
        "### QR factorization"
      ]
    },
    {
      "cell_type": "markdown",
      "metadata": {
        "id": "PNaxLFOE2C7C"
      },
      "source": [
        "Every matrix $A\\in \\mathbb R^{m\\times n}$ with $m\\geqslant n$ (overdetermined) can be factorized as\n",
        "$$\n",
        "A = QR\n",
        "$$\n",
        "where $Q$ is a $m\\times m$ **orthogonal** matrix and $R$ is a $m\\times n$ **upper triangular** matrix.\n",
        "\n",
        "$$\n",
        "\\begin{array}{cccc}\n",
        "\\begin{pmatrix}\n",
        "  \\times & \\times & \\times  \\\\\n",
        "  \\times & \\times & \\times  \\\\\n",
        "  \\times & \\times & \\times  \\\\\n",
        "  \\times & \\times & \\times  \\\\\n",
        "  \\times & \\times & \\times\n",
        "\\end{pmatrix}&=&\n",
        "\\begin{pmatrix}\n",
        "  \\times & \\times & \\times & \\times & \\times \\\\\n",
        "  \\times & \\times & \\times & \\times & \\times \\\\\n",
        "  \\times & \\times & \\times & \\times & \\times \\\\\n",
        "  \\times & \\times & \\times & \\times & \\times \\\\\n",
        "  \\times & \\times & \\times & \\times & \\times\n",
        "\\end{pmatrix}&\n",
        "\\begin{pmatrix}\n",
        "\\times & \\times  & \\times\\\\\n",
        " 0 & \\times  & \\times\\\\\n",
        " 0 &  0  & \\times \\\\ \\hline\n",
        " 0 & 0 & 0\\\\\n",
        "  0 & 0 & 0\n",
        "\\end{pmatrix}\n",
        "\\\\ \\\\\n",
        "A&& Q&R\n",
        "\\end{array}\n",
        "$$"
      ]
    },
    {
      "cell_type": "markdown",
      "metadata": {
        "id": "u1bi2qLZ2C7C"
      },
      "source": [
        "As we see $m-n$ last rows of $R$ are zero which role out the last $m-n$ columns of $Q$, enable us to write the thin (or reduced) QR factorization\n",
        "$$\n",
        "A = Q_1 R_1\n",
        "$$\n",
        "where $Q = [Q_1\\;Q_2]$ and $R = \\begin{bmatrix} R_1\\\\ 0 \\end{bmatrix}$. Here $Q_1$ consists of the first $n$ columns of $Q$."
      ]
    },
    {
      "cell_type": "markdown",
      "metadata": {
        "id": "6Ew1g2m72C7C"
      },
      "source": [
        "In numpy, the command `Q, R = np.linalg.qr(A, mode = 'complete')` computes the complete QR factorization of the matrix $A$. As an example, in the cell below compute and print the Q and R factors of the following matrix:\n",
        "$$\n",
        "A = \\begin{bmatrix}\n",
        "1&-1&1\\\\\n",
        "1&1&1\\\\\n",
        "1&2&4\\\\\n",
        "1&3&9\\\\\n",
        "1&4&16\n",
        "\\end{bmatrix}\n",
        "$$\n",
        "This is the coefficient matrix of a quadratic polynomial fitting on points $-1,1,2,3,4$."
      ]
    },
    {
      "cell_type": "code",
      "execution_count": null,
      "metadata": {
        "id": "VObMm9aD2C7D"
      },
      "outputs": [],
      "source": [
        "# enter your code here\n"
      ]
    },
    {
      "cell_type": "markdown",
      "metadata": {
        "id": "iv-iONP-2C7E"
      },
      "source": [
        "Changing the `mode` to `mode = 'reduced'` gives the reduced QR factorization. Compute and print the reduced QR factorization of the above matrix in the cell below:"
      ]
    },
    {
      "cell_type": "code",
      "execution_count": null,
      "metadata": {
        "id": "Hr-Al6zH2C7E"
      },
      "outputs": [],
      "source": [
        "# enter your code here\n",
        "\n"
      ]
    },
    {
      "cell_type": "markdown",
      "metadata": {
        "id": "5LIRUP922C7F"
      },
      "source": [
        "### Computing $Q$ and $R$ using Householder reflections"
      ]
    },
    {
      "cell_type": "markdown",
      "metadata": {
        "id": "tbYcGqm02C7F"
      },
      "source": [
        "Given a non-zero vector $u$ in $\\mathbb R^n$, a matrix of the form\n",
        "\\begin{equation*}\n",
        "  H = I -\\frac{2}{u^Tu}uu^T\n",
        "\\end{equation*}\n",
        "is called a **Householder matrix** or a **Householder reflection**.\n",
        "\n",
        "Matrix $H$ is orthogonal and can be used to iteratively introduce zeros under the diagonals of matrix $A$ ultimately leading to the QR factorization of $A$. Let's illustrate this process with an example:\n",
        "\n",
        "Consder the matrix $A$ above and let $x$ be its first column, i.e.\n",
        "$$\n",
        "x = \\begin{bmatrix}\n",
        "1\\\\ 1\\\\ 1\\\\ 1\\\\ 1\n",
        "\\end{bmatrix}\n",
        "$$\n",
        "Now set $u = x + \\mathrm{sign}(x_1)\\|x\\|_2 e_1$ where $e_1 = [1,0,0,0,0]^T$, and then compute the Householder matrix $H_1 = I-(2/u^Tu)uu^T$.\n",
        "The code is given below:"
      ]
    },
    {
      "cell_type": "code",
      "execution_count": 45,
      "metadata": {
        "id": "L4AwzP1j2C7F"
      },
      "outputs": [],
      "source": [
        "import numpy as np\n",
        "\n",
        "def HouseVec(x):\n",
        "  e = np.zeros(len(x)); e[0] = 1\n",
        "  s = -1 if x[0] < 0  else 1      # our sign function (it is different from np.sign(a) as np.sign(0) = 0)\n",
        "  u = x + s*np.linalg.norm(x,2)*e\n",
        "  return u\n",
        "\n",
        "A = np.array([[1,-1,1],[1,1,1],[1,2,4],[1,3,9],[1,4,16]])\n",
        "x = A[:,0] # first column\n",
        "n = len(x)\n",
        "u = HouseVec(x)\n",
        "H1 = np.eye(n) - 2/np.dot(u,u) * np.outer(u,u)"
      ]
    },
    {
      "cell_type": "markdown",
      "metadata": {
        "id": "GIK2xUOD2C7F"
      },
      "source": [
        "Multiply $H_1$ by $A$ to get $A_1$: (for matrix-matrix or matrix-vector multiplication you can use `@` operator or `np.matmul()`, or `np.dot()` commands. Avoid using `*` operator.)"
      ]
    },
    {
      "cell_type": "code",
      "execution_count": null,
      "metadata": {
        "id": "-Hv1OGDd2C7F"
      },
      "outputs": [],
      "source": [
        "# enter your code here\n",
        "\n"
      ]
    },
    {
      "cell_type": "markdown",
      "metadata": {
        "id": "zcAX7GbW2C7F"
      },
      "source": [
        "What does $A_1$ look like? For the second step, let's assume that $x$ is a $4\\times 1$ vector located below the diagonal in the second column of $A_1$, including the diagonal elements. Now, proceed with the same procedure to compute the Householder matrix $\\widetilde{H}_2$. Finally, construct the matrix $H_2$ as follows:\n",
        "$$\n",
        "H_2 = \\begin{bmatrix}\n",
        "1& 0 \\\\ 0 & \\widetilde H_2\n",
        "\\end{bmatrix}.\n",
        "$$\n",
        "The code is given below:"
      ]
    },
    {
      "cell_type": "code",
      "execution_count": 43,
      "metadata": {
        "id": "V56hAg532C7F"
      },
      "outputs": [],
      "source": [
        "x = A1[1:,1]  # second column diagonal and under diagonal\n",
        "u = HouseVec(x)\n",
        "Ht = np.eye(n-1) - 2/np.dot(u,u) * np.outer(u,u)\n",
        "H2 = np.block([[np.ones(1), np.zeros([1,n-1])],[np.zeros([n-1,1]), Ht]])"
      ]
    },
    {
      "cell_type": "markdown",
      "source": [
        "Note that `np.block` is used to form a block matrix. It works similar to `np.array` by replacing matrices instead of individual numbers.\n",
        "\n",
        "Now compute and print the new matrix $A_2 = H_2A_1$ in the cell below. What do you observe?"
      ],
      "metadata": {
        "id": "U5uScEjm_QX0"
      }
    },
    {
      "cell_type": "code",
      "source": [
        "# enter your code here\n",
        "\n"
      ],
      "metadata": {
        "id": "kqXTx_z6_UBb"
      },
      "execution_count": 44,
      "outputs": []
    },
    {
      "cell_type": "markdown",
      "metadata": {
        "id": "AwJMTLV22C7F"
      },
      "source": [
        "Continue with this process to the third step and calculate matrix $A_3$ as the product of $H_3$ and $A_2$. It's important to note that this resulting matrix should be upper triangular, representing the $R$ factor in the QR factorization. The $Q$ factor is obtained as the product of $H_1$, $H_2$, and $H_3$. Finalize your code and compute both factors accordingly:"
      ]
    },
    {
      "cell_type": "code",
      "execution_count": null,
      "metadata": {
        "id": "AamJY_Xe2C7F"
      },
      "outputs": [],
      "source": [
        "# enter your code here\n"
      ]
    },
    {
      "cell_type": "markdown",
      "metadata": {
        "id": "p3bLH-3W2C7G"
      },
      "source": [
        "Compare your computed factors $Q$ and $R$ with those of the `np.linalg.qr` command:"
      ]
    },
    {
      "cell_type": "code",
      "execution_count": null,
      "metadata": {
        "id": "Sy9VrUsq2C7G"
      },
      "outputs": [],
      "source": [
        "# enter your code here\n",
        "\n"
      ]
    },
    {
      "cell_type": "markdown",
      "metadata": {
        "id": "T2c5S-_m2C7G"
      },
      "source": [
        "### Application to solve the least squares problem"
      ]
    },
    {
      "cell_type": "markdown",
      "metadata": {
        "id": "BY4L1xu92C7G"
      },
      "source": [
        "For a full-rank matrix $A$, the solution of the least square problem\n",
        "$$\n",
        "\\mbox{find}~~ x\\in\\mathbb R^n ~~\\mbox{such that }~~ \\|Ax-b\\|_2 ~~\\mbox{is mimimized}\n",
        "$$\n",
        "is obtained by solving the triangular system\n",
        "$$R_1x = Q_1^Tb$$\n",
        "using a backward substitution, and the residual is\n",
        "$$residual = \\|Ax-b\\|_2=\\|Q_2^Tb\\|_2.$$\n",
        "Assume that $A$ and $b$ are given as\n",
        "$$\n",
        "A = \\begin{bmatrix}\n",
        "1&-1&1\\\\\n",
        "1&1&1\\\\\n",
        "1&2&4\\\\\n",
        "1&3&9\\\\\n",
        "1&4&16\n",
        "\\end{bmatrix}\n",
        ",\\qquad\n",
        "b = \\begin{bmatrix}\n",
        "1\\\\ 2\\\\ 1\\\\ 2\\\\ 3\n",
        "\\end{bmatrix}.\n",
        "$$\n",
        "Write a code to compute the least square solution of $Ax\\approx b$ using the QR factorization and compute the residual:"
      ]
    },
    {
      "cell_type": "code",
      "execution_count": null,
      "metadata": {
        "id": "LbskyLxX2C7G"
      },
      "outputs": [],
      "source": [
        "# enter your code here\n",
        "\n"
      ]
    }
  ],
  "metadata": {
    "kernelspec": {
      "display_name": "Python 3",
      "language": "python",
      "name": "python3"
    },
    "language_info": {
      "codemirror_mode": {
        "name": "ipython",
        "version": 3
      },
      "file_extension": ".py",
      "mimetype": "text/x-python",
      "name": "python",
      "nbconvert_exporter": "python",
      "pygments_lexer": "ipython3",
      "version": "3.8.5"
    },
    "colab": {
      "provenance": []
    }
  },
  "nbformat": 4,
  "nbformat_minor": 0
}