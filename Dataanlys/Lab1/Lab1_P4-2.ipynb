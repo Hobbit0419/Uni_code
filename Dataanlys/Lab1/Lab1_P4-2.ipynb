{
 "cells": [
  {
   "cell_type": "markdown",
   "metadata": {
    "id": "Zt12iwYh_zRD"
   },
   "source": [
    "# Lab exercise 1: Stochastic Simulation and Monte Carlo\n"
   ]
  },
  {
   "cell_type": "markdown",
   "metadata": {
    "id": "38wc1SoeAQsL"
   },
   "source": [
    "## SSA (Gillespies Algorithm)"
   ]
  },
  {
   "cell_type": "markdown",
   "metadata": {
    "id": "QzXsvw4G_zRE"
   },
   "source": [
    "We will now take a look at a **predator-prey system** and solve it by the **Stochastic Simulation Algorithm (SSA)**. Predator and prey animals, such as hawks and mice or foxes and rabbits, interact in an ecosystem where predator eat prey. If the prey population is large, food becomes easily\n",
    "available for the predator and the population grows. This leads to a\n",
    "decrease in the prey population, which, in turn, leads to reduced access\n",
    "to food, resulting in a decrease in the predator population. This means\n",
    "that more prey survives, and so on. This **process** continues indefinitely."
   ]
  },
  {
   "cell_type": "markdown",
   "metadata": {
    "id": "Go3k41N2_zRE"
   },
   "source": [
    "### The Lotka-Volterra Oscillator"
   ]
  },
  {
   "cell_type": "markdown",
   "metadata": {
    "id": "8M57m7Na_zRF"
   },
   "source": [
    "To analyse the predator-prey system, we will consider the following set of chemical reactions, corresponding to the three possible **reactions** or **events** incorporated into the model. They represent the\n",
    "**Lotka-Volterra model** of predator-prey interactions in a simple ecology. Here, $R$ represents the number (or concentration) of prey, e.g. rabbits, and $F$ represents the number (or concentration) of predators, e.g. foxes. The first reaction incorporates prey reproduction into our model, with $\\alpha$ denoting the reproduction rate of each prey. The second reaction incorporates predator reproduction per prey, with $\\beta$ denoting the rate of encounters between prey and predator animals. In other words, the predator consumes prey and reproduces at a rate of $\\beta$. The third and final reaction incorporates predator mortality, with $\\gamma$ denoting the rate at which predators are removed from the ecosystem."
   ]
  },
  {
   "cell_type": "markdown",
   "metadata": {
    "id": "LrdrQjDn_zRF"
   },
   "source": [
    "\\begin{align*}\n",
    "R &\\xrightarrow{\\alpha} 2R\\\\\n",
    "R+F &\\xrightarrow{\\beta} 2F \\\\\n",
    "F &\\xrightarrow{\\gamma} \\emptyset\n",
    "\\end{align*}"
   ]
  },
  {
   "cell_type": "markdown",
   "metadata": {
    "id": "a1JnlKiWN98X"
   },
   "source": [
    "In this part of the Lab, we obtain both stochastic and deterministic solutions for this model. This will also assist you in completing your mini-project on genetic oscillators. You have two options: (1) follow the lecture note presentation and use our code, or (2) use Python's built-in GillesPy2 library. The first option will provide you with a deeper insight into and understanding of how the SSA algorithm functions, while the second option may offer a simpler implementation."
   ]
  },
  {
   "cell_type": "markdown",
   "metadata": {
    "id": "MXsurf8cEp0b"
   },
   "source": [
    "### Option 1: SSA from lecture notes"
   ]
  },
  {
   "cell_type": "markdown",
   "metadata": {
    "id": "M17ap1bK_zRG"
   },
   "source": [
    "We will use the SSA to simulate the system. SSA uses the _**propensity**_ of each reaction, derived from the reaction rates $\\alpha$, $\\beta$ and $\\gamma$, to obtain a stochastic simulation of the system. The propensity of a reaction is proportional to the probability that the reaction will occur given the current state of the system. In each iteration, a reaction is drawn from a **discrete distribution** with a probability proportional to the propensity of each reaction. The time interval after which the reaction will occur is drawn from an **exponential distribution**, and the system is updated accordingly. Don't worry about the details of the algorithm, we will use SSA as a tool and focus on the stochastic simulation results."
   ]
  },
  {
   "cell_type": "markdown",
   "metadata": {
    "id": "Knx5DTK1E68M"
   },
   "source": [
    "Assume that $\\textbf y = [y_1,y_2] = [F,R]$ is the state vector, and specify the propensity functions and state-change vectors as below:\n",
    "$$\n",
    "\\begin{array}{llll}\n",
    "1.&R \\xrightarrow{\\alpha} 2R      & v_1 = [0,1], & w_1 = \\alpha y_2   \\\\\n",
    "2.&R+F\\xrightarrow{\\beta} 2F      & v_2 = [1,-1], & w_2 = \\beta y_1y_2\\\\\n",
    "3.&F\\xrightarrow{\\gamma} \\emptyset& v_3 = [-1,0], & w_3 = \\gamma y_1\n",
    "\\end{array}\n",
    "$$\n",
    "\n",
    "We also assume $a = w_1+w_2+w_3$ and $p_j = \\frac{w_j}{a}$ for $j=1,2,3$. Here, $p_j$ is the probability of reaction $j$ to happen.\n",
    "\n",
    "In the SSA algorithm, it is necessary to sample from both the exponential distribution and the discrete distribution. The Python functions for these operations are provided below. Both algorithms employ the Inverse Transform Method (ITM). Execute the following code snippets sequentially."
   ]
  },
  {
   "cell_type": "code",
   "execution_count": 1,
   "metadata": {
    "id": "HaHm33EOIMCI"
   },
   "outputs": [],
   "source": [
    "import numpy as np\n",
    "import matplotlib.pyplot as plt"
   ]
  },
  {
   "cell_type": "code",
   "execution_count": 2,
   "metadata": {
    "id": "9Etg0fsUHsRy"
   },
   "outputs": [],
   "source": [
    "# Generate N random numbers from exponential distribution\n",
    "def RandExp(lam,N):\n",
    "    U =  np.random.rand(N)\n",
    "    X = -1/lam*np.log(1-U)\n",
    "    return X"
   ]
  },
  {
   "cell_type": "code",
   "execution_count": 3,
   "metadata": {
    "id": "cLK6HX8rI0Fs"
   },
   "outputs": [],
   "source": [
    "#  Generate N random numbers from discrete distribution\n",
    "#   with sorted state vector x and corresponding probability vector p\n",
    "def RandDisct(x,p,N):\n",
    "    cdf = np.cumsum(p)\n",
    "    U = np.random.rand(N)\n",
    "    idx = np.searchsorted(cdf, U)\n",
    "    return x[idx]"
   ]
  },
  {
   "cell_type": "markdown",
   "metadata": {
    "id": "WpCqgCvHIuTZ"
   },
   "source": [
    "Then, the SSA algorithm can be written as follows. The input arguments include the vector `Initial` (representing the initial state $\\textbf y_0$), the state-change matrix `StateChangeMat` (which stacks the state-change vectors on top of each other to form the state-change matrix), and the final time `FinalTime`. The output comprises the list of all time levels `AllTimes` and the solution list `AllStates`, where the first element of list corresponds to the initial state $\\textbf y_0$, the second element to the solution at $t_1$ (i.e., $\\textbf y_1$), and so on.\n",
    "\n",
    "You can review the function to observe how the subsequent time step is sampled, how the reaction to be occured is sampled, and how the state is updated."
   ]
  },
  {
   "cell_type": "code",
   "execution_count": 4,
   "metadata": {
    "id": "68fbvL21KaWF"
   },
   "outputs": [],
   "source": [
    "def SSA(Initial, StateChangeMat, FinalTime):\n",
    "   # Inputs:\n",
    "   #  Initial: initial conditins of size (StateNo x 1)\n",
    "   #  StateChangeMat: State-change matrix of size (ReactNo, StateNo)\n",
    "   #  FinalTime: the maximum time we want the process be run\n",
    "\n",
    "   # Output:\n",
    "   #  AllTimes: the list of all selected time levels \n",
    "   #  AllStates: the list of all state values at corresponding time levels\n",
    "\n",
    "    [m,n] = StateChangeMat.shape\n",
    "    ReactNum = np.array(range(m))\n",
    "    AllTimes = {}   # define a list for storing all time levels\n",
    "    AllStates = {}  # define a list for storing all states at all time levels\n",
    "    AllStates[0] = Initial\n",
    "    AllTimes[0] = [0]\n",
    "    k = 0; t = 0; State = Initial\n",
    "    while True:\n",
    "        w = PropensityFunc(State, m)     # propensities\n",
    "        a = np.sum(w)\n",
    "        tau = RandExp(a,1)               # WHEN the next reaction happens\n",
    "        t = t + tau                      # update time\n",
    "        if t > FinalTime:\n",
    "            break\n",
    "        which = RandDisct(ReactNum,w/a,1)             # WHICH reaction occurs\n",
    "        State = State + StateChangeMat[which.item(),] # Uppdate the state\n",
    "        k += 1\n",
    "        AllTimes[k] = t\n",
    "        AllStates[k] = State\n",
    "    return AllTimes, AllStates"
   ]
  },
  {
   "cell_type": "markdown",
   "metadata": {
    "id": "_MMOJ_QdLWeW"
   },
   "source": [
    "The above SSA function can be used to solve various stochastic models (including that of your mini-project). To do so, you just need to define the propensity function, form the state-change matrix, and provide model parameters. Let's apply the SSA to solve the predator-prey problem mentioned earlier.\n",
    "In the cell below we assign the constant rates $\\alpha=1$, ${\\beta}=0.005$, and ${\\gamma}=0.6$, the initial state $\\textbf y_0=[50,100]$, and the final time $30$.  Also, we form the state-change matrix by stacking the state-change vectors on top of each other."
   ]
  },
  {
   "cell_type": "code",
   "execution_count": 5,
   "metadata": {
    "id": "Qf3Onnjfousl"
   },
   "outputs": [],
   "source": [
    "alpha, beta, gamma = 1, 0.005, 0.6  # constant rates\n",
    "Initial = [50,100]                  # Initial number of foxes and rabbits\n",
    "FinalTime = 30                      # final time of simulation\n",
    "                                    # State-Change Matrix\n",
    "StateChangeMat = np.array([\n",
    "                          [0,  1],\n",
    "                          [1, -1],\n",
    "                          [ -1,0]])"
   ]
  },
  {
   "cell_type": "markdown",
   "metadata": {
    "id": "5dJ1K8HTousl"
   },
   "source": [
    "Now, we define the pronensity function as below:"
   ]
  },
  {
   "cell_type": "code",
   "execution_count": 6,
   "metadata": {
    "id": "ds8XyJV2Ib8z"
   },
   "outputs": [],
   "source": [
    "# Propensity functions (for predator-prey model)\n",
    "def PropensityFunc(State,ReactNo):\n",
    "    # State: state variable [F,R]\n",
    "    # ReactNo: number of reactions\n",
    "    w = np.zeros(ReactNo)\n",
    "    F,R = State\n",
    "    w[0] = alpha*R\n",
    "    w[1] = beta*F*R\n",
    "    w[2] = gamma*F\n",
    "    return w"
   ]
  },
  {
   "cell_type": "markdown",
   "metadata": {
    "id": "_ydiN51Nx3cJ"
   },
   "source": [
    "Everything is ready, just run the cell below to plot the results. What do you observe? Run it several times.\n"
   ]
  },
  {
   "cell_type": "code",
   "execution_count": 12,
   "metadata": {
    "id": "wf44C0Kqx3mq"
   },
   "outputs": [],
   "source": [
    "# SSA Simulation of predator-prey model (Foxes and Rabbits)\n",
    "\n",
    "Times, States = SSA(Initial, StateChangeMat, FinalTime)\n",
    "\n",
    "# retrieve state variables F and R from the output list\n",
    "n = len(Times)\n",
    "t = [Times[i][0] for i in range(n)]\n",
    "F = [States[i][0] for i in range(n)]\n",
    "R = [States[i][1] for i in range(n)]\n",
    "\n",
    "plt.figure(figsize = (6, 3))\n",
    "plt.plot(t,F,linestyle = '-', color = 'blue',label = 'Foxes')\n",
    "plt.plot(t,R,linestyle = '-', color = 'red',label = 'Rabbits')\n",
    "plt.xlabel('Time');\n",
    "plt.ylabel('Number of animals');\n",
    "plt.title('Stochastic solutions using SSA')\n",
    "plt.legend()\n",
    "plt.show()\n"
   ]
  },
  {
   "cell_type": "markdown",
   "metadata": {
    "id": "0eFH3L3D9dOe"
   },
   "source": [
    "In a `for` loop plot multiple (for example 10) trajectories. What do you observe?"
   ]
  },
  {
   "cell_type": "code",
   "execution_count": null,
   "metadata": {
    "id": "OmK7PyWE98SL"
   },
   "outputs": [],
   "source": [
    "# enter your code here\n",
    "\n"
   ]
  },
  {
   "cell_type": "markdown",
   "metadata": {
    "id": "02y8WYu--OtA"
   },
   "source": [
    "Play around with the initial conditions and rates. Run the cells and view the different results. What different system behaviors do you observe, i.e. what happens to the prey and predator populations over time?"
   ]
  },
  {
   "cell_type": "code",
   "execution_count": null,
   "metadata": {
    "id": "VGPo6fQv-yvC"
   },
   "outputs": [],
   "source": [
    "# enter your code here\n",
    "\n"
   ]
  },
  {
   "cell_type": "markdown",
   "metadata": {
    "id": "EH_f_Uzd-0hp"
   },
   "source": [
    "### Deterministic Solution by an ODE solver"
   ]
  },
  {
   "cell_type": "markdown",
   "metadata": {
    "id": "IyqUyCV--zaW"
   },
   "source": [
    "The defined predator-prey system can be modelled as a system of ordinary differential equations, the so-called **Lotka-Volterra-equations** defined below. The system can then be simulated by numerically solving this system of differential equations.\n",
    "\n",
    "\\begin{align*}\n",
    "&\\frac{dF}{dt} = \\beta FR - \\gamma F \\\\\n",
    "&\\frac{dR}{dt} = \\alpha R -\\beta FR\n",
    "\\end{align*}\n",
    "\n",
    "For solving this system we can use the ODE solver `solve_ivp` from the `scipy.integrate` library. This solver employ some adaptive numerical methods for solving a system of first-order differential equations. The default solver is Runge-Kutta-Fehlberg (RK45) method. Run the cell below and report your observation. How do you compare it with stochastic solutions?"
   ]
  },
  {
   "cell_type": "code",
   "execution_count": null,
   "metadata": {
    "id": "c5JJ3IIwAXWY"
   },
   "outputs": [],
   "source": [
    "from scipy.integrate import solve_ivp\n",
    "\n",
    "def Predator_Prey(t, y):\n",
    "    F,R = y\n",
    "    yprime = np.zeros(2);\n",
    "    yprime[0] = beta*F*R - gamma*F\n",
    "    yprime[1] = alpha*R - beta*F*R\n",
    "    return yprime\n",
    "\n",
    "teval = np.linspace(0, FinalTime,1000)      # a fine evaluation time samples\n",
    "sol = solve_ivp(Predator_Prey, [0,FinalTime], Initial, t_eval = teval)\n",
    "\n",
    "plt.figure(figsize = (6, 3))\n",
    "plt.plot(sol.t,sol.y[0],linestyle = 'solid', color='blue', label = 'Rabbits')\n",
    "plt.plot(sol.t,sol.y[1],linestyle = 'solid', color='red', label = 'Foxes')\n",
    "plt.xlabel('Time'); plt.ylabel('Number of animals')\n",
    "plt.title('Deterministic solution using RK45')\n",
    "plt.legend(loc='upper right')\n",
    "plt.show()"
   ]
  },
  {
   "cell_type": "markdown",
   "metadata": {
    "id": "C3ISkQKoMowE"
   },
   "source": [
    "To compare the deterministic solution with stochastic solutions, plot the deterministic and 10 stochastic solutions of foxes' (or rabbits') population in the same figure. What do you observe? How do you compare this with that of the SIR model in the lecture notes?"
   ]
  },
  {
   "cell_type": "code",
   "execution_count": null,
   "metadata": {
    "id": "ea9gC9M7NKhq"
   },
   "outputs": [],
   "source": [
    "# enter your code here\n",
    "\n",
    "\n"
   ]
  },
  {
   "cell_type": "markdown",
   "metadata": {
    "id": "9njxrb8GQQOZ"
   },
   "source": [
    "### Option 2: Working with Python's GillesPy2 library"
   ]
  },
  {
   "cell_type": "markdown",
   "metadata": {
    "id": "05dzOqRlQQOi"
   },
   "source": [
    "In this part, we will investigate the dynamics of the predator-prey system using **Python's GillesPy2 library**.\n",
    "\n",
    "a) In the cell below, you will find an implementation of the Lotka-Volterra model using the **GillesPy2** library. Read through the code and make sure you understand how each component of the Lotka-Volterra model, as defined above, is implemented. What is the initial number of predators in this system? What is the prey reproduction rate? For how many time steps will the model be simulated?"
   ]
  },
  {
   "cell_type": "code",
   "execution_count": null,
   "metadata": {
    "id": "pCDy0RZYQQOi"
   },
   "outputs": [],
   "source": [
    "# You don't need to run this cell if you are using the StochSS environment.\n",
    "# However, if you are working in Google Colab or any other platform, you must run this cell to install gillespy2 first.\n",
    "\n",
    "%pip install gillespy2"
   ]
  },
  {
   "cell_type": "code",
   "execution_count": null,
   "metadata": {
    "id": "9VXJdNaYQQOj"
   },
   "outputs": [],
   "source": [
    "import numpy as np\n",
    "import gillespy2\n",
    "from gillespy2 import Model, Species, Reaction, Parameter, RateRule, AssignmentRule, FunctionDefinition\n",
    "from gillespy2 import EventAssignment, EventTrigger, Event"
   ]
  },
  {
   "cell_type": "code",
   "execution_count": null,
   "metadata": {
    "id": "s7_Zidq9QQOj"
   },
   "outputs": [],
   "source": [
    "class Lotkavolterra_Oscillator(Model):\n",
    "    def __init__(self, parameter_values=None):\n",
    "        Model.__init__(self, name=\"Lotkavolterra_Oscillator\")\n",
    "        self.volume = 1\n",
    "\n",
    "        # Define the parameters of the system\n",
    "        self.add_parameter(Parameter(name=\"alpha\", expression=1))     # Initial value: 1\n",
    "        self.add_parameter(Parameter(name=\"beta\", expression=0.005))  # Initial value: 0.005\n",
    "        self.add_parameter(Parameter(name=\"gamma\", expression=0.6))   # Initial value: 0.6\n",
    "\n",
    "        # Add species and define the initial condition (count or concentration) of each species\n",
    "        self.add_species(Species(name=\"R\", initial_value=100, mode=\"discrete\"))    # Initial value: 100\n",
    "        self.add_species(Species(name=\"F\", initial_value=50, mode=\"discrete\"))     # Initial value: 50\n",
    "\n",
    "        # Reactions\n",
    "        self.add_reaction(Reaction(name=\"r1\", reactants={'R': 1}, products={'R': 2}, rate=self.listOfParameters[\"alpha\"]))\n",
    "        self.add_reaction(Reaction(name=\"r2\", reactants={'R': 1, 'F': 1}, products={'F': 2}, rate=self.listOfParameters[\"beta\"]))\n",
    "        self.add_reaction(Reaction(name=\"r3\", reactants={'F': 1}, products={}, rate=self.listOfParameters[\"gamma\"]))\n",
    "\n",
    "        # Timespan\n",
    "        self.timespan(np.linspace(0, 30, 1000))"
   ]
  },
  {
   "cell_type": "markdown",
   "metadata": {
    "id": "E0-Cq8ARQQOj"
   },
   "source": [
    "b) Run the cells below to initialize the Lotka-Volterra oscillator and simulate the system using SSA. Plot the results. What do you observe? Hint: Run the import-cell and the cell containing the Lotka-Volterra oscillator class before running the cells below."
   ]
  },
  {
   "cell_type": "code",
   "execution_count": null,
   "metadata": {
    "id": "r4HZZ2ULQQOj",
    "scrolled": true
   },
   "outputs": [],
   "source": [
    "model = Lotkavolterra_Oscillator()\n",
    "results = model.run(algorithm = \"SSA\", number_of_trajectories = 5)\n",
    "results.plot(yaxis_label='Population', title='Lotka-Volterra Model: SSA')\n"
   ]
  },
  {
   "cell_type": "markdown",
   "metadata": {
    "id": "9m3I_XJuQQOj"
   },
   "source": [
    "c) Repeat (b) multiple times and compare the trajectories. What do you observe? Hint: You can run multiple trajectories at the same time by changing the `number_of_trajectories`-argument in `model.run()`. If you want to display the trajectories in different graphs, you can insert `multiple_graphs = True` as an argument to the plot-function.\n",
    "\n"
   ]
  },
  {
   "cell_type": "code",
   "execution_count": null,
   "metadata": {
    "id": "u1tdT4nxQQOj"
   },
   "outputs": [],
   "source": [
    "# enter your code here"
   ]
  },
  {
   "cell_type": "markdown",
   "metadata": {
    "id": "tYYt2Pdlouss"
   },
   "source": [
    "You can also utilize the standard `matplotlib.pyplot` library for creating plots. For instance, the output from the previous cell consists of 5 simulations stored in the `results` list, each with the suffixes `.time`, `.R`, and `.F`. To access the variables and generate plots, you can write (for example for the first simulation):"
   ]
  },
  {
   "cell_type": "code",
   "execution_count": null,
   "metadata": {
    "id": "ghlX5mAUouss"
   },
   "outputs": [],
   "source": [
    "t = results[0]['time']\n",
    "F = results[0]['F'];\n",
    "R = results[0]['R'];\n",
    "\n",
    "plt.figure(figsize = (6, 3))\n",
    "plt.plot(t,R,linestyle = 'solid', color='blue', label = 'Rabbits')\n",
    "plt.plot(t,F,linestyle = 'solid', color='red', label = 'Foxes')\n",
    "plt.xlabel('Time'); plt.ylabel('Number of animals')\n",
    "plt.legend(loc='upper right')\n",
    "plt.show()\n"
   ]
  },
  {
   "cell_type": "markdown",
   "metadata": {
    "id": "xoPK-do3QQOj"
   },
   "source": [
    "d) Run the model for a large number of trajectories, e.g. 500. The following code snippet will plot the mean and standard deviation of the resulting simulation results for the predator (species \"F\"): `results.plot_mean_stdev(included_species_list=[\"F\"])` ."
   ]
  },
  {
   "cell_type": "code",
   "execution_count": null,
   "metadata": {
    "id": "77mLGd5FQQOj"
   },
   "outputs": [],
   "source": [
    "# enter your code here"
   ]
  },
  {
   "cell_type": "markdown",
   "metadata": {
    "id": "Ofu0rrDuQQOj"
   },
   "source": [
    "e) Play around with the initial conditions and model parameters defined in the Lotka-Volterra oscillator class. Run the cell below and view the different results. What different system behaviors do you observe, i.e. what happens to the prey and predator populations over time? Hint: Don't forget to re-run the cell defining the model class when you make changes there."
   ]
  },
  {
   "cell_type": "code",
   "execution_count": null,
   "metadata": {
    "id": "fAatxCVaQQOk"
   },
   "outputs": [],
   "source": [
    "model = Lotkavolterra_Oscillator()\n",
    "results = model.run(algorithm = \"SSA\", number_of_trajectories=2)\n",
    "results.plot(yaxis_label='Population', title='Lotka-Volterra Model: SSA', multiple_graphs=True)"
   ]
  },
  {
   "cell_type": "markdown",
   "metadata": {
    "id": "6pGhaJHJQQOk"
   },
   "source": [
    "\n",
    "### Deterministic solution in GillesPy2"
   ]
  },
  {
   "cell_type": "markdown",
   "metadata": {
    "id": "Fb-OAcUsQQOk"
   },
   "source": [
    "Simulate the system again using the implemented Lotka-Volterra oscillator, but this time use an ODE-solver instead of SSA. You can do this by simply changing the algorithm to 'ODE' in the following code snippet. What happens when you run the model multiple times? Why?"
   ]
  },
  {
   "cell_type": "code",
   "execution_count": null,
   "metadata": {
    "id": "gUOVWJU6QQOk"
   },
   "outputs": [],
   "source": [
    "model = Lotkavolterra_Oscillator()\n",
    "results = model.run(algorithm = \"ODE\")\n",
    "results.plot(yaxis_label='Population', title='Lotka-Volterra Model: ODE')"
   ]
  },
  {
   "cell_type": "markdown",
   "metadata": {
    "id": "uAx9zKyEQQOk"
   },
   "source": [
    "g) Play around with the parameters and initial conditions. What different system behaviors do you observe?"
   ]
  },
  {
   "cell_type": "code",
   "execution_count": null,
   "metadata": {
    "id": "bD_0eKj3QQOk"
   },
   "outputs": [],
   "source": [
    "# enter your code here\n",
    "\n",
    "\n"
   ]
  },
  {
   "cell_type": "markdown",
   "metadata": {
    "id": "AGkCgfPB_zRH"
   },
   "source": [
    "_**To think about:**_\n",
    "\n",
    "* Is the Lotka-Volterra model realistic? In reality, external factors impact the growth of the predator and prey population, for example environmental factors. Moreover, there are certain assumptions implicit in the model, such as predators having limitless appetite etc, and there are usually more complex forms of dependencies between different\n",
    "animal species. However, the model can be modified to take such situations into account and variants of the\n",
    "Lotka-Volterra model are used in practice. More complicated models can be used to simulate nutrition chains in an ecosystem, such as plankton → roach and perch → pike in a lake. These kinds of simulations can be used to predict how an environmental\n",
    "change leading to a decreased plankton population will affect the entire ecosystem in a lake. _You can read more here:_ https://en.wikipedia.org/wiki/Lotka-Volterra_equations\n",
    "* The GillesPy2-library can be be used to simulate many different kinds of stochastic biochemical processes using SSA, by defining a different set of species involved in a different set of chemical reactions. In this case, the species can be different kinds of molecules. If you go to _Tutorial_ in the StochSS main menu, you can find a simple example of a protein decay simulation."
   ]
  }
 ],
 "metadata": {
  "colab": {
   "provenance": []
  },
  "kernelspec": {
   "display_name": "Python 3",
   "language": "python",
   "name": "python3"
  },
  "language_info": {
   "codemirror_mode": {
    "name": "ipython",
    "version": 3
   },
   "file_extension": ".py",
   "mimetype": "text/x-python",
   "name": "python",
   "nbconvert_exporter": "python",
   "pygments_lexer": "ipython3",
   "version": "3.8.5"
  }
 },
 "nbformat": 4,
 "nbformat_minor": 1
}
