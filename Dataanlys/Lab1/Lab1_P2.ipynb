{
 "cells": [
  {
   "cell_type": "markdown",
   "metadata": {
    "id": "48bf9895"
   },
   "source": [
    "# Lab exercise 1: Stochastic simulation and Monte Carlo"
   ]
  },
  {
   "cell_type": "markdown",
   "metadata": {
    "id": "36b699a2"
   },
   "source": [
    "## A simulation: Throw dice"
   ]
  },
  {
   "cell_type": "markdown",
   "metadata": {
    "id": "0b77e37f"
   },
   "source": [
    "**Monte Carlo methods** can be used to **simulate** different types of **processes**. Here, you will\n",
    "make a simple simulation using random numbers. In this case, the ‘process’ is to throw a dice\n",
    "and to calculate the mean of the results."
   ]
  },
  {
   "cell_type": "markdown",
   "metadata": {
    "id": "f68216fc"
   },
   "source": [
    "#### Brief Introduction:"
   ]
  },
  {
   "cell_type": "markdown",
   "metadata": {
    "id": "3af1babe"
   },
   "source": [
    "One might ask the question: what is the expected value if we throw a dice with six sides numbered\n",
    "$[1, 2, 3, 4, 5, 6]$ many times? The answer is of course easy to compute in this case, $\\mu = (1+2+3+4+5+6)/6 =\n",
    "3.5$. However, we will use this as a simple case to illustrate how a Monte Carlo method works.\n",
    "We will compute the mean, approximating the expected value, by simulating that we throw a dice multiple times. We\n",
    "will simulate it many times, store the results in a vector, and calculate the mean.\n",
    "\n",
    "The algorithm or structure of the Monte Carlo simulation when throwing the dice $N$ times is:\n"
   ]
  },
  {
   "cell_type": "markdown",
   "metadata": {
    "id": "6a3715fa-17c4-4b13-ad59-620b6f94e75a"
   },
   "source": [
    "    for i = 1:N:\n",
    "       Do one stochastic simulation of a dice throw.\n",
    "       result[i] = the result of the simulation\n",
    "    end\n",
    "    Compute mean of result"
   ]
  },
  {
   "cell_type": "markdown",
   "metadata": {
    "id": "87e839f1"
   },
   "source": [
    "The stochastic process ’throw of a dice’ can be simulated by generating a random integer in the range $[1, 6]$. All six integers have the same probability, so this is a **uniform probability distribution**.\n",
    "More precisely, we will use a **discrete uniform distribution**. To draw samples from this distribution, we will first use the function `numpy.random.rand` to drawn samples from the continuous uniform distribution like we did in the previous part of the lab, and then use these random numbers to construct the required discrete distribution from the continuous one."
   ]
  },
  {
   "cell_type": "markdown",
   "metadata": {
    "id": "9679eb5c"
   },
   "source": [
    "To create the required discrete uniform distribution on the interval $[1, 6]$, you can use\n",
    "the numpy function `numpy.floor(x)`, which rounds a floating point number x to the nearest integer less than x. The code snippet below simulates one dice throw.\n",
    "\n",
    "a) Try to understand how this command works by running the cell and observing the output. Can you connect it to the **inverse transform method**? Why is `numpy.floor` used and what does\n",
    "floor mean? Convince yourself that this code snippet generates a random number drawn from the discrete uniform distribution on the interval $[1, 6]$. Remember that `numpy.random.rand(1)` draws a sample from the continuous uniform distribution on the interval $[0, 1)$.\n",
    "\n",
    "*Note:* A code for sampling from a general discrete distribution (different probabilities) is given in Lecture notes."
   ]
  },
  {
   "cell_type": "code",
   "execution_count": 5,
   "metadata": {
    "id": "99425da9"
   },
   "outputs": [],
   "source": [
    "import matplotlib.pyplot as plt\n",
    "import numpy as np"
   ]
  },
  {
   "cell_type": "code",
   "execution_count": 6,
   "metadata": {
    "id": "477a9173"
   },
   "outputs": [
    {
     "name": "stdout",
     "output_type": "stream",
     "text": [
      "5.0\n"
     ]
    }
   ],
   "source": [
    "y = np.floor(1+6*np.random.rand(1))\n",
    "print(y[0])"
   ]
  },
  {
   "cell_type": "markdown",
   "metadata": {
    "id": "02a6210a"
   },
   "source": [
    "Using `numpy.random.rand` to simulate the stochastic process of dice throws, we can simplify the Monte Carlo-algorithm above by directly generating $N$ random numbers without the for-loop, by calling `numpy.random.rand(N)`, where $N$ is the number of dice throws we wish to simulate (i.e. the number of random samples we wish to draw from our probability distribution).\n",
    "\n",
    "b) Complete the function **throwDice** that simulates $N$ dice throws and returns an array `y` containing the result of all dice throws, i.e. write a function that generates $N$ random numbers and returns the generated numbers in a numpy array."
   ]
  },
  {
   "cell_type": "code",
   "execution_count": 7,
   "metadata": {
    "id": "92415b03"
   },
   "outputs": [],
   "source": [
    "def throwDice(N):\n",
    "    # enter your code here\n",
    "    y = np.floor(1+6*np.random.rand(N))\n",
    "    return y"
   ]
  },
  {
   "cell_type": "markdown",
   "metadata": {
    "id": "e4fa31cd"
   },
   "source": [
    "c) Use the function throwDice to generate random vectors $y_1$, $y_2$, $y_3$ of length $10^{4}$, $10^{5}$ and $10^{6}$. Compute the mean value for each of the vectors generated by your simulation. Finally, calculate the difference between the exact mean value of this stochastic process (= 3.5) and\n",
    "the mean values computed via the Monte Carlo method. Intuitively, the difference\n",
    "between the computed mean and the exact one should become smaller as we increase the\n",
    "number of random numbers used. Does this hold for your results? Hint: You can calculate the mean of a vector y using the function `numpy.mean(y)`."
   ]
  },
  {
   "cell_type": "code",
   "execution_count": 12,
   "metadata": {
    "id": "01889363"
   },
   "outputs": [
    {
     "name": "stdout",
     "output_type": "stream",
     "text": [
      "-0.009399999999999853 0.008669999999999956 0.0005459999999999354\n"
     ]
    }
   ],
   "source": [
    "# enter your code here\n",
    "y1 = throwDice(10**4)\n",
    "y2 = throwDice(10**5)\n",
    "y3 = throwDice(10**6)\n",
    "\n",
    "meany1 = y1.mean()\n",
    "meany2 = y2.mean()\n",
    "meany3 = y3.mean()\n",
    "\n",
    "diffy1 = 3.5 - meany1\n",
    "diffy2 = 3.5 - meany2\n",
    "diffy3 = 3.5 - meany3\n",
    "\n",
    "print(diffy1, diffy2, diffy3)"
   ]
  },
  {
   "cell_type": "markdown",
   "metadata": {
    "id": "46512609"
   },
   "source": [
    "As numpy.random.rand generates new random numbers each time the function is called, the computed\n",
    "mean will differ a little each time you repeat the Monte Carlo method. Investigate this\n",
    "by repeating the calculation with N random numbers $10^{4}$ times and save the mean values\n",
    "in a vector. The function `dice_simulation(M, N)` repeats the process of $N$ dice throws $M$ times, and stores the mean value of each individual process in a vector.\n",
    "\n",
    "d) Go through the function and make sure you understand what happens in each part of the code. Call the function in the empty cell below, using 1, 3 and 100 dice throws, and look at the generated histograms. It looks like it is approaching a certain distribution. Do you recognize which distribution?."
   ]
  },
  {
   "cell_type": "code",
   "execution_count": 9,
   "metadata": {
    "id": "9e333a70"
   },
   "outputs": [],
   "source": [
    "def dice_simulation(M, N):\n",
    "\n",
    "    # vector that wil be used for storing the mean values\n",
    "    y_mean = np.zeros(M)\n",
    "\n",
    "    # simulate N dice throws\n",
    "    for i in range(0, M):\n",
    "        y = np.floor(1+6*np.random.rand(N)) # one Monte Carlo Simulation\n",
    "        y_mean[i] = np.mean(y)\n",
    "\n",
    "    # plot a histogram of the mean values generated by the M Monte Carlo simulations\n",
    "    plt.figure(1)\n",
    "    plt.hist(y_mean, bins=30)\n",
    "    plt.title('Mean')\n",
    "    plt.xlabel('Sample')\n",
    "    plt.ylabel('Count')\n",
    "    plt.show()"
   ]
  },
  {
   "cell_type": "code",
   "execution_count": 14,
   "metadata": {
    "id": "b17435fa"
   },
   "outputs": [
    {
     "data": {
      "image/png": "[encoded data removed]",
      "text/plain": [
       "<Figure size 640x480 with 1 Axes>"
      ]
     },
     "metadata": {},
     "output_type": "display_data"
    }
   ],
   "source": [
    "# enter your code here\n",
    "dice_simulation(100, 10**4)"
   ]
  },
  {
   "cell_type": "markdown",
   "metadata": {
    "id": "0062c550"
   },
   "source": [
    "e)  To ‘prove’ what distribution it is in, run the program again but this time with a large\n",
    "number of dice throws, N = $10^{4}$. What distribution is it, and what is the expected value of this distribution according to the histogram?"
   ]
  },
  {
   "cell_type": "code",
   "execution_count": 15,
   "metadata": {
    "id": "ee78b6a4"
   },
   "outputs": [
    {
     "data": {
      "image/png": "[encoded data removed]",
      "text/plain": [
       "<Figure size 640x480 with 1 Axes>"
      ]
     },
     "metadata": {},
     "output_type": "display_data"
    }
   ],
   "source": [
    "# enter your code here\n",
    "dice_simulation(10**4, 10**4)"
   ]
  },
  {
   "cell_type": "markdown",
   "metadata": {
    "id": "691c5ff9"
   },
   "source": [
    "What you have seen in these experiments is an illustration of the so-called **central limit\n",
    "theorem** in statistics. The theorem states that if you take an increasing number of random\n",
    "samples from a distribution (in this case a uniform distribution), then the distribution of\n",
    "the sample means will approach a normal distribution"
   ]
  },
  {
   "cell_type": "markdown",
   "metadata": {
    "id": "a593d86c"
   },
   "source": [
    "_**To think about:**_  \n",
    "* What would happen if you would be able use infinitely many\n",
    "random numbers (=infinitely many dice throws)?\n",
    "* When you increase the number of dice throws it approaches a\n",
    "normal distribution, but the distribution also gets more and\n",
    "more ‘narrow’, i.e. the variance approaches zero.\n",
    "The variance here is therefore a way of measuring\n",
    "the error in the Monte Carlo simulation."
   ]
  }
 ],
 "metadata": {
  "colab": {
   "provenance": []
  },
  "kernelspec": {
   "display_name": ".venv",
   "language": "python",
   "name": "python3"
  },
  "language_info": {
   "codemirror_mode": {
    "name": "ipython",
    "version": 3
   },
   "file_extension": ".py",
   "mimetype": "text/x-python",
   "name": "python",
   "nbconvert_exporter": "python",
   "pygments_lexer": "ipython3",
   "version": "3.12.8"
  },
  "toc-autonumbering": false
 },
 "nbformat": 4,
 "nbformat_minor": 5
}
