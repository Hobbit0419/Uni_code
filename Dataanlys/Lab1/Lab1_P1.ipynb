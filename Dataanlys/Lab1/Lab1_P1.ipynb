{
 "cells": [
  {
   "cell_type": "markdown",
   "metadata": {
    "id": "fcde470b"
   },
   "source": [
    "# Lab exercise 1: Stochastic simulation and Monte Carlo"
   ]
  },
  {
   "cell_type": "markdown",
   "metadata": {
    "id": "8e82c6d1"
   },
   "source": [
    "## Introduction: Random numbers and statistics"
   ]
  },
  {
   "cell_type": "markdown",
   "metadata": {
    "id": "c8c199b3"
   },
   "source": [
    "**Monte Carlo methods** are based on chance and randomness. In order to understand how they work,\n",
    "you need to understand basic concepts in statistics and probability theory. In the first part of the\n",
    "lab exercise, we review concepts such as random distribution, random numbers and random\n",
    "number generators. You will use **NumPy**, a fundamental package for scientific computing in Python, to review these topics. We will focus on two so-called stochastic\n",
    "distributions, namely the **uniform distribution** and the **normal distribution**."
   ]
  },
  {
   "cell_type": "markdown",
   "metadata": {
    "id": "ca4db337"
   },
   "source": [
    "#### Normal Distribution using NumPy"
   ]
  },
  {
   "cell_type": "markdown",
   "metadata": {
    "id": "1faa4a00"
   },
   "source": [
    "Using numpy, you can generate random numbers distributed according to the **normal distribution** (also known as Gaussian distribution) using the built-in function `numpy.random.normal` or `numpy.random.randn`. There are two important concepts you need to be familiar with when working with the normal distribution, namely the mean (or expected value) and the variance. The following code snippet generates $N=2$ random numbers distributed according to the standard normal distribution, with zero mean and unit variance.   "
   ]
  },
  {
   "cell_type": "markdown",
   "metadata": {
    "id": "bf3e942a"
   },
   "source": [
    "Run the cell to see the printed array of samples drawn from the specified normal distribution. Don't forget to first import the required packages by running the cell at the top of the page."
   ]
  },
  {
   "cell_type": "code",
   "execution_count": 1,
   "metadata": {
    "id": "797c3741"
   },
   "outputs": [],
   "source": [
    "import matplotlib.pyplot as plt\n",
    "import numpy as np"
   ]
  },
  {
   "cell_type": "code",
   "execution_count": 2,
   "metadata": {
    "id": "94b55fa6"
   },
   "outputs": [
    {
     "name": "stdout",
     "output_type": "stream",
     "text": [
      "[-0.45654614 -1.7504199 ]\n"
     ]
    }
   ],
   "source": [
    "N = 2\n",
    "mean = 0\n",
    "variance = 1\n",
    "random_numbers = np.random.normal(mean, np.sqrt(variance), N)\n",
    "print(random_numbers)\n"
   ]
  },
  {
   "cell_type": "markdown",
   "metadata": {
    "id": "9640de0f"
   },
   "source": [
    "To visualize the normal distribution, we can draw a large number of samples and plot them in a histogram. The following function draws $N$ random numbers using the function numpy.random.normal with the specified mean and variance, and plots the generated numbers in a histogram with $30$ bars."
   ]
  },
  {
   "cell_type": "code",
   "execution_count": null,
   "metadata": {
    "id": "510d6464"
   },
   "outputs": [],
   "source": [
    "def draw_histogram(mean=0, variance=1, N=1000):\n",
    "\n",
    "    # draw random numbers according to the specified normal distribution\n",
    "    random_numbers = np.random.normal(mean, np.sqrt(variance), N)\n",
    "\n",
    "    # plot histogram of the drawn samples\n",
    "    plt.figure(1)\n",
    "    plt.hist(random_numbers, bins=30)\n",
    "    plt.title('Histogram of Random Numbers (normal distribution)')\n",
    "    plt.xlabel('Sample')\n",
    "    plt.ylabel('Count')\n",
    "    plt.show()"
   ]
  },
  {
   "cell_type": "markdown",
   "metadata": {
    "id": "e5e12698"
   },
   "source": [
    "Use the function specified above to study the normal distribution. A code snippet calling the function is provided below. Start with i.e. $N=100$ random numbers, and gradually increase the number of samples to $N=100 000$ random numbers. Use the default values for the mean and variance (i.e., mean=0 and variance=1). What do you observe? Don't forget to run the cell definining the function before you call it."
   ]
  },
  {
   "cell_type": "code",
   "execution_count": null,
   "metadata": {
    "id": "8nKa6j3o_Tn9"
   },
   "outputs": [],
   "source": []
  },
  {
   "cell_type": "code",
   "execution_count": null,
   "metadata": {
    "id": "6ec1aae0"
   },
   "outputs": [],
   "source": [
    "draw_histogram(mean=0, variance=1, N=1)"
   ]
  },
  {
   "cell_type": "markdown",
   "metadata": {
    "id": "440a251d"
   },
   "source": [
    "Next, use $N=500$ random numbers, call the function and run the exact same call several times, e.g. use the same\n",
    "number of random numbers and the same mean and variance. Try to see if the histogram\n",
    "looks exactly the same each run, or if it changes. What do you observe?"
   ]
  },
  {
   "cell_type": "code",
   "execution_count": null,
   "metadata": {
    "id": "69cf73a1"
   },
   "outputs": [],
   "source": [
    "# enter your code here"
   ]
  },
  {
   "cell_type": "markdown",
   "metadata": {
    "id": "73b967fa"
   },
   "source": [
    "Use $N=1000$ random numbers, but with different means, for example $10$ and $100$. Try\n",
    "to understand how the mean affects the random numbers by looking at the figures. Use the default variance for each experiment (i.e. variance=1)."
   ]
  },
  {
   "cell_type": "code",
   "execution_count": null,
   "metadata": {
    "id": "debb508e"
   },
   "outputs": [],
   "source": [
    "# enter your code here"
   ]
  },
  {
   "cell_type": "markdown",
   "metadata": {
    "id": "0bec42f5"
   },
   "source": [
    "Carry out the same calculations as before, but use a fixed mean and use multiple\n",
    "values of variance, i.e. $1$, $10$ and $50$. Try to understand how the variance affects the\n",
    "random numbers by looking at the figures."
   ]
  },
  {
   "cell_type": "code",
   "execution_count": null,
   "metadata": {
    "id": "c4a011ae"
   },
   "outputs": [],
   "source": [
    "# enter your code here"
   ]
  },
  {
   "cell_type": "markdown",
   "metadata": {
    "id": "7c5b7255"
   },
   "source": [
    "#### 2. Uniform Distribution using NumPy"
   ]
  },
  {
   "cell_type": "markdown",
   "metadata": {
    "id": "4367aabc"
   },
   "source": [
    "You will now repeat the experiments from the first part, but this time we will generate random numbers using the uniform distribution. We do this using the numpy-function `numpy.random.rand`. When you use this distribution, the expected value and variance are not relevant concepts, and they are therefore not included in the function. The following code snippet generates $N=2$ random numbers distributed according to uniform distribution on the interval $[0, 1)$."
   ]
  },
  {
   "cell_type": "markdown",
   "metadata": {
    "id": "83549551"
   },
   "source": [
    "Run the cell to see the printed array of samples drawn from the uniform distribution."
   ]
  },
  {
   "cell_type": "code",
   "execution_count": null,
   "metadata": {
    "id": "ea86b9b1"
   },
   "outputs": [],
   "source": [
    "N=2\n",
    "random_numbers = np.random.rand(N)\n",
    "print(random_numbers)"
   ]
  },
  {
   "cell_type": "markdown",
   "metadata": {
    "id": "7e1764ff"
   },
   "source": [
    "To visualize the uniform distribution, we can draw a large number of samples and plot them in a histogram. The following function draws $N$ random numbers using the function `numpy.random.rand`, and plots the generated numbers in a histogram with $30$ bars."
   ]
  },
  {
   "cell_type": "code",
   "execution_count": null,
   "metadata": {
    "id": "4e79356b"
   },
   "outputs": [],
   "source": [
    "def draw_histogram_uniform_distribution(N=1000):\n",
    "\n",
    "    # draw random numbers from the uniform distribution over the interval [0, 1)\n",
    "    random_numbers = np.random.rand(N)\n",
    "\n",
    "    # plot histogram of the drawn samples\n",
    "    plt.figure(1)\n",
    "    plt.hist(random_numbers, bins=30)\n",
    "    plt.title('Histogram of Random Numbers (normal distribution)')\n",
    "    plt.xlabel('Sample')\n",
    "    plt.ylabel('Count')\n",
    "    plt.show()"
   ]
  },
  {
   "cell_type": "markdown",
   "metadata": {
    "id": "d1dfb138"
   },
   "source": [
    "Use the function specified above to study the uniform distribution. Start with i.e. $N=100$ random numbers, and gradually increase the number of samples to $=1000 000$ random numbers. What do you observe?"
   ]
  },
  {
   "cell_type": "code",
   "execution_count": null,
   "metadata": {
    "id": "0b4853de"
   },
   "outputs": [],
   "source": [
    "# enter your code here"
   ]
  },
  {
   "cell_type": "markdown",
   "metadata": {
    "id": "4a4e91c4"
   },
   "source": [
    "Use $N=500$ random numbers, call the function and run the exact same call several times, e.g. use the same\n",
    "number of random numbers. Try to see if the histogram\n",
    "looks exactly the same each run, or if it changes. What do you observe?"
   ]
  },
  {
   "cell_type": "code",
   "execution_count": null,
   "metadata": {
    "id": "0fade786"
   },
   "outputs": [],
   "source": [
    "# enter your code here"
   ]
  },
  {
   "cell_type": "markdown",
   "metadata": {
    "id": "58c34418"
   },
   "source": [
    "The function `numpy.random.rand` generates random numbers on the interval $[0, 1)$. If you want a different range, you can shift and multiply the generated random numbers. For example, the code snippet `2*np.random.rand(3)` generates an array of\n",
    "$N=3$ random numbers uniformly distributed over the interval $[0, 2)$.\n",
    "\n",
    "The code snippet below also generates $N=2$ random numbers using the function numpy.random.rand, but the numbers are drawn from a uniform distribution over a different interval. Which interval?"
   ]
  },
  {
   "cell_type": "code",
   "execution_count": null,
   "metadata": {
    "id": "a13eee7b"
   },
   "outputs": [],
   "source": [
    "N=2\n",
    "random_numbers = 5*np.random.rand(N)+1\n",
    "print(random_numbers)"
   ]
  },
  {
   "cell_type": "markdown",
   "metadata": {
    "id": "87a752d6"
   },
   "source": [
    "_**To think about:**_  \n",
    "* Suggest a real life ‘process’ that you think is an example of\n",
    "the normal distribution. If you want to simulate that\n",
    "kind of process with random numbers, it’s reasonable to use\n",
    "random numbers from the normal distribution\n",
    "* What is the difference between uniform and normal\n",
    "distribution, judging from the random numbers (and figures)\n",
    "you generated?"
   ]
  }
 ],
 "metadata": {
  "colab": {
   "provenance": []
  },
  "kernelspec": {
   "display_name": ".venv",
   "language": "python",
   "name": "python3"
  },
  "language_info": {
   "codemirror_mode": {
    "name": "ipython",
    "version": 3
   },
   "file_extension": ".py",
   "mimetype": "text/x-python",
   "name": "python",
   "nbconvert_exporter": "python",
   "pygments_lexer": "ipython3",
   "version": "3.10.12"
  },
  "toc-autonumbering": false
 },
 "nbformat": 4,
 "nbformat_minor": 5
}
