{
 "cells": [
  {
   "cell_type": "markdown",
   "metadata": {
    "id": "ec9ce337"
   },
   "source": [
    "# Lab exercise 1: Stochastic simulation and Monte Carlo"
   ]
  },
  {
   "cell_type": "markdown",
   "metadata": {
    "id": "48373d00"
   },
   "source": [
    "## Programming: Brownian motion"
   ]
  },
  {
   "cell_type": "markdown",
   "metadata": {
    "id": "d0ec1d9b"
   },
   "source": [
    "**Brownian motion** or **random walk** is the name of a type of random motion. Brownian motion\n",
    "can be used in **Monte Carlo simulations** of a diverse set of phenomena, including particle (i.e. molecule) simulations\n",
    "and simulations of the financial market."
   ]
  },
  {
   "cell_type": "markdown",
   "metadata": {
    "id": "283f6fec"
   },
   "source": [
    "#### Brief Introduction:"
   ]
  },
  {
   "cell_type": "markdown",
   "metadata": {
    "id": "8f22b78e"
   },
   "source": [
    "In the dice simulation-part of this lab, you worked with a simple Monte Carlo simulation. The ‘process’ in that case was not very complicated, but you can use the same reasoning to simulate complex stochastic processes arising in other problem settings. Here, we will use a stochastic model to simulate how a large particle moves in an\n",
    "environment of small molecules. The stochastic process here is the so called Brownian motion."
   ]
  },
  {
   "cell_type": "markdown",
   "metadata": {
    "id": "74c3fa13"
   },
   "source": [
    "#### Tasks:"
   ]
  },
  {
   "cell_type": "markdown",
   "metadata": {
    "id": "3f79e46d"
   },
   "source": [
    "a) In the cell below you will find the function `BrownMotion`. To get a feeling for the process, call the function a few times with initial point $(0, 0)$ and end time 1s. Vary the time step $h$ (try for example $0.1$, $0.01$ and $0.001$). Plot the trajectory in 2D. Run multiple different simulations with the same parameters and observe the variation in the generated trajectory. Read the comments in the function to understand how it is used, and how to plot the trajectories in 2D.\n"
   ]
  },
  {
   "cell_type": "code",
   "execution_count": 61,
   "metadata": {
    "id": "cba077e6"
   },
   "outputs": [],
   "source": [
    "import matplotlib.pyplot as plt\n",
    "import numpy as np"
   ]
  },
  {
   "cell_type": "code",
   "execution_count": 62,
   "metadata": {
    "id": "5ff916f6"
   },
   "outputs": [],
   "source": [
    "def BrownMotion(initial_pos, end_time, time_step):\n",
    "    \"\"\"n-dimensional brownian motion (also called Wiener process).\n",
    "\n",
    "    Input:  initial_pos - initial point, for example np.zeros([dim,1]) \n",
    "            end_time    - the final time in seconds\n",
    "            time_step   - time step\n",
    "    Output: X           - the trajectory. The first column, X[0,:], corresponds to\n",
    "                          initial position, 2nd column, X[1, :] to the second position, and so forth.             \n",
    "    \"\"\"\n",
    "    X = initial_pos\n",
    "    n, m = initial_pos.shape\n",
    "    k = 0\n",
    "    while k*time_step <= end_time:\n",
    "        chance = np.sqrt(time_step)*np.random.normal(0,1,n)\n",
    "        new_pos = X[:,-1] + chance \n",
    "        X = np.column_stack((X,new_pos)) \n",
    "        k += 1\n",
    "    return X"
   ]
  },
  {
   "cell_type": "code",
   "execution_count": 66,
   "metadata": {
    "id": "4bf24c07"
   },
   "outputs": [],
   "source": [
    "# enter your code here\n",
    "#    To plot the trajectory in 2D, you can use:\n",
    "#    plt.plot(X[0,:], X[1,:])\n",
    "#    plt.show()"
   ]
  },
  {
   "cell_type": "markdown",
   "metadata": {
    "id": "307e74d5"
   },
   "source": [
    "b) Run the simulation in 3D and plot the resulting 3D-trajectory. Run multiple different simulations and observe the variations in the generated trajectory. Hint: Sometimes the default viewing angle is not optimal. In this case, we can use the `view_init` method to rotate the 3D-plot. For example, you can use the command `ax.view_init(35, 35)` to set an elevation of 35 degrees and an azimuth of 35 degrees."
   ]
  },
  {
   "cell_type": "code",
   "execution_count": null,
   "metadata": {
    "id": "f2e18bd9"
   },
   "outputs": [],
   "source": [
    "# enter your code here\n",
    "#    To plot the trajectory in 3D, you can use:\n",
    "#  ax = plt.axes(projection='3d')\n",
    "#  ax.plot3D(X[0,:], X[1,:], X[2,:])\n",
    "#  plt.show()\n"
   ]
  },
  {
   "cell_type": "markdown",
   "metadata": {
    "id": "e7dd6a49"
   },
   "source": [
    "c) As you have seen, each new call to brown generates a different trajectory. We now want to\n",
    "study the behavior of particles described by the process simulated by the function brown. On average,\n",
    "how far from the origin will such a particle be located after t = 1s? We can try to find that\n",
    "out by generating many trajectories and calculating the mean distance. That simulation will\n",
    "be a Monte Carlo simulation. Write a code that achieves this, calling the function brown.\n",
    "\n",
    "The general algorithm for a Monte Carlo simulation is:"
   ]
  },
  {
   "cell_type": "markdown",
   "metadata": {
    "id": "cc931895-5421-400d-8ad6-4bacb38fe9ca"
   },
   "source": [
    "    for i = 1:N\n",
    "       Simulate one stochastic process. Store in vector.\n",
    "    end\n",
    "    Compute the mean of the vector."
   ]
  },
  {
   "cell_type": "markdown",
   "metadata": {
    "id": "93c8a0f5"
   },
   "source": [
    "In this particular case, the stochastic process is to simulate the distance between the starting\n",
    "point and the end point of the particle trajectory. To compute such a distance, you can use the command `numpy.linalg.norm(X[:,-1] - X[:,0])`, where `X[:,-1]` is the end point and `X[:,0]` is the starting point of the trajectory."
   ]
  },
  {
   "cell_type": "code",
   "execution_count": null,
   "metadata": {
    "id": "bf4b6796"
   },
   "outputs": [],
   "source": [
    "# write your Monte Carlo simulation here"
   ]
  },
  {
   "cell_type": "markdown",
   "metadata": {
    "id": "9a174870"
   },
   "source": [
    "d) If you have time, try to estimate and look at the distribution of the mean (or expected value)\n",
    "using a histogram in the same way as you did in the dice-simulation part of this lab exercise.\n",
    "Run many Monte Carlo simulations, i.e. run the algorithm above many times, and\n",
    "save all mean-values in a vector. Plot all mean-values in a histogram using the command\n",
    "`plt.hist(mean_vector, bins=30)`."
   ]
  },
  {
   "cell_type": "code",
   "execution_count": null,
   "metadata": {
    "id": "542c3098"
   },
   "outputs": [],
   "source": [
    "# enter your code here"
   ]
  },
  {
   "cell_type": "markdown",
   "metadata": {
    "id": "e8f44956"
   },
   "source": [
    "_**To think about:**_  \n",
    "*  If you did the last part (the histogram), what distribution will\n",
    "you approach when using many mean-values?\n",
    "* Would it be much more complicated to compute the distance\n",
    "of a particle moving in 10D? You do not need to grasp what a\n",
    "10D motion means in reality, but with a more complicated\n",
    "model, each dimension could be the price of a share in an\n",
    "equity portfolio instead of the position of a particle (and an\n",
    "equity portfolio with 10 shares is not unusual)."
   ]
  }
 ],
 "metadata": {
  "colab": {
   "provenance": []
  },
  "kernelspec": {
   "display_name": "Python 3",
   "language": "python",
   "name": "python3"
  },
  "language_info": {
   "codemirror_mode": {
    "name": "ipython",
    "version": 3
   },
   "file_extension": ".py",
   "mimetype": "text/x-python",
   "name": "python",
   "nbconvert_exporter": "python",
   "pygments_lexer": "ipython3",
   "version": "3.8.5"
  },
  "toc-autonumbering": false
 },
 "nbformat": 4,
 "nbformat_minor": 5
}
