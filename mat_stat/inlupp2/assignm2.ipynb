{
 "cells": [
  {
   "cell_type": "markdown",
   "id": "f4f34da6-7245-457f-8205-8213cccd9b76",
   "metadata": {},
   "source": [
    "# Uppgift 1\n",
    "\n",
    "Vid planering av en forskningsstudie används simulerade slumptal $x_1,...,x_n$ från en viss slumpvariabel $X$, vilka beräknas med den så kallade inversmetoden enligt $x_k=6(1-(1-u_k)^{1/2})$, där u-värdena är rektangelfördelade slumptal på intervallet [0,1].  \n",
    "\n",
    "## 1a) \n",
    "    Beräkna täthetsfunktionen för X\n",
    "\n",
    "## 1b)\n",
    "    Ta fram 600 slumptal från X-fördelningen och rita upp ett normerat histogram för dessa.  Jämför med resultatet i uppgift a)\n"
   ]
  },
  {
   "cell_type": "markdown",
   "id": "6559e940",
   "metadata": {},
   "source": [
    "# Uppgift 2\n",
    "\n",
    "    Maxwell-Boltzmannfördelningen beskriver den typiska partikelhastigheten hos ett stort system av kolliderande partiklar. Fördelningen kan simuleras i python med paketet stats med kommandot maxwell.rps(a,n) där a är en parameter och n är det önskade antalet slumptal.\n",
    "\n",
    "## 2a) \n",
    "    Undersök med hjälp av simulering hur den typiska fördelningen för partikelhastighet i kvadrat ser ut. Använd några olika parametervärden för a för att se dess påverkan. \n",
    "   \n",
    "   "
   ]
  },
  {
   "cell_type": "markdown",
   "id": "986f7a22-804a-40f3-955d-4677c580d1b9",
   "metadata": {
    "tags": []
   },
   "source": [
    "# Uppgift 3\n",
    "\n",
    "## 3a)\n",
    "    I ett experiment utsattes objekt med olika massor för samma (okända) kraft varvid accelerationen uppmättes.  Resultaten finns i datafilen constantforce.csv. Vi vill analysera resultatet med hjälp av linjär regression. Vilken storhet bör uppfattas som oberoende, vilken som beroende? Varför?  Ta fram en punktskattning av kraften och konstruera ett lämpligt konfidensintervall.   \n",
    "\n",
    "## 3b)\n",
    "     Illustrera undersökningen grafiskt på lämpligt sätt.  Beräkna förklaringsgraden och ge en tolkning.\n",
    "     "
   ]
  },
  {
   "cell_type": "markdown",
   "id": "4bd67725",
   "metadata": {},
   "source": [
    "# Uppgift 4\n",
    "    Ladda upp datafilen IceCube40StringData.csv. Filen innehåller data för neutrino-observationer gjorda vid anläggningen IceCube i Antarktis.   \n",
    "\n",
    "## 4a) \n",
    "    Använd datamaterialet, speciellt kolumnen MJD, för att ta fram en lista på tidsmellanrummen mellan registrerade neutrinoankomster. Ta fram grundläggande beskrivande statistik, dvs medelvärde, lämpligt spridningsmått, variationskoefficient.\n",
    "\n",
    "## 4b)\n",
    "    Undersök statistiskt/grafiskt om det är rimligt att uppfatta mellanankomsttiderna som oberoende, exponentialfördelade stokastiska variabler. Använd därvid momentmetoden för att skatta exponentialfördelningens intensitet. Beskriv kortfattat vad som kan tala för eller emot den föreslagna modellen.  "
   ]
  }
 ],
 "metadata": {
  "kernelspec": {
   "display_name": "Python 3 (ipykernel)",
   "language": "python",
   "name": "python3"
  },
  "language_info": {
   "codemirror_mode": {
    "name": "ipython",
    "version": 3
   },
   "file_extension": ".py",
   "mimetype": "text/x-python",
   "name": "python",
   "nbconvert_exporter": "python",
   "pygments_lexer": "ipython3",
   "version": "3.9.7"
  }
 },
 "nbformat": 4,
 "nbformat_minor": 5
}
