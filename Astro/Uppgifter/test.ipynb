{
 "cells": [
  {
   "cell_type": "code",
   "execution_count": 7,
   "id": "a37241bb",
   "metadata": {},
   "outputs": [
    {
     "name": "stdout",
     "output_type": "stream",
     "text": [
      "229.086765276777\n"
     ]
    }
   ],
   "source": [
    "import numpy as np\n",
    "\n",
    "r = 10 * 10**((17.5+19.3)/5)\n",
    "\n",
    "print(r/1000000)\n",
    "\n"
   ]
  },
  {
   "cell_type": "code",
   "execution_count": 8,
   "id": "f7e5a9a6",
   "metadata": {},
   "outputs": [
    {
     "name": "stdout",
     "output_type": "stream",
     "text": [
      "11601.724390894275\n"
     ]
    }
   ],
   "source": [
    "l0 = 615.0\n",
    "l1 = 638.8\n",
    "c = 299792.458\n",
    "\n",
    "v = c*((l1/l0)-1)\n",
    "\n",
    "print(v)\n"
   ]
  },
  {
   "cell_type": "code",
   "execution_count": 3,
   "id": "76e9a189",
   "metadata": {},
   "outputs": [
    {
     "name": "stdout",
     "output_type": "stream",
     "text": [
      "74.63744046859063\n"
     ]
    }
   ],
   "source": [
    "msun = 1.99e30\n",
    "G = 6.67e-11\n",
    "c = 299792458\n",
    "\n",
    "r = (2*G*msun*3.78e9)/c**2\n",
    "\n",
    "print(r/1.4959e11)\n"
   ]
  },
  {
   "cell_type": "code",
   "execution_count": 4,
   "id": "6c40ae5c",
   "metadata": {},
   "outputs": [
    {
     "name": "stdout",
     "output_type": "stream",
     "text": [
      "755.5454837606093\n"
     ]
    }
   ],
   "source": [
    "sigma = 5.670374419e-8\n",
    "\n",
    "rho = (4*sigma*20**4)/c\n",
    "\n",
    "print(rho*6241509074461)"
   ]
  },
  {
   "cell_type": "code",
   "execution_count": 5,
   "id": "8aa94c6e",
   "metadata": {},
   "outputs": [
    {
     "name": "stdout",
     "output_type": "stream",
     "text": [
      "8.794885628810128\n"
     ]
    }
   ],
   "source": [
    "# Question 11\n",
    "\n",
    "N = 34\n",
    "P = 28\n",
    "\n",
    "mp = 1.672621924e-27\n",
    "mn =1.674927498e-27\n",
    "me = 9.1093837015e-31\n",
    "m_nickel62 = 1.028344e-25\n",
    "\n",
    "m_nucleons = N*mn + P*mp\n",
    "m_nucleus = m_nickel62 - P*me\n",
    "\n",
    "m_diff = m_nucleons - m_nucleus\n",
    "\n",
    "binding_energy = m_diff*c**2\n",
    "\n",
    "per_nucleon = binding_energy/(N+P)\n",
    "\n",
    "print(per_nucleon*6241509074461)\n",
    "\n"
   ]
  },
  {
   "cell_type": "code",
   "execution_count": null,
   "id": "8cece497",
   "metadata": {},
   "outputs": [
    {
     "name": "stdout",
     "output_type": "stream",
     "text": [
      "2.2795890371135172\n",
      "529.7286226162593\n"
     ]
    }
   ],
   "source": [
    "# Question 14\n",
    "\n",
    "G = 6.674e-11\n",
    "mh = 1.00794\n",
    "u = 1.6605390e-27\n",
    "k =1.3806488e-23\n",
    "msun = 1.988475e30\n",
    "\n",
    "Tgmc = 100\n",
    "ngmc = 1e14\n",
    "mugmc = mh*2*u\n",
    "rhogmc = ngmc * mugmc\n",
    "\n",
    "Th = 30\n",
    "nh = 8e8\n",
    "muh = mh*u\n",
    "rhoh = nh * muh\n",
    "\n",
    "jeans = ((3/(4*np.pi))**(1/2)) * (((5*k)/(G*mh))**(3/2))\n",
    "jeans = jeans/msun\n",
    "\n",
    "gmc = jeans*np.sqrt((Tgmc**3)/((mugmc**3)*rhogmc))\n",
    "h = jeans*np.sqrt((Th**3)/((muh**3)*rhoh))\n",
    "\n",
    "print(gmc)\n",
    "print(h)\n"
   ]
  }
 ],
 "metadata": {
  "kernelspec": {
   "display_name": ".venv",
   "language": "python",
   "name": "python3"
  },
  "language_info": {
   "codemirror_mode": {
    "name": "ipython",
    "version": 3
   },
   "file_extension": ".py",
   "mimetype": "text/x-python",
   "name": "python",
   "nbconvert_exporter": "python",
   "pygments_lexer": "ipython3",
   "version": "3.10.12"
  }
 },
 "nbformat": 4,
 "nbformat_minor": 5
}
