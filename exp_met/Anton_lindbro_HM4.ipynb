{
 "cells": [
  {
   "cell_type": "markdown",
   "id": "bdd771e9",
   "metadata": {},
   "source": [
    "# Hemuppgift 4"
   ]
  },
  {
   "cell_type": "markdown",
   "id": "c5cfd690",
   "metadata": {},
   "source": [
    "### Del 1"
   ]
  },
  {
   "cell_type": "markdown",
   "id": "db31aafd",
   "metadata": {},
   "source": [
    "I Hemuppgift 2 härledde du ett uttryck för tyngdacceleration ($g$) som funktion av periodtid ($T$) och längd ($l$) för en pendel:\n",
    "\n",
    "$g = 4 \\pi^2 \\frac{l}{T^2}$\n",
    "\n",
    "Härled de två partiella derivatorna och använd $\\LaTeX$ för att redovisa uttrycken:"
   ]
  },
  {
   "cell_type": "markdown",
   "id": "b6792787",
   "metadata": {},
   "source": [
    "$\\frac{\\partial g}{\\partial l} = $"
   ]
  },
  {
   "cell_type": "markdown",
   "id": "7bb6a469",
   "metadata": {},
   "source": [
    "$\\frac{\\partial g}{\\partial T} = $"
   ]
  },
  {
   "cell_type": "markdown",
   "id": "4a5060fe",
   "metadata": {},
   "source": [
    "Härled ett uttryck för osäkerheten i tyngdaccelerationen $\\delta g$ med hjälp av Felfortplantningsformeln:"
   ]
  },
  {
   "cell_type": "markdown",
   "id": "e46ae443",
   "metadata": {},
   "source": [
    "$\\delta g = \\sqrt{\\left( \\frac{\\partial g}{\\partial l} \\right)^2 \\delta l^2 + \\left( \\frac{\\partial g}{\\partial T} \\right)^2 \\delta T^2}$ = "
   ]
  },
  {
   "cell_type": "markdown",
   "id": "3f6c9bd5",
   "metadata": {},
   "source": [
    "Visa att resultatet är identiskt med det du härledde i Hemuppgift 3, antingen genom att förenkla uttrycken eller genom att jämföra de beräknade osäkerheterna med de två metoderna."
   ]
  },
  {
   "cell_type": "markdown",
   "id": "66c027bd",
   "metadata": {},
   "source": []
  },
  {
   "cell_type": "markdown",
   "id": "7b53eafd",
   "metadata": {},
   "source": [
    "### **Frivillig extrauppgift**"
   ]
  },
  {
   "cell_type": "markdown",
   "id": "6453242f",
   "metadata": {},
   "source": [
    "Precis som för så mycket annat finns det färdiga Python-paket för att hantera osäkerheter i mätdata. Ett sådant är paketet *uncertainties*:\n",
    "<https://pythonhosted.org/uncertainties/index.html>\n",
    "\n",
    "Detta paket kommer dock inte med som standard i Anaconda. För att använda *uncertainties* måste du först installera det. Gör detta genom att öppna **Anaconda Navigator** och gå till **Environments**. Clicka på **base(root)** och välj **Open Termanal**.\n",
    "\n",
    "![Anaconda Navigator](anaconda.pdf \"Anaconda Navigator\")\n",
    "\n",
    "I terminalfönstret som öppnas skriver du:\n",
    "\n",
    "`pip install --upgrade uncertainties`\n",
    "\n",
    "och trycker **Enter**. När installationen är klar kan du börja använda *uncertainties*."
   ]
  },
  {
   "cell_type": "markdown",
   "id": "7fa2fe69",
   "metadata": {},
   "source": [
    "För att använda *uncertainties* måste vi först importera det. För säkerhetsskull importerar vi också våra två standardpaket: *numpy* och *matplotlib*"
   ]
  },
  {
   "cell_type": "code",
   "execution_count": null,
   "id": "2c9a5541",
   "metadata": {},
   "outputs": [],
   "source": [
    "import numpy as np\n",
    "import matplotlib.pyplot as plt\n",
    "from uncertainties import ufloat"
   ]
  },
  {
   "cell_type": "markdown",
   "id": "bb7ca80a",
   "metadata": {},
   "source": [
    "Med ufloat kan vi spara variabeler i formatet $x \\pm \\delta x$. Prova att skriva\n",
    "\n",
    "`x = ufloat(0.20, 0.01)\n",
    "print(x)`"
   ]
  },
  {
   "cell_type": "code",
   "execution_count": null,
   "id": "620a9e75",
   "metadata": {},
   "outputs": [],
   "source": [
    "\n"
   ]
  },
  {
   "cell_type": "markdown",
   "id": "b053c69d",
   "metadata": {},
   "source": [
    "Vi kan sedan genomföra beräkningar med variabeln och osäkerheten propageras (fortplantas) korrekt. Prova till exampel:\n",
    "\n",
    "`y = (4*x**2)/(3*x+1)\n",
    "print(y)`"
   ]
  },
  {
   "cell_type": "code",
   "execution_count": null,
   "id": "5f85a0e6",
   "metadata": {},
   "outputs": [],
   "source": []
  },
  {
   "cell_type": "markdown",
   "id": "3dd19c98",
   "metadata": {},
   "source": [
    "Mer avancerade matematiska uttryck som exempelvis trigonometriska funktioner kräver att vi importerar modulen *umath*:"
   ]
  },
  {
   "cell_type": "code",
   "execution_count": null,
   "id": "d114f6f0",
   "metadata": {},
   "outputs": [],
   "source": [
    "from uncertainties.umath import *"
   ]
  },
  {
   "cell_type": "markdown",
   "id": "72dcfd1e",
   "metadata": {},
   "source": [
    "Prova att skriva exempelvis\n",
    "\n",
    "`z = sin(x**4) + 2*cos(x**3)\n",
    "print(z)`"
   ]
  },
  {
   "cell_type": "code",
   "execution_count": null,
   "id": "521e7d28",
   "metadata": {},
   "outputs": [],
   "source": []
  },
  {
   "cell_type": "markdown",
   "id": "dfbcb6b6",
   "metadata": {},
   "source": [
    "Om vi bara vill ha mätvärdet respektive osäkerheten kan vi använda `.n` respektive `.s`:\n",
    "\n",
    "`print(z.n)\n",
    "print(z.s)`"
   ]
  },
  {
   "cell_type": "code",
   "execution_count": null,
   "id": "9e3e3096",
   "metadata": {},
   "outputs": [],
   "source": []
  },
  {
   "cell_type": "markdown",
   "id": "20553565",
   "metadata": {},
   "source": [
    "*uncertainties* kan också hantera arrayer från *numpy* men det kräver ytterligare ett paket:"
   ]
  },
  {
   "cell_type": "code",
   "execution_count": null,
   "id": "9873466a",
   "metadata": {},
   "outputs": [],
   "source": [
    "from uncertainties import unumpy"
   ]
  },
  {
   "cell_type": "markdown",
   "id": "1294108a",
   "metadata": {},
   "source": [
    "Med *unumpy* kan vi skapa arrayer av data med osäkerheter som vi kan propagera genom att anropa `unumpy.uarray([],[])`:"
   ]
  },
  {
   "cell_type": "code",
   "execution_count": null,
   "id": "bc030e0b",
   "metadata": {},
   "outputs": [],
   "source": [
    "X = unumpy.uarray([4,2,6,23,6],[1,0.2,3,6,2])\n",
    "print(X)\n",
    "\n",
    "Y = X**2\n",
    "print(Y)"
   ]
  },
  {
   "cell_type": "markdown",
   "id": "90c60af8",
   "metadata": {},
   "source": [
    "Om vi bara vill ha mätvärdet respektive osäkerheten kan vi använda `unumpy.nominal_values()` respektive `unumpy.std_devs(mat)`:"
   ]
  },
  {
   "cell_type": "code",
   "execution_count": null,
   "id": "7b04fd9d",
   "metadata": {},
   "outputs": [],
   "source": [
    "print(unumpy.nominal_values(Y))\n",
    "print(unumpy.std_devs(Y))"
   ]
  },
  {
   "cell_type": "markdown",
   "id": "cb7cab10",
   "metadata": {},
   "source": [
    "**Uppgift**\n",
    "\n",
    "Läs in data från pendel.csv. Skapa en `unumpy.uarray`för T och en för l och använd dessa till att beräkna $\\delta g$. Jämför reultatet med det du fick i Hemuppgit 3."
   ]
  },
  {
   "cell_type": "code",
   "execution_count": null,
   "id": "b39359e9",
   "metadata": {},
   "outputs": [],
   "source": [
    "data = np.genfromtxt('pendel.csv', delimiter=',', skip_header=1, usecols = (2, 3, 4, 5))"
   ]
  },
  {
   "cell_type": "code",
   "execution_count": null,
   "id": "7918f614",
   "metadata": {},
   "outputs": [],
   "source": [
    "l = unumpy.uarray(data[:,0],data[:,1])\n",
    "T = ..."
   ]
  },
  {
   "cell_type": "code",
   "execution_count": null,
   "id": "afad7c58",
   "metadata": {},
   "outputs": [],
   "source": [
    "g = "
   ]
  },
  {
   "cell_type": "code",
   "execution_count": null,
   "id": "a672b976",
   "metadata": {},
   "outputs": [],
   "source": [
    "plt.errorbar(..."
   ]
  },
  {
   "cell_type": "code",
   "execution_count": null,
   "id": "beb664a5",
   "metadata": {},
   "outputs": [],
   "source": []
  }
 ],
 "metadata": {
  "kernelspec": {
   "display_name": "Python 3 (ipykernel)",
   "language": "python",
   "name": "python3"
  },
  "language_info": {
   "codemirror_mode": {
    "name": "ipython",
    "version": 3
   },
   "file_extension": ".py",
   "mimetype": "text/x-python",
   "name": "python",
   "nbconvert_exporter": "python",
   "pygments_lexer": "ipython3",
   "version": "3.8.13"
  }
 },
 "nbformat": 4,
 "nbformat_minor": 5
}
