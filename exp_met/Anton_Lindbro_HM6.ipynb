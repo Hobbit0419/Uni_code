{
 "cells": [
  {
   "cell_type": "markdown",
   "id": "bdd771e9",
   "metadata": {},
   "source": [
    "# Hemuppgift 6"
   ]
  },
  {
   "cell_type": "code",
   "execution_count": 2,
   "id": "abf7562d",
   "metadata": {},
   "outputs": [],
   "source": [
    "import numpy as np\n",
    "import matplotlib.pyplot as plt\n",
    "from scipy import stats as st\n",
    "from scipy.optimize import least_squares\n",
    "\n",
    "font = {'family' : 'normal',\n",
    "        'weight' : 'normal',\n",
    "        'size'   : 14}\n",
    "plt.rc('font', **font)"
   ]
  },
  {
   "cell_type": "markdown",
   "id": "db31aafd",
   "metadata": {},
   "source": [
    "Kör koden nedan för att importera datafilen och beräkna g."
   ]
  },
  {
   "cell_type": "code",
   "execution_count": 3,
   "id": "bb9dc7f4",
   "metadata": {},
   "outputs": [],
   "source": [
    "data = np.genfromtxt('pendel6.csv', delimiter=',', skip_header=1, usecols = (2, 3, 4, 5))\n",
    "\n",
    "l = data[:,0]\n",
    "dl = data[:,1]\n",
    "T = data[:,2]/10 \n",
    "dT = data[:,3]/10\n",
    "\n",
    "g = 4*np.pi**2*l/T**2"
   ]
  },
  {
   "cell_type": "markdown",
   "id": "7c73466b",
   "metadata": {},
   "source": [
    "Skapa ett histogram över värdena på g. Använd funktionen:\n",
    "\n",
    "`hist, bin_edges = np.histogram(g, bins=BINS)`\n",
    "\n",
    "Där du byter ut `BINS` mot en lista eller en np.array med dina bin-gränser. Du kan exempelvis skapa en lista med:'\n",
    "\n",
    "`BINS = [6,7,8,9,10,11,12,13]`\n",
    "\n",
    "eller en array med:\n",
    "\n",
    "`BINS = np.arange(6,14,1) #Skapar en array från 6 till 13 i steg om 1`\n",
    "\n",
    "Skriv ut variablerna `hist` och `bin_edges`. Testa olika bingränser."
   ]
  },
  {
   "cell_type": "code",
   "execution_count": 6,
   "id": "ee2d9934",
   "metadata": {},
   "outputs": [],
   "source": [
    "BINS = np.arange(6,12,0.8)\n",
    "\n",
    "hist, bin_edges = np.histogram(g, bins=BINS)"
   ]
  },
  {
   "cell_type": "markdown",
   "id": "a58f39e4",
   "metadata": {},
   "source": [
    "Det går att skapa en graf över histogrammet vi skapat med `np.histogram()` med exempelvis `plt.bar()`, men det är lättare att låta `matplotlib` skapa histogrammet och grafen direkt. Använd funktionen:\n",
    "\n",
    "`plt.hist(g, bins = BINS, density=False)`\n",
    "\n",
    "med olika antal bins och olika bin-bredder. Välj det antal bins och bin-bredder som du anser lämpligast.\n",
    "\n",
    "Testa också att ändra flaggan `density` till `True`. Vad blev skillnaden?"
   ]
  },
  {
   "cell_type": "markdown",
   "id": "7f206035",
   "metadata": {},
   "source": [
    "### Svar:"
   ]
  },
  {
   "cell_type": "code",
   "execution_count": 7,
   "id": "8031c7a2",
   "metadata": {},
   "outputs": [
    {
     "name": "stderr",
     "output_type": "stream",
     "text": [
      "findfont: Font family 'normal' not found.\n",
      "findfont: Font family 'normal' not found.\n",
      "findfont: Font family 'normal' not found.\n",
      "findfont: Font family 'normal' not found.\n",
      "findfont: Font family 'normal' not found.\n",
      "findfont: Font family 'normal' not found.\n",
      "findfont: Font family 'normal' not found.\n",
      "findfont: Font family 'normal' not found.\n",
      "findfont: Font family 'normal' not found.\n",
      "findfont: Font family 'normal' not found.\n",
      "findfont: Font family 'normal' not found.\n",
      "findfont: Font family 'normal' not found.\n",
      "findfont: Font family 'normal' not found.\n",
      "findfont: Font family 'normal' not found.\n",
      "findfont: Font family 'normal' not found.\n",
      "findfont: Font family 'normal' not found.\n",
      "findfont: Font family 'normal' not found.\n"
     ]
    },
    {
     "name": "stderr",
     "output_type": "stream",
     "text": [
      "findfont: Font family 'normal' not found.\n",
      "findfont: Font family 'normal' not found.\n",
      "findfont: Font family 'normal' not found.\n",
      "findfont: Font family 'normal' not found.\n",
      "findfont: Font family 'normal' not found.\n",
      "findfont: Font family 'normal' not found.\n",
      "findfont: Font family 'normal' not found.\n",
      "findfont: Font family 'normal' not found.\n",
      "findfont: Font family 'normal' not found.\n",
      "findfont: Font family 'normal' not found.\n",
      "findfont: Font family 'normal' not found.\n",
      "findfont: Font family 'normal' not found.\n",
      "findfont: Font family 'normal' not found.\n",
      "findfont: Font family 'normal' not found.\n",
      "findfont: Font family 'normal' not found.\n",
      "findfont: Font family 'normal' not found.\n",
      "findfont: Font family 'normal' not found.\n",
      "findfont: Font family 'normal' not found.\n",
      "findfont: Font family 'normal' not found.\n",
      "findfont: Font family 'normal' not found.\n",
      "findfont: Font family 'normal' not found.\n",
      "findfont: Font family 'normal' not found.\n",
      "findfont: Font family 'normal' not found.\n",
      "findfont: Font family 'normal' not found.\n",
      "findfont: Font family 'normal' not found.\n",
      "findfont: Font family 'normal' not found.\n",
      "findfont: Font family 'normal' not found.\n",
      "findfont: Font family 'normal' not found.\n",
      "findfont: Font family 'normal' not found.\n",
      "findfont: Font family 'normal' not found.\n",
      "findfont: Font family 'normal' not found.\n",
      "findfont: Font family 'normal' not found.\n",
      "findfont: Font family 'normal' not found.\n"
     ]
    },
    {
     "data": {
      "image/png": "[encoded data removed]",
      "text/plain": [
       "<Figure size 640x480 with 1 Axes>"
      ]
     },
     "metadata": {},
     "output_type": "display_data"
    }
   ],
   "source": [
    "\n",
    "fig, ax = plt.subplots()\n",
    "ax.hist(g, bins = BINS, density = True)\n",
    "ax.set_xlabel('g [m/s²]')\n",
    "ax.set_ylabel('Sannolikhets fördelning')\n",
    "plt.show()"
   ]
  },
  {
   "cell_type": "markdown",
   "id": "71c5d8f4",
   "metadata": {},
   "source": [
    "Ökat antal bins ger såklart högre upplösning, medans density flaggan om True normerar histogrammet"
   ]
  },
  {
   "cell_type": "markdown",
   "id": "35b43626",
   "metadata": {},
   "source": [
    "Vi vill nu skapa en graf som visar data i ett histogram tillsammans med en normalfördelning som beskriver data.\n",
    "- Skapa ett normaliserat histogram över g med `plt.hist()` med bin-bredden 0.2.\n",
    "- Använd `np.arange()` för att skapa en array med x-värden från minsta värdet i g till största värdet i g. (Tips: minsta värdet i en g kan du bestämma med `g.min()`)\n",
    "- Skapa en egen funktion på formen $G(x) = \\frac{1}{\\sigma \\sqrt{2\\pi}} e^{\\frac{-(x-X)^2}{2\\sigma^2}}$ där $X$ och $\\sigma$ är parametrar som du bestämmer värdet på. (Tips: exponetialfunktioner skapar du med `np.exp()`)\n",
    "- Rita in din funktion $G(x)$ i samma graf som histogrammet.\n",
    "- Prova dig fram till värden på de fria parametrarna tills du hittar något du tycker passar ok.\n",
    "\n"
   ]
  },
  {
   "cell_type": "code",
   "execution_count": 44,
   "id": "831dbdd8",
   "metadata": {},
   "outputs": [
    {
     "name": "stderr",
     "output_type": "stream",
     "text": [
      "findfont: Font family 'normal' not found.\n",
      "findfont: Font family 'normal' not found.\n",
      "findfont: Font family 'normal' not found.\n",
      "findfont: Font family 'normal' not found.\n",
      "findfont: Font family 'normal' not found.\n",
      "findfont: Font family 'normal' not found.\n",
      "findfont: Font family 'normal' not found.\n",
      "findfont: Font family 'normal' not found.\n",
      "findfont: Font family 'normal' not found.\n",
      "findfont: Font family 'normal' not found.\n",
      "findfont: Font family 'normal' not found.\n",
      "findfont: Font family 'normal' not found.\n",
      "findfont: Font family 'normal' not found.\n",
      "findfont: Font family 'normal' not found.\n",
      "findfont: Font family 'normal' not found.\n",
      "findfont: Font family 'normal' not found.\n",
      "findfont: Font family 'normal' not found.\n",
      "findfont: Font family 'normal' not found.\n",
      "findfont: Font family 'normal' not found.\n",
      "findfont: Font family 'normal' not found.\n",
      "findfont: Font family 'normal' not found.\n",
      "findfont: Font family 'normal' not found.\n",
      "findfont: Font family 'normal' not found.\n",
      "findfont: Font family 'normal' not found.\n",
      "findfont: Font family 'normal' not found.\n",
      "findfont: Font family 'normal' not found.\n",
      "findfont: Font family 'normal' not found.\n",
      "findfont: Font family 'normal' not found.\n",
      "findfont: Font family 'normal' not found.\n",
      "findfont: Font family 'normal' not found.\n",
      "findfont: Font family 'normal' not found.\n",
      "findfont: Font family 'normal' not found.\n",
      "findfont: Font family 'normal' not found.\n",
      "findfont: Font family 'normal' not found.\n",
      "findfont: Font family 'normal' not found.\n"
     ]
    },
    {
     "data": {
      "image/png": "[encoded data removed]",
      "text/plain": [
       "<Figure size 640x480 with 1 Axes>"
      ]
     },
     "metadata": {},
     "output_type": "display_data"
    }
   ],
   "source": [
    "def gauss(x, X, sig):\n",
    "    G = (1/sig*np.sqrt(2*np.pi))*((np.exp(-(x-X)**2))/2*sig**2)\n",
    "    return G\n",
    "\n",
    "xg = np.arange(g.min(),g.max(), 0.1)\n",
    "\n",
    "BINS = np.arange(g.min(),g.max(),0.2)\n",
    "fig, ax = plt.subplots()\n",
    "ax.hist(g, bins=BINS, density=True, label='Original data')\n",
    "ax.plot(xg, gauss(xg, 9.63, 0.7), label='Fitted function')\n",
    "ax.set_xlabel('g [m/s²]')\n",
    "ax.set_ylabel('Sannolikhets fördelning')\n",
    "plt.show()"
   ]
  },
  {
   "cell_type": "markdown",
   "id": "3a26afce",
   "metadata": {},
   "source": [
    "Beräkna medelvärde och standardavvikels för g med funktionerna: `g.mean()` och `g.std(ddof=1)`. Stämmer dessa någorlunda överens med värdena på $X$ och $\\sigma$ från din \"anpassade\" normalfördelning? "
   ]
  },
  {
   "cell_type": "code",
   "execution_count": 38,
   "id": "a14abed5",
   "metadata": {},
   "outputs": [
    {
     "name": "stdout",
     "output_type": "stream",
     "text": [
      "9.632729477905276\n",
      "1.2129970645585721\n"
     ]
    }
   ],
   "source": [
    "print(g.mean())\n",
    "print(g.std(ddof=1))"
   ]
  },
  {
   "cell_type": "markdown",
   "id": "28d90e7a",
   "metadata": {},
   "source": [
    "### Svar: sigma i den anpassade funktionen är mindre än den beräknade standard avikelsen, medelvärdet stämmer bra överens"
   ]
  },
  {
   "cell_type": "markdown",
   "id": "d5ca7f63",
   "metadata": {},
   "source": [
    "Gör om grafen ovan (ett histogram tillsammans med en normalfördelning) där du använder det beräknade medelvärdet och standardavvikelsen som värden för parametraran $X$ och $\\sigma$."
   ]
  },
  {
   "cell_type": "code",
   "execution_count": 45,
   "id": "d4ae6e1d",
   "metadata": {},
   "outputs": [
    {
     "name": "stderr",
     "output_type": "stream",
     "text": [
      "findfont: Font family 'normal' not found.\n",
      "findfont: Font family 'normal' not found.\n",
      "findfont: Font family 'normal' not found.\n",
      "findfont: Font family 'normal' not found.\n",
      "findfont: Font family 'normal' not found.\n",
      "findfont: Font family 'normal' not found.\n",
      "findfont: Font family 'normal' not found.\n",
      "findfont: Font family 'normal' not found.\n",
      "findfont: Font family 'normal' not found.\n",
      "findfont: Font family 'normal' not found.\n",
      "findfont: Font family 'normal' not found.\n",
      "findfont: Font family 'normal' not found.\n",
      "findfont: Font family 'normal' not found.\n",
      "findfont: Font family 'normal' not found.\n"
     ]
    },
    {
     "name": "stderr",
     "output_type": "stream",
     "text": [
      "findfont: Font family 'normal' not found.\n",
      "findfont: Font family 'normal' not found.\n",
      "findfont: Font family 'normal' not found.\n",
      "findfont: Font family 'normal' not found.\n",
      "findfont: Font family 'normal' not found.\n",
      "findfont: Font family 'normal' not found.\n",
      "findfont: Font family 'normal' not found.\n",
      "findfont: Font family 'normal' not found.\n",
      "findfont: Font family 'normal' not found.\n",
      "findfont: Font family 'normal' not found.\n",
      "findfont: Font family 'normal' not found.\n",
      "findfont: Font family 'normal' not found.\n",
      "findfont: Font family 'normal' not found.\n",
      "findfont: Font family 'normal' not found.\n",
      "findfont: Font family 'normal' not found.\n",
      "findfont: Font family 'normal' not found.\n",
      "findfont: Font family 'normal' not found.\n",
      "findfont: Font family 'normal' not found.\n",
      "findfont: Font family 'normal' not found.\n",
      "findfont: Font family 'normal' not found.\n",
      "findfont: Font family 'normal' not found.\n",
      "findfont: Font family 'normal' not found.\n",
      "findfont: Font family 'normal' not found.\n",
      "findfont: Font family 'normal' not found.\n",
      "findfont: Font family 'normal' not found.\n",
      "findfont: Font family 'normal' not found.\n",
      "findfont: Font family 'normal' not found.\n",
      "findfont: Font family 'normal' not found.\n",
      "findfont: Font family 'normal' not found.\n",
      "findfont: Font family 'normal' not found.\n"
     ]
    },
    {
     "data": {
      "image/png": "[encoded data removed]",
      "text/plain": [
       "<Figure size 640x480 with 1 Axes>"
      ]
     },
     "metadata": {},
     "output_type": "display_data"
    }
   ],
   "source": [
    "fig, ax = plt.subplots()\n",
    "ax.hist(g, bins=BINS, density=True, label='Original data')\n",
    "ax.plot(xg, gauss(xg, 9.63273, 1.21299), label='Fitted function')\n",
    "ax.set_xlabel('g [m/s²]')\n",
    "ax.set_ylabel('Sannolikhets fördelning')\n",
    "plt.show()"
   ]
  },
  {
   "cell_type": "markdown",
   "id": "5d3472db",
   "metadata": {},
   "source": [
    "---------"
   ]
  },
  {
   "cell_type": "markdown",
   "id": "66990334",
   "metadata": {},
   "source": [
    "# Frivilliga Extrauppgifter"
   ]
  },
  {
   "cell_type": "markdown",
   "id": "97a90c42",
   "metadata": {},
   "source": [
    "Om man inte orkar programera sin egen normalfördelning $G(x)$ kan man använda paketet `stats` som är en del av `scipy`. Importera `stats` med:\n",
    "\n",
    "`import scipy.stats as stats`\n",
    "\n",
    "och skapa en normalfördelning med:\n",
    "\n",
    "`G2 = stats.norm.pdf(x, loc, scale)`\n",
    "\n",
    "där `loc` och `scale` är parametrarna.\n",
    "\n",
    "Jämför funktionerna `G` och `G2` och försäkra dig om att de ger saamma resultat för samma värde på parametrarna."
   ]
  },
  {
   "cell_type": "code",
   "execution_count": null,
   "id": "c2c8a052",
   "metadata": {},
   "outputs": [],
   "source": [
    "import scipy.stats as stats"
   ]
  },
  {
   "cell_type": "code",
   "execution_count": null,
   "id": "1f398163",
   "metadata": {},
   "outputs": [],
   "source": []
  },
  {
   "cell_type": "markdown",
   "id": "9a2ae160",
   "metadata": {},
   "source": [
    "För att hitta de värden på parametrarna som passar bäst med data kan du använda min kod nedan. Det kan dock krävas att du installerar ett antal paket som inte kommer med default-verionen av Anaconda."
   ]
  },
  {
   "cell_type": "code",
   "execution_count": 46,
   "id": "74110a3b",
   "metadata": {},
   "outputs": [],
   "source": [
    "from __future__ import print_function\n",
    "from ipywidgets import interact, interactive, fixed, interact_manual\n",
    "import ipywidgets as widgets\n",
    "from ipywidgets import FloatSlider"
   ]
  },
  {
   "cell_type": "code",
   "execution_count": null,
   "id": "6a242be6",
   "metadata": {},
   "outputs": [],
   "source": [
    "def norm(X, std):\n",
    "    x = np.arange(X - 3*std, X + 3*std, 0.01)\n",
    "    G = stats.norm.pdf(x, X, std)\n",
    "    plt.figure(num=None, figsize=(8, 6), dpi=80)\n",
    "    plt.plot(x, G, label='Normalfördelning')\n",
    "    plt.hist(g, bins =np.arange(6,13,0.75), density=True, label='Data') \n",
    "    #plt.loglog(E,Umix_NF/Umix_ABS,'b--',label='U(n,a)')\n",
    "    # Add row here to plot U238 in the same plot\n",
    "    plt.grid()\n",
    "    plt.ylim([0,0.7])\n",
    "    plt.xlim([6,14])\n",
    "    plt.legend()\n",
    "    plt.xlabel('Tid / s')\n",
    "    plt.ylabel('f')\n",
    "    plt.show()\n",
    "    return"
   ]
  },
  {
   "cell_type": "code",
   "execution_count": null,
   "id": "aa1234d2",
   "metadata": {},
   "outputs": [],
   "source": [
    "interact(norm, X=FloatSlider(value=8, min=8,max=12,step=0.1,continuous_update=False), std=FloatSlider(value=2, min=0.1,max=2,step=0.01,continuous_update=False))"
   ]
  }
 ],
 "metadata": {
  "kernelspec": {
   "display_name": "Python 3 (ipykernel)",
   "language": "python",
   "name": "python3"
  },
  "language_info": {
   "codemirror_mode": {
    "name": "ipython",
    "version": 3
   },
   "file_extension": ".py",
   "mimetype": "text/x-python",
   "name": "python",
   "nbconvert_exporter": "python",
   "pygments_lexer": "ipython3",
   "version": "3.10.12"
  }
 },
 "nbformat": 4,
 "nbformat_minor": 5
}
