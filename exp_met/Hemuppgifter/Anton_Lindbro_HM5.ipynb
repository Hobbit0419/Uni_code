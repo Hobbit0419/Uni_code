{
 "cells": [
  {
   "cell_type": "markdown",
   "id": "bdd771e9",
   "metadata": {},
   "source": [
    "# Hemuppgift 5"
   ]
  },
  {
   "cell_type": "code",
   "execution_count": 1,
   "id": "abf7562d",
   "metadata": {},
   "outputs": [],
   "source": [
    "import numpy as np\n",
    "import matplotlib.pyplot as plt\n",
    "\n",
    "font = {'family' : 'normal',\n",
    "        'weight' : 'normal',\n",
    "        'size'   : 14}\n",
    "plt.rc('font', **font)"
   ]
  },
  {
   "cell_type": "markdown",
   "id": "c5cfd690",
   "metadata": {},
   "source": [
    "### Del 1 - Medel och standardavvikelse för hand"
   ]
  },
  {
   "cell_type": "markdown",
   "id": "db31aafd",
   "metadata": {},
   "source": [
    "Importera datafilen."
   ]
  },
  {
   "cell_type": "code",
   "execution_count": 2,
   "id": "bb9dc7f4",
   "metadata": {},
   "outputs": [],
   "source": [
    "data = np.genfromtxt('pendel5.csv', delimiter=',', skip_header=1, usecols = (2, 3, 4, 5))"
   ]
  },
  {
   "cell_type": "markdown",
   "id": "b6792787",
   "metadata": {},
   "source": [
    "Skapa variabler för data"
   ]
  },
  {
   "cell_type": "code",
   "execution_count": 3,
   "id": "3c204fad",
   "metadata": {},
   "outputs": [],
   "source": [
    "l = data[:,0]\n",
    "dl = data[:,1]\n",
    "T = data[:,2]/10\n",
    "dT = data[:,3]/10"
   ]
  },
  {
   "cell_type": "markdown",
   "id": "7bb6a469",
   "metadata": {},
   "source": [
    "Antag att vi vill beräkna medelvärdet av längderna (*l*). Skapa ett uttryck som beräknar medelvärdet av en array. OBS! Uppgiften är att skapa ett eget uttryck, du får inte använda färdiga funktioner från *math* eller *numpy*. Du får därmot använda funktioner som beräknar längd och summor av arrayer. Du kan tillexempel använda:\n",
    "\n",
    "`len(T)`eller `np.size(T)` för att få antalet värden i *T*\n",
    "\n",
    "och\n",
    "\n",
    "`sum(T)`eller `np.sum(T)` för att få summan av värden i *T*.\n",
    "\n",
    "Använd ditt uttryck till att beräkna medelvärdet av $l$ och $T$.\n",
    "\n",
    "(Om du vet hur du skapar funktioner med `def` kan det vara bra att skapa en funktion, exempelvis `my_mean()` som beräknar medelvärdet av en godtycklig array och sedan använda funktionen till att beräkna $\\bar{l}$ och $\\bar{T}$."
   ]
  },
  {
   "cell_type": "code",
   "execution_count": 4,
   "id": "5cf2fa50",
   "metadata": {},
   "outputs": [],
   "source": [
    "def my_mean(input_array):\n",
    "    out = np.sum(input_array)/np.size(input_array)\n",
    "    return out\n"
   ]
  },
  {
   "cell_type": "markdown",
   "id": "b6813aa7",
   "metadata": {},
   "source": [
    "Beräkna $g = 4 \\pi^2 \\frac{l}{T^2}$ och medelvärdet av $g$. \n",
    "\n",
    "Beräkna också $g$ med medelvärdena $\\bar{l}$ och $\\bar{T}$. \n",
    "\n",
    "Skriv ut svaren med *print()*."
   ]
  },
  {
   "cell_type": "code",
   "execution_count": 5,
   "id": "d4c6c42c",
   "metadata": {},
   "outputs": [
    {
     "name": "stdout",
     "output_type": "stream",
     "text": [
      "medelvärde T = 1.941, medelvärde l = 1.504\n",
      "medelvärde g är 9.633, g beräknad med medelvärden 15.75\n"
     ]
    }
   ],
   "source": [
    "T_bar = my_mean(T)\n",
    "l_bar = my_mean(l)\n",
    "\n",
    "print(f'medelvärde T = {round(T_bar, 3)}, medelvärde l = {round(l_bar, 3)}')\n",
    "\n",
    "g = (4 * np.pi**2 * l)/(T**2)\n",
    "g_bar = my_mean(g)\n",
    "g_of_bars = (4 * np.pi**2 * l_bar)/(T_bar**2)\n",
    "\n",
    "\n",
    "print(f'medelvärde g är {round(g_bar, 3)}, g beräknad med medelvärden {round(g_of_bars, 2)}')"
   ]
  },
  {
   "cell_type": "markdown",
   "id": "e70052f4",
   "metadata": {},
   "source": [
    "Blir svaret samma? Varför / Varför inte? Vilket sätt att räkna är korrekt?\n",
    "\n",
    "**Svar:** Om vi beräknar med medelvärdena så förlorar vi en hel massa information, som du kan se blir dom ju verkligen inte samma och det beror på att som sagt vi tappar en hel massa information när vi använder medelvärden för att beräkna en ny storhet. Med tanke på det är ju det mer korrekt att beräkna g för samtliga försök och sedan ta ett medelvärde av det. "
   ]
  },
  {
   "cell_type": "markdown",
   "id": "ee2f47a5",
   "metadata": {},
   "source": [
    "Nu vill vi också beräkna standardavvikelsen i $l$ och $T$. Skapa ett uttryck (eller en funktion) som beräknar standardavvikelsen och använd det till att beräkna $s_l$ och $s_T$."
   ]
  },
  {
   "cell_type": "code",
   "execution_count": 6,
   "id": "8972274f",
   "metadata": {},
   "outputs": [],
   "source": [
    "def my_std(input_array):\n",
    "    out = np.sqrt(np.sum((input_array - my_mean(input_array))**2) / (np.size(input_array) - 1))\n",
    "    return out"
   ]
  },
  {
   "cell_type": "markdown",
   "id": "f8aedaec",
   "metadata": {},
   "source": [
    "Skriv ut resultet med korrekt antal signifikanta siffror genom att kompletera nedanstående rader (byt ut T_MEDEL etc mot dina värden). Avrunda till korrekt antal signifikanta siffror med funtionen `np.around()`:\n",
    "\n",
    "https://numpy.org/doc/stable/reference/generated/numpy.around.html\n"
   ]
  },
  {
   "cell_type": "code",
   "execution_count": 7,
   "id": "ce8e3228",
   "metadata": {},
   "outputs": [
    {
     "name": "stdout",
     "output_type": "stream",
     "text": [
      "Medelvärdet på T är 1.941 s med standardavvikelsen 1.509 s\n",
      "Medelvärdet på l är 1.504 s med standardavvikelsen 3.908 s\n"
     ]
    }
   ],
   "source": [
    "T_std = my_std(T)\n",
    "l_std = my_std(l)\n",
    "\n",
    "print('Medelvärdet på T är', round(T_bar, 3), 's med standardavvikelsen', round(T_std, 3), 's')\n",
    "print('Medelvärdet på l är', round(l_bar, 3), 's med standardavvikelsen', round(l_std, 3), 's')"
   ]
  },
  {
   "cell_type": "markdown",
   "id": "dc24592a",
   "metadata": {},
   "source": [
    "### Del 2 - Medel och standardavvikelse med numpy"
   ]
  },
  {
   "cell_type": "markdown",
   "id": "2aae1418",
   "metadata": {},
   "source": [
    "Numpy har naturligtvis färdiga funktioner för medelvärde (`np.average()`) och standardavvikelse (`np.std()`). Testa dessa och verifiera att de ger samma reultat som dina egna beräkningar gav. Observera att det finns två 'olika' standardavvikelser, stickprovets (eller populationens) standardavvikele ($\\sigma$) och skattningen av populationens standardavvikelse baserat på ett stickprov ($s$). Vilken `np.std()` ger regleras med flaggan `ddof`, se dokumentationen. Se till att du förstår vilken av dessa som beräknas som default och hur du växlar mellan dem.\n",
    "\n",
    "https://numpy.org/doc/stable/reference/generated/numpy.std.html"
   ]
  },
  {
   "cell_type": "markdown",
   "id": "953c96f1",
   "metadata": {},
   "source": [
    "Spelar det i detta fall någon roll om vi använder `ddof=0` eller `ddof=1`?\n",
    "\n",
    "\n",
    "**Svar:** I vårt fall spelar det ingen större roll då vi har en ganska bra mängd mätvärden, även om det blir en mindre skillnad"
   ]
  },
  {
   "cell_type": "code",
   "execution_count": 8,
   "id": "a8dccc4f",
   "metadata": {},
   "outputs": [
    {
     "name": "stdout",
     "output_type": "stream",
     "text": [
      "1.5089112711799937\n",
      "1.4966931650655049\n",
      "3.9079664483254506\n",
      "3.8763224745083797\n"
     ]
    }
   ],
   "source": [
    "print(np.std(T, ddof=1))\n",
    "print(np.std(T, ddof=0))\n",
    "print(np.std(l, ddof=1))\n",
    "print(np.std(l, ddof=0))"
   ]
  },
  {
   "cell_type": "markdown",
   "id": "1dfe0200",
   "metadata": {},
   "source": [
    "Många numpyfuktioner kan anropas på två olika sätt: `np.mean(T)` eller `T.mean()`. Testa dessa och se att det ger samma resultat. Du kan också testa `T.std()`, `T.sum()` och `T.size`. Testa också att skriva `T.mean().round(n)`där n är ett heltal."
   ]
  },
  {
   "cell_type": "code",
   "execution_count": 9,
   "id": "8fef9524",
   "metadata": {},
   "outputs": [
    {
     "name": "stdout",
     "output_type": "stream",
     "text": [
      "1.9410645161290323\n",
      "1.9410645161290323\n"
     ]
    },
    {
     "data": {
      "text/plain": [
       "1.941"
      ]
     },
     "execution_count": 9,
     "metadata": {},
     "output_type": "execute_result"
    }
   ],
   "source": [
    "print(np.mean(T))\n",
    "print(T.mean())\n",
    "T.mean().round(3)"
   ]
  },
  {
   "cell_type": "markdown",
   "id": "f782644f",
   "metadata": {},
   "source": [
    "Beräkna medelvärdet och standaradavvikelsen för $g$ med numpys inbyggda funktioner."
   ]
  },
  {
   "cell_type": "code",
   "execution_count": 10,
   "id": "bccc482f",
   "metadata": {},
   "outputs": [
    {
     "name": "stdout",
     "output_type": "stream",
     "text": [
      "9.633\n",
      "1.203\n"
     ]
    }
   ],
   "source": [
    "print(g.mean().round(3))\n",
    "print(g.std().round(3))"
   ]
  },
  {
   "cell_type": "markdown",
   "id": "47a1ebb5",
   "metadata": {},
   "source": [
    "Kompletera nästa rad så att medelvärde och standardavvikelse skrivs ut med rätt antal signigikanta siffror."
   ]
  },
  {
   "cell_type": "code",
   "execution_count": 11,
   "id": "18ace862",
   "metadata": {},
   "outputs": [
    {
     "name": "stdout",
     "output_type": "stream",
     "text": [
      "Medelvärdet för g är 9.633 med standardavvikelsen 1.203\n"
     ]
    }
   ],
   "source": [
    "print('Medelvärdet för g är', g.mean().round(3), 'med standardavvikelsen', g.std().round(3))"
   ]
  },
  {
   "cell_type": "markdown",
   "id": "1eea1d8c",
   "metadata": {},
   "source": [
    "### Del 3 - Medelvärdets standardavvikelse och medelvärdets propagerade osäkerhet\n",
    "\n",
    "Beräkna **medelvärdets standardavvikelse** för $g$ och kompletera meningen så att värdena skrivs ut med korrekt antal signinfikanta siffror."
   ]
  },
  {
   "cell_type": "code",
   "execution_count": 12,
   "id": "b66844e4",
   "metadata": {},
   "outputs": [],
   "source": [
    "dg = g.std()/np.sqrt(np.size(g))"
   ]
  },
  {
   "cell_type": "code",
   "execution_count": 13,
   "id": "f33cb8f2",
   "metadata": {},
   "outputs": [
    {
     "name": "stdout",
     "output_type": "stream",
     "text": [
      "Medelvärdet för g är 9.633 ± 0.15 m/s^2\n"
     ]
    }
   ],
   "source": [
    "print('Medelvärdet för g är', g.mean().round(3), '±', dg.round(2), 'm/s^2')"
   ]
  },
  {
   "cell_type": "markdown",
   "id": "799fbd55",
   "metadata": {},
   "source": [
    "Beräkna **medelvärdets propagerade osäkerhet** genom att tillämpa felfortplantningsformeln på uttrycket för medelvärdet. Jämför denna uppskattning av osäkerheten i medelvärdet med det du får när du beräknar medelvärdets standardavvikelse. \n",
    "\n",
    "*Tips: Medelvärdets propagerade osäkerhet finns beskrivet i slidsen från lektion 5.*"
   ]
  },
  {
   "cell_type": "code",
   "execution_count": 18,
   "id": "a0d67228",
   "metadata": {},
   "outputs": [
    {
     "name": "stdout",
     "output_type": "stream",
     "text": [
      "Medelvärdet för g är 9.633 ± 0.15 m/s^2\n"
     ]
    }
   ],
   "source": [
    "dg1 = g * np.sqrt((dl/l)**2 + (2 * (dT/T))**2)\n",
    "\n",
    "ddg = np.sqrt(np.sum(dg1**2))/np.size(g)\n",
    "\n",
    "print('Medelvärdet för g är', g.mean().round(3), '±', ddg.round(2), 'm/s^2')"
   ]
  },
  {
   "cell_type": "markdown",
   "id": "6f019534",
   "metadata": {},
   "source": [
    "Vilket av de två måtten på osäkerheten i medelvärdet är störst och vad säger det om vår mätning?\n",
    "\n",
    "**Svar:**\n",
    "\n",
    "Jag tycker att medelvärdets standard avikelse är ett bättre mått då den inte förlitar sig på värden uppskattade av en människa. Dock så är den propagerade osäkerheten att föredra om antalet mätpunkter inte är så stort\n"
   ]
  }
 ],
 "metadata": {
  "kernelspec": {
   "display_name": "Python 3 (ipykernel)",
   "language": "python",
   "name": "python3"
  },
  "language_info": {
   "codemirror_mode": {
    "name": "ipython",
    "version": 3
   },
   "file_extension": ".py",
   "mimetype": "text/x-python",
   "name": "python",
   "nbconvert_exporter": "python",
   "pygments_lexer": "ipython3",
   "version": "3.10.12"
  }
 },
 "nbformat": 4,
 "nbformat_minor": 5
}
