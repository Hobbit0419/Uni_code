{
 "cells": [
  {
   "cell_type": "markdown",
   "id": "bdd771e9",
   "metadata": {},
   "source": [
    "# Hemuppgift 2\n",
    "Innan vi börjar måste vi importera två standardpaket, *numpy* och *matplotlib*. Det gör vi med funktionen *import*."
   ]
  },
  {
   "cell_type": "code",
   "execution_count": 2,
   "id": "9fad7d0f",
   "metadata": {},
   "outputs": [],
   "source": [
    "import numpy as np\n",
    "import matplotlib.pyplot as plt"
   ]
  },
  {
   "cell_type": "markdown",
   "id": "db31aafd",
   "metadata": {},
   "source": [
    "Vi kan nu använda alla funktioner i dessa paket genom att anropa dem med *np.* respektive *plt.*\n",
    "\n",
    "Till exempel kan vi importera data från en komma-separerad textfil till en numpy-array med kommandot *np.genfromtext()*. Ta reda på vad som menas med en komma-separerad textfil om du inte redan vet.\n",
    "\n",
    "Importera datafilen *pendel.csv*.\n",
    "\n",
    "(För att Jupyter ska hitta filen måste den antingen ligga i samma katalog som din Notebook, eller så måste du ange hela sökvägen till filen.)"
   ]
  },
  {
   "cell_type": "code",
   "execution_count": 3,
   "id": "2c9a5541",
   "metadata": {},
   "outputs": [],
   "source": [
    "data = np.genfromtxt('pendel2.csv', delimiter=',', skip_header=1, usecols = (2, 3, 4, 5))"
   ]
  },
  {
   "cell_type": "markdown",
   "id": "59fe47ab",
   "metadata": {},
   "source": [
    "Variabeln *delimiter=','* talar om att våra data är separerade med ett kommatecken.\n",
    "\n",
    "*skip_header=1* anger att vi inte vill läsa in första raden eftersom den innehåller rubriker och inte data.\n",
    "\n",
    "*usecols = (2, 3, 4, 5)* anger att vi bara vill läsa in kolumn 2 - 5, eftersom kolumn 0 och 1 är era namn."
   ]
  },
  {
   "cell_type": "code",
   "execution_count": 9,
   "id": "1067d615",
   "metadata": {},
   "outputs": [
    {
     "name": "stdout",
     "output_type": "stream",
     "text": [
      "[ 1.    0.05 19.    3.  ]\n"
     ]
    }
   ],
   "source": [
    "print(data[0,:])"
   ]
  },
  {
   "cell_type": "markdown",
   "id": "20553565",
   "metadata": {},
   "source": [
    "I stället för att hela tiden använda variabeln *data* kan vi skapa nya variabler som motsvarar våra uppmätta storheter."
   ]
  },
  {
   "cell_type": "code",
   "execution_count": 4,
   "id": "1b5460d6",
   "metadata": {},
   "outputs": [],
   "source": [
    "l = data[:,0]\n",
    "dl = data[:,1]"
   ]
  },
  {
   "cell_type": "markdown",
   "id": "5fae5e93",
   "metadata": {},
   "source": [
    "Komplettera cellen nedan så att vi får en variabel för periodtiden $T$ och en för dess osäkerhet. Kom ihåg att det som mätts är tiden (t) för 10 svängningar."
   ]
  },
  {
   "cell_type": "code",
   "execution_count": 5,
   "id": "46f90bf0",
   "metadata": {},
   "outputs": [
    {
     "name": "stdout",
     "output_type": "stream",
     "text": [
      "[1.9    2.522  3.     2.48   2.5    1.432  2.8    1.831  2.085  1.402\n",
      " 2.     0.844  1.05   1.215  1.3    2.32   1.455  0.655  1.83   0.928\n",
      " 1.632  1.253  1.825  2.236  2.577  1.552  2.13   1.237  1.01   2.006\n",
      " 2.255  1.318  1.46   1.1    2.0813 1.354  2.018  1.79   0.835  1.461\n",
      " 2.045  1.328  1.83   2.2    1.35   1.2    1.39   1.857  1.34   1.443\n",
      " 1.25   2.213  1.89   1.2165 1.346  1.437 ]\n",
      "[0.3   0.3   0.1   0.05  0.1   0.1   0.1   0.1   0.011 0.02  0.1   0.051\n",
      " 0.1   0.025 0.05  0.01  0.05  0.02  0.03  0.05  0.04  0.005 0.05  0.03\n",
      " 0.02  0.03  0.05  0.195 0.016 0.003 0.03  0.013 0.05  0.05  0.05  0.05\n",
      " 0.1   0.01  0.03  0.05  0.01  0.04  0.03  0.1   0.1   0.1   0.05  0.1\n",
      " 0.1   0.2   0.05  0.006 0.02    nan 0.04  0.1  ]\n"
     ]
    }
   ],
   "source": [
    "T = data[:,2]/10\n",
    "dT = data[:,3]/10\n",
    "\n",
    "print(T)\n",
    "print(dT)"
   ]
  },
  {
   "cell_type": "markdown",
   "id": "ac57da34",
   "metadata": {},
   "source": [
    "Vi kan titta på våra data genom att skriva ut dem med kommandot *print()*, ex *print(data)*. Med hjälp av argument kan vi adressera enskilda rader, kolumner eller datapunkter i vår array. Testa exempelvis *print(data[1,:])*, *print(data[:,2])*, *print(data[1:,2])* genom att ändra i cellen nedan. Se till att du förstår vad dessa kommandon gör."
   ]
  },
  {
   "cell_type": "markdown",
   "id": "779d510b",
   "metadata": {},
   "source": [
    "Skriv ut dina variabler för att försäkra dig om att det ser rätt ut."
   ]
  },
  {
   "cell_type": "code",
   "execution_count": 6,
   "id": "29033184",
   "metadata": {},
   "outputs": [
    {
     "name": "stdout",
     "output_type": "stream",
     "text": [
      "[1.    1.75  2.27  1.47  1.54  0.495 1.95  0.8   1.05  0.485 1.    0.16\n",
      " 0.2   0.37  0.41  1.35  0.5   0.1   0.82  0.205 0.52  0.54  0.77  1.45\n",
      " 1.6   0.595 1.13  0.27  0.25  0.856 1.4   0.44  0.51  0.028 1.056 0.425\n",
      " 1.01  0.925 0.17  0.52  1.05  0.2   0.85  0.72  0.475 0.35  0.46  0.83\n",
      " 0.4   0.32  0.447 1.21  1.    0.35  0.6   0.55 ]\n",
      "[0.05  0.1   0.03  0.05  0.04  0.05  0.08  0.02  0.035 0.01  0.02  0.05\n",
      " 0.025 0.05  0.01  0.02  0.05  0.01  0.04  0.01  0.02  0.04  0.03  0.05\n",
      " 0.005 0.01  0.03  0.03  0.01  0.004 0.05  0.04  0.02  0.001 0.06  0.005\n",
      " 0.01  0.025 0.065 0.01  0.005 0.02  0.05  0.02  0.01  0.03  0.015 0.001\n",
      " 0.01  0.01  0.003 0.02  0.2   0.005 0.03  0.01 ]\n"
     ]
    }
   ],
   "source": [
    "print(l)\n",
    "print(dl)"
   ]
  },
  {
   "cell_type": "markdown",
   "id": "80da45bb",
   "metadata": {},
   "source": [
    "De variabler vi skapat är av typen *numpy array*. Fördelen med en array, framför exempelvis en lista, är att vi kan göra matematiska operationer direkt med en array. Exempelvis kommer `l + T` att ge en array där varje värde i $l$ är adderat med motsvarande värde i $T$. Vi kan beräkna potenser med `T**n`, vilket kommer ge oss en ny array med varje värde i $T$ upphöjt i $n$. Mer avancerade funktioner finns tillängliga i *numpy*, exempelvis `np.sin(T)`, `np.sqrt(T)`. Prova gärna!"
   ]
  },
  {
   "cell_type": "code",
   "execution_count": null,
   "id": "62d41131",
   "metadata": {},
   "outputs": [],
   "source": []
  },
  {
   "cell_type": "markdown",
   "id": "8d113460",
   "metadata": {},
   "source": [
    "# Grafer"
   ]
  },
  {
   "cell_type": "markdown",
   "id": "eec7254a",
   "metadata": {},
   "source": [
    "Använd kommandot *plt.plot()* för att plotta din variabel $T$. Information om hur du använder funktionen finns här:\n",
    "https://matplotlib.org/stable/api/_as_gen/matplotlib.pyplot.plot.html\n",
    "\n",
    "Använd *plt.xlabel('')* och *plt.ylabel('')* för att sätta ut titlar på axlarna.\n",
    "\n",
    "Som standard plotar *matplotlib* med linjer mellan punkterna. Ändra det så att du istället plottar punkter utan linjer mellan.\n",
    "\n",
    "Plotta på samma sätt $T(l)$. Ligger punkterna på en linje? Vad tror du förhållandet är mellan $T$ och $l$? (Tips: Testa att plotta $T^2$ mot $l$)"
   ]
  },
  {
   "cell_type": "code",
   "execution_count": 7,
   "id": "8127fc14",
   "metadata": {},
   "outputs": [
    {
     "data": {
      "text/plain": [
       "[<matplotlib.lines.Line2D at 0x7f25582ae4d0>]"
      ]
     },
     "execution_count": 7,
     "metadata": {},
     "output_type": "execute_result"
    },
    {
     "data": {
      "image/png": "[encoded data removed]",
      "text/plain": [
       "<Figure size 640x480 with 1 Axes>"
      ]
     },
     "metadata": {},
     "output_type": "display_data"
    }
   ],
   "source": [
    "# Plotta variablen T här\n",
    "plt.plot(T, 'o')"
   ]
  },
  {
   "cell_type": "code",
   "execution_count": 8,
   "id": "135dee19",
   "metadata": {},
   "outputs": [
    {
     "data": {
      "text/plain": [
       "[<matplotlib.lines.Line2D at 0x7f2558164b50>]"
      ]
     },
     "execution_count": 8,
     "metadata": {},
     "output_type": "execute_result"
    },
    {
     "data": {
      "image/png": "[encoded data removed]",
      "text/plain": [
       "<Figure size 640x480 with 1 Axes>"
      ]
     },
     "metadata": {},
     "output_type": "display_data"
    }
   ],
   "source": [
    "# Plotta T(l) här\n",
    "plt.plot(l, T, 'd')\n"
   ]
  },
  {
   "cell_type": "code",
   "execution_count": 9,
   "id": "91da6ea1",
   "metadata": {},
   "outputs": [
    {
     "data": {
      "text/plain": [
       "[<matplotlib.lines.Line2D at 0x7f2557ffae90>]"
      ]
     },
     "execution_count": 9,
     "metadata": {},
     "output_type": "execute_result"
    },
    {
     "data": {
      "image/png": "[encoded data removed]",
      "text/plain": [
       "<Figure size 640x480 with 1 Axes>"
      ]
     },
     "metadata": {},
     "output_type": "display_data"
    }
   ],
   "source": [
    "# Testa gärna att plotta T^2(l) här\n",
    "\n",
    "plt.plot(l, T**2, 'x')"
   ]
  },
  {
   "cell_type": "markdown",
   "id": "fbde9d54",
   "metadata": {},
   "source": [
    "### Grafer med felstaplar\n",
    "Med funktionen *plt.errorbar()* kan man göra plottar med felstaplar, se:\n",
    "https://matplotlib.org/stable/api/_as_gen/matplotlib.pyplot.errorbar.html\n",
    "\n",
    "Använd den funktionen till att plotta $T(l)$ med felstaplar för både $T$ och $l$. För att undvika att få en linje som sammanbinder datapunkterna kan du använda *fmt='none'*."
   ]
  },
  {
   "cell_type": "code",
   "execution_count": 15,
   "id": "f88af970",
   "metadata": {},
   "outputs": [
    {
     "data": {
      "text/plain": [
       "<ErrorbarContainer object of 3 artists>"
      ]
     },
     "execution_count": 15,
     "metadata": {},
     "output_type": "execute_result"
    },
    {
     "data": {
      "image/png": "[encoded data removed]",
      "text/plain": [
       "<Figure size 640x480 with 1 Axes>"
      ]
     },
     "metadata": {},
     "output_type": "display_data"
    }
   ],
   "source": [
    "# Plotta T(l) med osäkerheter här\n",
    "\n",
    "plt.errorbar(l, T, xerr=dl, yerr=dT, fmt='d')"
   ]
  },
  {
   "cell_type": "markdown",
   "id": "41a6b448",
   "metadata": {},
   "source": [
    "Om du vill zooma in i grafen kan du ändra axlarna med kommandot *plt.axis([x1,x2,y1,y2])*\n",
    "\n",
    "Testa till exempel att lägga till *plt.axis([0,3,0,4])*"
   ]
  },
  {
   "cell_type": "markdown",
   "id": "a82475e8",
   "metadata": {},
   "source": [
    "# Beräkna g\n",
    "Lös ut tyngdaccelerationen ($g$) ur formeln för en matematisk pendel:\n",
    "$T = 2\\pi \\sqrt{\\frac{l}{g}}$ och skriv resultatet här i latex-kod:"
   ]
  },
  {
   "cell_type": "markdown",
   "id": "e0a24498",
   "metadata": {},
   "source": [
    "$g = \\frac{4\\pi^2l}{T^2}$"
   ]
  },
  {
   "cell_type": "markdown",
   "id": "ec0fc7a8",
   "metadata": {},
   "source": [
    "Beräkna g för samtliga mätningar."
   ]
  },
  {
   "cell_type": "code",
   "execution_count": 16,
   "id": "9e83d452",
   "metadata": {},
   "outputs": [],
   "source": [
    "g = (4 * np.pi**2 * l)/(T**2)\n"
   ]
  },
  {
   "cell_type": "markdown",
   "id": "4008b556",
   "metadata": {},
   "source": [
    "Plotta värdena för $g$ från samtliga mätningar tillsammans med en linje som markerar standardvärdet för tyngdaccelerationen. En horizontell linje kan examplevis skapas med *plt.hlines()*, se https://matplotlib.org/stable/api/_as_gen/matplotlib.pyplot.hlines.html\n",
    "\n",
    "Hämta aktuellt värde på $g$ från exempelvis\n",
    "https://physics.nist.gov/cuu/Constants/"
   ]
  },
  {
   "cell_type": "code",
   "execution_count": 17,
   "id": "ada63127",
   "metadata": {},
   "outputs": [
    {
     "data": {
      "text/plain": [
       "[<matplotlib.lines.Line2D at 0x7f2555ea57d0>]"
      ]
     },
     "execution_count": 17,
     "metadata": {},
     "output_type": "execute_result"
    },
    {
     "data": {
      "image/png": "[encoded data removed]",
      "text/plain": [
       "<Figure size 640x480 with 1 Axes>"
      ]
     },
     "metadata": {},
     "output_type": "display_data"
    }
   ],
   "source": [
    "# Plotta g här\n",
    "plt.plot(g, 's')"
   ]
  },
  {
   "cell_type": "markdown",
   "id": "1f9db2de",
   "metadata": {},
   "source": [
    "För att avgöra om våra data stämmer överens med standardvärdet skulle vi behöva beräkna felet i $g$. Hur vi gör det kommer du lära dig på lektion 3. "
   ]
  }
 ],
 "metadata": {
  "kernelspec": {
   "display_name": "Python 3 (ipykernel)",
   "language": "python",
   "name": "python3"
  },
  "language_info": {
   "codemirror_mode": {
    "name": "ipython",
    "version": 3
   },
   "file_extension": ".py",
   "mimetype": "text/x-python",
   "name": "python",
   "nbconvert_exporter": "python",
   "pygments_lexer": "ipython3",
   "version": "3.11.6"
  }
 },
 "nbformat": 4,
 "nbformat_minor": 5
}
