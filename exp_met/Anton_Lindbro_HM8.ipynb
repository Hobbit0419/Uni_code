{
 "cells": [
  {
   "cell_type": "markdown",
   "id": "bdd771e9",
   "metadata": {},
   "source": [
    "# Hemuppgift 8"
   ]
  },
  {
   "cell_type": "code",
   "execution_count": null,
   "id": "9fad7d0f",
   "metadata": {},
   "outputs": [],
   "source": [
    "import numpy as np\n",
    "import matplotlib.pyplot as plt\n",
    "\n",
    "font = {'family' : 'normal',\n",
    "        'weight' : 'normal',\n",
    "        'size'   : 14}\n",
    "plt.rc('font', **font)"
   ]
  },
  {
   "cell_type": "markdown",
   "id": "db31aafd",
   "metadata": {},
   "source": [
    "### Introduktion\n",
    "\n",
    "Importera datafilen `pendel8.csv`."
   ]
  },
  {
   "cell_type": "code",
   "execution_count": null,
   "id": "2c9a5541",
   "metadata": {},
   "outputs": [],
   "source": [
    "data = np.genfromtxt('pendel8.csv', delimiter=',', skip_header=1, usecols = (2, 3, 4, 5))"
   ]
  },
  {
   "cell_type": "markdown",
   "id": "20553565",
   "metadata": {},
   "source": [
    "Skapa variabler"
   ]
  },
  {
   "cell_type": "code",
   "execution_count": null,
   "id": "1b5460d6",
   "metadata": {},
   "outputs": [],
   "source": [
    "l = data[:,0]\n",
    "dl = data[:,1]\n",
    "T = data[:,2]/10 \n",
    "dT = data[:,3]/10"
   ]
  },
  {
   "cell_type": "markdown",
   "id": "73d1020d",
   "metadata": {},
   "source": [
    "Beräkna g med osäkerhet enligt felfortplantningsfomeln. Se Hemuppgift 3 om du inte kommer ihåg fomlerna."
   ]
  },
  {
   "cell_type": "code",
   "execution_count": null,
   "id": "02e20019",
   "metadata": {},
   "outputs": [],
   "source": [
    "g = 4*np.pi**2*l/T**2\n",
    "dg = np.sqrt((2*dT/T)**2+(dl/l)**2)*g"
   ]
  },
  {
   "cell_type": "markdown",
   "id": "138d916d",
   "metadata": {},
   "source": [
    "Beräkna medelvärde, standardavvikelse och medelvärdets standardavvikelse (Standard Error of Mean) för g"
   ]
  },
  {
   "cell_type": "code",
   "execution_count": null,
   "id": "02bceb8c",
   "metadata": {},
   "outputs": [],
   "source": [
    "g_medel = np.mean(g)\n",
    "g_std = np.std(g, ddof=1)\n",
    "g_SEM = g_std/np.sqrt(np.size(g))\n",
    "print(f'g = {np.around(g_medel,2)} ± {np.around(g_SEM,2)} kgm/s/s')"
   ]
  },
  {
   "cell_type": "markdown",
   "id": "90a8ee35",
   "metadata": {},
   "source": [
    "Gör en graf över värden på g med osäkerheter. Rita in medelvärdet standardavvikelsen och SEM som linjer."
   ]
  },
  {
   "cell_type": "code",
   "execution_count": null,
   "id": "e7d1c9fb",
   "metadata": {},
   "outputs": [],
   "source": [
    "plt.errorbar(np.arange(len(g)),g,yerr=dg, capsize=4, fmt='.',label='Data')#######Ta bort\n",
    "plt.plot(np.arange(len(g)),g_medel*np.ones(len(g)), 'r', label='Medel')\n",
    "plt.plot(np.arange(len(g)),(g_medel-g_std)*np.ones(len(g)), 'g', label='Medel $\\pm$ Std')\n",
    "plt.plot(np.arange(len(g)),(g_medel+g_std)*np.ones(len(g)), 'g')\n",
    "plt.plot(np.arange(len(g)),(g_medel-g_SEM)*np.ones(len(g)), 'gold', label='Medel $\\pm$ SEM')\n",
    "plt.plot(np.arange(len(g)),(g_medel+g_SEM)*np.ones(len(g)), 'gold')\n",
    "\n",
    "\n",
    "plt.xlabel('Datapunkt')\n",
    "plt.ylabel('g / m/s$^2$')\n",
    "plt.legend(loc=2,prop={'size': 12})\n",
    "\n",
    "plt.title('Graf 1: Tyngdaccelerationen')"
   ]
  },
  {
   "cell_type": "markdown",
   "id": "7ff02cdd",
   "metadata": {},
   "source": [
    "### Uppgift 1 - Viktat medelvärde\n",
    "\n",
    "Beräkna det viktade medelvärdet med funktionen `np.average(g, weights=w)` där $w = \\frac{1}{dg^2}$\n",
    "\n",
    "Uppskatta osäkerheten i det viktade medelvärdet genom att beräkna det viktade medelvärdets standardosäkerhet (Weighted Standard Error of the Mean):\n",
    "$s_{\\bar{X}} = \\sqrt{\\frac{\\sum w_i(x_i - X)^2}{(N-1)\\sum w_i}}$\n",
    "\n",
    "Avrunda till lämpligt antal signifikanta siffror och skriv ut svaret med `print`."
   ]
  },
  {
   "cell_type": "code",
   "execution_count": null,
   "id": "96d158bc",
   "metadata": {},
   "outputs": [],
   "source": []
  },
  {
   "cell_type": "markdown",
   "id": "f6712b86",
   "metadata": {},
   "source": [
    "### Uppgift 2 - Avvikande värden\n",
    "\n",
    "Som du ser har vi några datapunkter som avviker ganska mycket ifrån medelvärdet. Välj ett av värdena (kan göras med `g[i]`, där i är värdets possition i arrayen) och beräkna dess t-värde.\n",
    "\n",
    "Avrunda till lämpligt antal signifikanta siffror och skriv ut svaret med `print`."
   ]
  },
  {
   "cell_type": "code",
   "execution_count": null,
   "id": "c7cec26d",
   "metadata": {},
   "outputs": [],
   "source": []
  },
  {
   "cell_type": "markdown",
   "id": "d8ee3bb9",
   "metadata": {},
   "source": [
    "För att avgöra sannolikheten att ett värde avviker så mycket som detta värde gör behöver vi fördelningsfunktionens värde i $t$, $\\phi(t)$. Detta kan läsas av i tabeller, tex Physics Handbook. Alternativt kan sannolikheten beräknas med hjälp av bibliotekt `scipy`. Importera scipys funktion `norm` med:\n",
    "\n",
    "`from scipy.stats import norm`"
   ]
  },
  {
   "cell_type": "code",
   "execution_count": null,
   "id": "7e775d72",
   "metadata": {},
   "outputs": [],
   "source": []
  },
  {
   "cell_type": "markdown",
   "id": "46dc7c51",
   "metadata": {},
   "source": [
    "Sannolikheten att t är mindre är det värde du beräknat erhålls genom `norm.cdf(t)`.\n",
    "\n",
    "(cfd står för 'cumulativ density function', dvs fördelningsfunktionen på svenska, och funktionen beräknar intergralen av den normaliserade normalfördelningen från $-\\infty$ till *t*. Vill man ha en normalfördelning med andra parametrar kan man ange dessa med `norm.cdf(t, loc=medel, scale=std)` där *t* är det avvikande värdet.)\n",
    "\n",
    "Vad är sannolikheten att mäta att värde som avviker (i absoluta tal) så här mycket från medelvärdet? Avrunda till lämpligt antal signifikanta siffror och skriv ut svaret med `print`."
   ]
  },
  {
   "cell_type": "code",
   "execution_count": null,
   "id": "2e7d102e",
   "metadata": {},
   "outputs": [],
   "source": []
  },
  {
   "cell_type": "markdown",
   "id": "e314dfcc",
   "metadata": {},
   "source": [
    "Använd Chauvenets kriterium för att avgöra om vi kan förkasta värdet."
   ]
  },
  {
   "cell_type": "code",
   "execution_count": null,
   "id": "46469cf7",
   "metadata": {},
   "outputs": [],
   "source": []
  },
  {
   "cell_type": "markdown",
   "id": "ea3cf531",
   "metadata": {},
   "source": [
    "*SVAR:*"
   ]
  },
  {
   "cell_type": "markdown",
   "id": "1573c623",
   "metadata": {},
   "source": [
    "### Uppgift 3 - Medelvärden efter att vi förkastat outliers."
   ]
  },
  {
   "cell_type": "markdown",
   "id": "9ea22a56",
   "metadata": {},
   "source": [
    "Värden som avviker mycket från resten av populationen kallas för *outliers*. Totalt finns tre outliers som uppfyller Chauvenets kriterium för att förkastas, värde nummer 6, 30 och 40.  Huruvida man bör göra detta eller ej är en omdiskuterad fråga. För sakens skulle provar vi att göra det för att se hur det påverkar resultatet.\n",
    "\n",
    "\n",
    "Förkasta de avvikande värdena. Detta kan göras genom att skapa en ny array *g2* med:\n",
    "\n",
    "`g2 = np.delete(g,[i,j,k])`\n",
    "\n",
    "där i, j, k är de aktuella possitionerna för värdena som ska förkastas.\n",
    "\n",
    "Glöm inte att också förkasta motsvarande värde i *dg*."
   ]
  },
  {
   "cell_type": "code",
   "execution_count": null,
   "id": "7c72a1ba",
   "metadata": {},
   "outputs": [],
   "source": []
  },
  {
   "cell_type": "markdown",
   "id": "afda1a37",
   "metadata": {},
   "source": [
    "#### Vanligt medelvärde\n",
    "Beräkna det oviktade medelvärdet med osäkerhet (SEM) baserat på *g2* och *dg2*.\n",
    "\n",
    "Avrunda till lämpligt antal signifikanta siffror och skriv ut svaret med `print`."
   ]
  },
  {
   "cell_type": "code",
   "execution_count": null,
   "id": "f54140be",
   "metadata": {},
   "outputs": [],
   "source": []
  },
  {
   "cell_type": "markdown",
   "id": "61011e0e",
   "metadata": {},
   "source": [
    "Gör om grafen över värdena på g med osäkerheter och rita in det nya medelvärdet och medelvärdet ± en standardavvikelse som linjer. (Du kan kopiera koden högre upp och bara byta ut g mot g2, osv.)"
   ]
  },
  {
   "cell_type": "code",
   "execution_count": null,
   "id": "36afc6f8",
   "metadata": {},
   "outputs": [],
   "source": []
  },
  {
   "cell_type": "markdown",
   "id": "e43ed3e3",
   "metadata": {},
   "source": [
    "#### Viktat medelvärde\n",
    "Beräkna det viktade medelvärdet med osäkerhet (WSEM) baserat på *g2* och *dg2*.\n",
    "\n",
    "Avrunda till lämpligt antal signifikanta siffror och skriv ut svaret med `print`."
   ]
  },
  {
   "cell_type": "code",
   "execution_count": null,
   "id": "79474b49",
   "metadata": {},
   "outputs": [],
   "source": []
  },
  {
   "cell_type": "markdown",
   "id": "eade0b2f",
   "metadata": {},
   "source": [
    "Värdet på 'g' varierar över jordklotet, framför allt på grund av att jorden inte är sfärisk. Ett allmänt accepterat värde för Uppsala är $g_{acc} = 9.818968$ kgm/s$^2$\n",
    "\n",
    "Med hur många standardavvikelser avviker det viktade medelvärdet från det allmänt accepterade värdet för Uppsala? Hur stor är sannolikheten att erhålla ett värde som avviker så mycket eller mer?\n",
    "\n",
    "Avrunda till lämpligt antal signifikanta siffror och skriv ut svaret med `print`."
   ]
  },
  {
   "cell_type": "code",
   "execution_count": null,
   "id": "3ee6991c",
   "metadata": {},
   "outputs": [],
   "source": []
  }
 ],
 "metadata": {
  "kernelspec": {
   "display_name": "Python 3 (ipykernel)",
   "language": "python",
   "name": "python3"
  },
  "language_info": {
   "codemirror_mode": {
    "name": "ipython",
    "version": 3
   },
   "file_extension": ".py",
   "mimetype": "text/x-python",
   "name": "python",
   "nbconvert_exporter": "python",
   "pygments_lexer": "ipython3",
   "version": "3.8.13"
  }
 },
 "nbformat": 4,
 "nbformat_minor": 5
}
