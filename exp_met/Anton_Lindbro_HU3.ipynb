{
 "cells": [
  {
   "cell_type": "markdown",
   "id": "bdd771e9",
   "metadata": {},
   "source": [
    "# Hemuppgift 3"
   ]
  },
  {
   "cell_type": "code",
   "execution_count": null,
   "id": "9fad7d0f",
   "metadata": {},
   "outputs": [],
   "source": [
    "import numpy as np\n",
    "import matplotlib.pyplot as plt"
   ]
  },
  {
   "cell_type": "markdown",
   "id": "db31aafd",
   "metadata": {},
   "source": [
    "### Del 1\n",
    "Importera datafilen pendel3.csv."
   ]
  },
  {
   "cell_type": "code",
   "execution_count": null,
   "id": "2c9a5541",
   "metadata": {},
   "outputs": [],
   "source": [
    "data = np.genfromtxt('pendel3.csv', delimiter=',', skip_header=1, usecols = (2, 3, 4, 5))"
   ]
  },
  {
   "cell_type": "markdown",
   "id": "20553565",
   "metadata": {},
   "source": [
    "Gör en graf över periodtiden som funktion av pendelns längd med osäkerheter. Skapa en titel på grafen med *plt.title('Min titel')*. Sätt ut namn och enheter på axlarna med *plt.xlabel('Namn på x')* och *plt.ylabel('Namn på y')*. Om du vill kan du justera storleken på figuren och typsnitten så att det ser bra ut."
   ]
  },
  {
   "cell_type": "code",
   "execution_count": null,
   "id": "1b5460d6",
   "metadata": {},
   "outputs": [],
   "source": []
  },
  {
   "cell_type": "markdown",
   "id": "07558206",
   "metadata": {},
   "source": [
    "Från vår figur kan vi gissa att $T \\propto l^b$, dvs $T = a \\cdot l^b$. (Antag tills vidare att vi inte vet det korrekta sambandet.) Gör en graf över $y = \\ln(T)$ som funktion av $x = \\ln(l)$ med osäkerheter. Glöm inte att propagera osäkerheterna i $x$ och $y$. Rita också in en rät linje som så bra som möjligt beskriver data.\n",
    "\n",
    "*Tips 1: ln(x) beräknas i numpy med funtionen np.log(x).*\n",
    "\n",
    "*Tips 2: En rät linje erhålls genom att välja två punkter ($[x_1, y_1]$ och $[x_2,y_2]$), och sedan anropa* plt.plot($[x_1, x_2]$,$[y_1,y_2]$)."
   ]
  },
  {
   "cell_type": "code",
   "execution_count": null,
   "id": "6f0ba15e",
   "metadata": {},
   "outputs": [],
   "source": []
  },
  {
   "cell_type": "markdown",
   "id": "f754ab3e",
   "metadata": {},
   "source": [
    "Verkar sambandet linjärt? Om ja, använd din räta linje för att bestämma värdet på konstanten $b$."
   ]
  },
  {
   "cell_type": "markdown",
   "id": "f89635f1",
   "metadata": {},
   "source": [
    "*Skriv ditt svar här*"
   ]
  },
  {
   "cell_type": "markdown",
   "id": "2765fcce",
   "metadata": {},
   "source": [
    "### Del 2"
   ]
  },
  {
   "cell_type": "markdown",
   "id": "a82475e8",
   "metadata": {},
   "source": [
    "I Hemuppgift 2 löste du ut tyngdaccelerationen ($g$) ur formeln för en matematisk pendel:\n",
    "$T = 2\\pi \\sqrt{\\frac{l}{g}}$ och kom fram till:\n",
    "\n",
    "$g = 4 \\pi^2 \\frac{l}{T^2}$\n",
    "\n",
    "Härled formeln för osäkerheten i $g$.\n",
    "\n",
    "*Tips: Härled en formel för $\\frac{\\delta g}{g}$ och och uttryck sedan osäkerheten i $g$ som $\\delta g = \\frac{\\delta g}{g}\\cdot g$ \n",
    "(Se också kapitel 3.9 i kursboken).*\n",
    "\n",
    "Skriv din härledning och resultatet i $\\LaTeX$ här:"
   ]
  },
  {
   "cell_type": "markdown",
   "id": "613dc8c0",
   "metadata": {},
   "source": [
    "*Skriv ditt svar här (dubbelklicka på fältet)*"
   ]
  },
  {
   "cell_type": "markdown",
   "id": "eca3fa5e",
   "metadata": {},
   "source": [
    "Beräkna $g$ och osäkerheten i $g$ för samtliga mätdata. Gör en graf över data med osäkerheter tillsammans med en linje som markerar standardvärdet för tyngdaccelerationen. Hämta aktuellt värde på $g$ från exempelvis\n",
    "https://physics.nist.gov/cuu/Constants/\n",
    "\n",
    "Om du vill zoom in i grafen kan du sätt skalan på axlarna manuellt med komandot *plt.axis([x_min,x_max,y_min,y_max])*."
   ]
  },
  {
   "cell_type": "code",
   "execution_count": null,
   "id": "e7d1c9fb",
   "metadata": {},
   "outputs": [],
   "source": []
  },
  {
   "cell_type": "markdown",
   "id": "4331d2a1",
   "metadata": {},
   "source": [
    "Stämmer mätdata med standardvärdet?"
   ]
  },
  {
   "cell_type": "markdown",
   "id": "761778da",
   "metadata": {},
   "source": [
    "*Skriv ditt svar här*"
   ]
  },
  {
   "cell_type": "code",
   "execution_count": null,
   "id": "58430007",
   "metadata": {},
   "outputs": [],
   "source": []
  }
 ],
 "metadata": {
  "kernelspec": {
   "display_name": "Python 3 (ipykernel)",
   "language": "python",
   "name": "python3"
  },
  "language_info": {
   "codemirror_mode": {
    "name": "ipython",
    "version": 3
   },
   "file_extension": ".py",
   "mimetype": "text/x-python",
   "name": "python",
   "nbconvert_exporter": "python",
   "pygments_lexer": "ipython3",
   "version": "3.8.13"
  }
 },
 "nbformat": 4,
 "nbformat_minor": 5
}
