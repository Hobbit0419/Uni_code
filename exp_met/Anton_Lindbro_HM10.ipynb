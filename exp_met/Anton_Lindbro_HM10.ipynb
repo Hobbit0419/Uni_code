{
 "cells": [
  {
   "cell_type": "markdown",
   "id": "bdd771e9",
   "metadata": {},
   "source": [
    "# Hemuppgift 10"
   ]
  },
  {
   "cell_type": "code",
   "execution_count": 2,
   "id": "9fad7d0f",
   "metadata": {},
   "outputs": [],
   "source": [
    "import numpy as np\n",
    "import matplotlib.pyplot as plt\n",
    "\n",
    "font = {'family' : 'DejaVu Sans',\n",
    "        'weight' : 'normal',\n",
    "        'size'   : 14}\n",
    "plt.rc('font', **font)"
   ]
  },
  {
   "cell_type": "markdown",
   "id": "db31aafd",
   "metadata": {},
   "source": [
    "### Introduktion\n",
    "\n",
    "I denna uppgift ska du fortsätta anpassa funktioner till data. Läs in datafilen *pendel10.csv*."
   ]
  },
  {
   "cell_type": "code",
   "execution_count": 4,
   "id": "2c9a5541",
   "metadata": {},
   "outputs": [],
   "source": [
    "data = np.genfromtxt('pendel10.csv', delimiter=',', skip_header=1, usecols = (2, 3, 4, 5))"
   ]
  },
  {
   "cell_type": "markdown",
   "id": "20553565",
   "metadata": {},
   "source": [
    "Först skapar vi våra variabler $l$ och $T$ med osäkerheter och plotar resultatet:"
   ]
  },
  {
   "cell_type": "code",
   "execution_count": 5,
   "id": "1b5460d6",
   "metadata": {},
   "outputs": [
    {
     "data": {
      "text/plain": [
       "<matplotlib.legend.Legend at 0x7b71fc2348e0>"
      ]
     },
     "execution_count": 5,
     "metadata": {},
     "output_type": "execute_result"
    },
    {
     "data": {
      "image/png": "[encoded data removed]",
      "text/plain": [
       "<Figure size 640x480 with 1 Axes>"
      ]
     },
     "metadata": {},
     "output_type": "display_data"
    }
   ],
   "source": [
    "l = data[:,0]\n",
    "dl = data[:,1]\n",
    "T = data[:,2]/10 \n",
    "dT = data[:,3]/10\n",
    "\n",
    "plt.errorbar(l,T,yerr=dT, xerr=dl,fmt='.', label='data')\n",
    "\n",
    "plt.xlabel('x / m')\n",
    "\n",
    "plt.ylabel('y / s')\n",
    "\n",
    "plt.legend()"
   ]
  },
  {
   "cell_type": "markdown",
   "id": "93804af8",
   "metadata": {},
   "source": [
    "Eftersom sambandet mellan $l$ och $T$ inte är linjärt ansätter vi sambandet:\n",
    "\n",
    "$T = A\\cdot l^B$\n",
    "\n",
    "och logartmerar. Skapa variablerna $x = \\ln{(l)}$ och $y = \\ln{(T)}$. (Kom ihåg att naturliga logaritmen i *numpy* skrivs `np.log()`.) Beräkna också osäkerheterna i $x$ och $y$ med hjälp av felfortplantning. Om du inte kommer ihåg hur man gör kan du titta på Hemuppgift 3.\n",
    "\n",
    "Skapa en graf över $y$ som funktion av $x$ med osäkerheter i båda."
   ]
  },
  {
   "cell_type": "code",
   "execution_count": null,
   "id": "05f2639c",
   "metadata": {},
   "outputs": [],
   "source": []
  },
  {
   "cell_type": "markdown",
   "id": "27992261",
   "metadata": {},
   "source": [
    "### Felfortplanta osäkerheten i x till y\n",
    "\n",
    "Det logaritmerade sambandet blir\n",
    "\n",
    "$\\ln(T) = A + B \\cdot \\ln{l}$\n",
    "\n",
    "eller med våra nya variabler x och y:\n",
    "\n",
    "$y = A + B \\cdot x$\n",
    "\n",
    "om vi antar att $B ≈ 0.5$ kan vi felfortplanta osäkerheterna i $x$ till $y$. Dessa osäkerheter är oberoende och vi kan beräkna totala osäkerheten i $y$, $\\delta y_{tot}$. Gör det och gör en ny graf med osäkerheterna $\\delta y_{tot}$ endast i $y$."
   ]
  },
  {
   "cell_type": "code",
   "execution_count": null,
   "id": "2062f89a",
   "metadata": {},
   "outputs": [],
   "source": []
  },
  {
   "cell_type": "markdown",
   "id": "a0f36301",
   "metadata": {},
   "source": [
    "### Anpassa en rät linje med np.polyfit\n",
    "\n",
    "Använd funtionen [`np.polyfit()`](https://numpy.org/doc/stable/reference/generated/numpy.polyfit.html) för att göra en viktad minsta-kvadratanpassning till data. Enligt manualen till `np.polyfit()` kan man göra en viktad anpassning genom att ange vikterna $w = \\frac{1}{\\delta y_{tot}}$, där $\\delta y_{tot}$ är de totala osäkerheterna i y. Gör det. Sätt också flaggan `cov=True` för att få osäkerheter i de anpassade parametrarna."
   ]
  },
  {
   "cell_type": "code",
   "execution_count": null,
   "id": "27b9af66",
   "metadata": {},
   "outputs": [],
   "source": [
    "fit,cov = np.polyfit(...)"
   ]
  },
  {
   "cell_type": "markdown",
   "id": "e6a56d7d",
   "metadata": {},
   "source": [
    "Spara parametrarna från anpassningen i variablerna *B* och *A*. Spara också standardavvikelserna för $A$ och $B$ i variablerna *dA* och *dB*. Skriv ut alla anpassade variabler."
   ]
  },
  {
   "cell_type": "code",
   "execution_count": null,
   "id": "1eecb1bf",
   "metadata": {},
   "outputs": [],
   "source": []
  },
  {
   "cell_type": "markdown",
   "id": "79fddf56",
   "metadata": {},
   "source": [
    "Skapa en graf över data med osäkerheter tillsammans med den anpassade linjen:\n",
    "\n",
    "$y = A + Bx$\n",
    "\n",
    "Om du vill kan du också beräkna osäkerheten i de anpassade värden och inkludera dess i grafen, exempelvis med `plt.fill_between()`. Kom ihåg att osäkerheterna inte är oberoende och att vi därför måste inkludera kovariansen om vi vill uppskatta osäkerheten i y-värdena.\n",
    "\n",
    "$\\sigma_y = \\sqrt{\\left(\\frac{\\partial y}{\\partial A}  \\right)^2 \\sigma_A^2 + \\left(\\frac{\\partial y}{\\partial B}  \\right)^2 \\sigma_B^2 + 2\\frac{\\partial y}{\\partial A}\\frac{\\partial y}{\\partial B}\\sigma_{AB}}$"
   ]
  },
  {
   "cell_type": "code",
   "execution_count": null,
   "id": "f1c7c1cc",
   "metadata": {},
   "outputs": [],
   "source": []
  },
  {
   "cell_type": "markdown",
   "id": "38a23270",
   "metadata": {},
   "source": [
    "Använd teorin för en matematisk pendel och beräkna värdet på konstanten $g$ utifrån det anpassade värdet på $A$. Använd felfortplantningsformeln för att beräkna osäkerheten i $g$. Skriv ut resultatet med korrekt antal signifikanta siffror."
   ]
  },
  {
   "cell_type": "code",
   "execution_count": null,
   "id": "a46dff15",
   "metadata": {},
   "outputs": [],
   "source": []
  },
  {
   "cell_type": "markdown",
   "id": "415e950e",
   "metadata": {},
   "source": [
    "Beräkna $T$ och $l$ från de anpassade värdena på $A$ och $B$, och gör en graf av den anpassade kurvan. Lägg också in data-punkterna med osäkerheter.\n",
    "\n",
    "Om du beräknade osäkerheten i den anpassade linjen ($\\sigma_y$) ovan kan du propagera dessa osäkerheter till de anpassade värden på $T$ och inkludera dessa i grafen med `plt.fill_between()`."
   ]
  },
  {
   "cell_type": "code",
   "execution_count": null,
   "id": "8601189a",
   "metadata": {},
   "outputs": [],
   "source": []
  },
  {
   "cell_type": "markdown",
   "id": "454a7049",
   "metadata": {},
   "source": [
    "# Frivillig extrauppgift\n",
    "\n",
    "### Anpassa med Scipy curve_fit\n",
    "\n",
    "Ett alternativ till att logaritmera funktionen och göra en linjär anpassning är att använda biblioteket *scipy.optimize* som kan anpassa godtyckliga funktioner till data med numerisk optimering. Läs in biblioteket med `import scipy.optimize as optimize`."
   ]
  },
  {
   "cell_type": "code",
   "execution_count": null,
   "id": "8e959785",
   "metadata": {},
   "outputs": [],
   "source": [
    "import scipy.optimize as optimize"
   ]
  },
  {
   "cell_type": "markdown",
   "id": "772d2a53",
   "metadata": {},
   "source": [
    "För att använda `optimize` måste vi först definiera funktionen vi vill anpassa. Använd `def` och skapa en funktion (kalla den `f`) som tar en variabel ($l$) och två parametrar ($a$ och $b$) och returnerar \n",
    "\n",
    "$T = a \\cdot l^b$\n",
    "\n",
    "Vi ställer alltså hypotesen att periodtiden ($T$) är proportinell mot $l^b$, där $a$ och $b$ är två godtyckliga konstanter som ska optimeras gentemot data för $l$ och $T$."
   ]
  },
  {
   "cell_type": "code",
   "execution_count": null,
   "id": "702235db",
   "metadata": {},
   "outputs": [],
   "source": [
    "def f(l,a,b):\n",
    "    T = a*l**b\n",
    "    return T"
   ]
  },
  {
   "cell_type": "markdown",
   "id": "f31f1071",
   "metadata": {},
   "source": [
    "För att göra anpassning anropas funktionen [`optimize.curve_fit()`](https://docs.scipy.org/doc/scipy/reference/generated/scipy.optimize.curve_fit.html). Som du kan se i hjälpen tar funktionen ett antal argument. Det första är namnet på den funktion du vill anpassa, det vill säga den funktion du skapat ovan. Argument två och tre är dina x- respektive y-data (dvs $l$ och $T$). "
   ]
  },
  {
   "cell_type": "code",
   "execution_count": null,
   "id": "b2668ddf",
   "metadata": {},
   "outputs": [],
   "source": [
    "popt, covar = optimize.curve_fit(f, l, T)"
   ]
  },
  {
   "cell_type": "markdown",
   "id": "1af4267c",
   "metadata": {},
   "source": [
    "Skriv ut `popt` och `covar` och lista ut vad de olika värdena är. Skapa sedan variablerna $a$ och $b$ med osäkerheterna $da$ och $db$."
   ]
  },
  {
   "cell_type": "code",
   "execution_count": null,
   "id": "84a3f634",
   "metadata": {},
   "outputs": [],
   "source": []
  },
  {
   "cell_type": "code",
   "execution_count": null,
   "id": "81a259fc",
   "metadata": {},
   "outputs": [],
   "source": []
  },
  {
   "cell_type": "markdown",
   "id": "f968819c",
   "metadata": {},
   "source": [
    "Använd teorin för en matematisk pendel och beräkna värdet på konstanten $g$ med osäkerhet utifrån det anpassade värdet på $a$. Använd felfortplantningsformeln för att beräkna osäkerheten i $g$. Skriv ut resultatet med korrekt antal signifikanta siffror."
   ]
  },
  {
   "cell_type": "markdown",
   "id": "2dd800ad",
   "metadata": {},
   "source": [
    "**Svar:**\n",
    "\n",
    "$g = \\left(\\frac{2\\pi}{a}\\right)^2$\n",
    "\n",
    "\n",
    "$\\sigma_g = \\left| \\frac{dg}{da} \\right| \\sigma_a = ...$"
   ]
  },
  {
   "cell_type": "code",
   "execution_count": null,
   "id": "a74a84c1",
   "metadata": {},
   "outputs": [],
   "source": []
  },
  {
   "cell_type": "markdown",
   "id": "1abcccda",
   "metadata": {},
   "source": [
    "Gör en graf av data för $T$ som funktion av $l$ med osäkerheter tillsammans med den anpassade linjen."
   ]
  },
  {
   "cell_type": "code",
   "execution_count": null,
   "id": "be4c76d7",
   "metadata": {},
   "outputs": [],
   "source": []
  },
  {
   "cell_type": "markdown",
   "id": "3a13a67c",
   "metadata": {},
   "source": [
    "Även `optimize.curve_fit()` kan användas för viktade minsta kvadratanpassningar. Till skillnad mot `polyfit()` anger vi osäkerheterna (inte vikterna). Detta görs med `sigma=dT_tot`. Om du vill kan du prova."
   ]
  },
  {
   "cell_type": "code",
   "execution_count": null,
   "id": "07c9e35f",
   "metadata": {},
   "outputs": [],
   "source": []
  }
 ],
 "metadata": {
  "kernelspec": {
   "display_name": "Python 3 (ipykernel)",
   "language": "python",
   "name": "python3"
  },
  "language_info": {
   "codemirror_mode": {
    "name": "ipython",
    "version": 3
   },
   "file_extension": ".py",
   "mimetype": "text/x-python",
   "name": "python",
   "nbconvert_exporter": "python",
   "pygments_lexer": "ipython3",
   "version": "3.10.12"
  }
 },
 "nbformat": 4,
 "nbformat_minor": 5
}
