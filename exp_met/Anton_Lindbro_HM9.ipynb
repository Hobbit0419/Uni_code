{
 "cells": [
  {
   "cell_type": "markdown",
   "id": "bdd771e9",
   "metadata": {},
   "source": [
    "# Hemuppgift 9"
   ]
  },
  {
   "cell_type": "code",
   "execution_count": 3,
   "id": "9fad7d0f",
   "metadata": {},
   "outputs": [],
   "source": [
    "import numpy as np\n",
    "import matplotlib.pyplot as plt\n",
    "\n",
    "font = {'family' : 'DejaVu Sans',\n",
    "        'weight' : 'normal',\n",
    "        'size'   : 14}\n",
    "plt.rc('font', **font)"
   ]
  },
  {
   "cell_type": "markdown",
   "id": "db31aafd",
   "metadata": {},
   "source": [
    "### Introduktion\n",
    "\n",
    "I denna uppgift ska du anpassa en linjär funktion till data. Läs in data från filen *pendel9.csv*."
   ]
  },
  {
   "cell_type": "code",
   "execution_count": 4,
   "id": "2c9a5541",
   "metadata": {},
   "outputs": [],
   "source": [
    "data = np.genfromtxt('pendel_rensad.csv', delimiter=',', skip_header=1, usecols = (2, 3, 4, 5))"
   ]
  },
  {
   "cell_type": "markdown",
   "id": "20553565",
   "metadata": {},
   "source": [
    "Först skapar vi våra variabler $l$ och $T$:"
   ]
  },
  {
   "cell_type": "code",
   "execution_count": null,
   "id": "1b5460d6",
   "metadata": {},
   "outputs": [],
   "source": [
    "l = data[:,0]\n",
    "T = data[:,2]/10 "
   ]
  },
  {
   "cell_type": "markdown",
   "id": "ce01ac2c",
   "metadata": {},
   "source": [
    "Vi gör antagagandet att data uppfyller sambandet\n",
    "\n",
    "$T = a \\cdot l^b$\n",
    "\n",
    "För att kunna anpassa det till data måste vi först logaritmera uttrycket:\n",
    "\n",
    "$\\ln{(T)} = \\ln(a) + b\\cdot\\ln{(l)}$\n",
    "\n",
    "Skapa varibalerna $y=\\ln{T}$ och $x=\\ln{l}$ och gör en graf över y som funktion av x. \n",
    "\n",
    "**Verkar sambandet vara linjärt?**"
   ]
  },
  {
   "cell_type": "code",
   "execution_count": null,
   "id": "c63c08bf",
   "metadata": {},
   "outputs": [],
   "source": []
  },
  {
   "cell_type": "markdown",
   "id": "17855551",
   "metadata": {},
   "source": [
    "### Beräkna parametrarna A och B\n",
    "\n",
    "Anpassa en rät linje ($y=A+Bx$) med minsta kvadratmetoden enligt ekvationerna:\n",
    "\n",
    "$A = \\frac{\\sum x^2\\sum y - \\sum x\\sum xy}{\\Delta}$\n",
    "\n",
    "$B = \\frac{N\\sum xy - \\sum x\\sum y}{\\Delta}$\n",
    "\n",
    "$\\Delta = N \\sum x^2 - \\left(\\sum x\\right)^2$\n",
    "\n",
    "Skriv ut resultatet."
   ]
  },
  {
   "cell_type": "code",
   "execution_count": null,
   "id": "d721386e",
   "metadata": {},
   "outputs": [],
   "source": []
  },
  {
   "cell_type": "code",
   "execution_count": null,
   "id": "a2835b76",
   "metadata": {},
   "outputs": [],
   "source": [
    "print('A =',A,'och B =',B)"
   ]
  },
  {
   "cell_type": "markdown",
   "id": "8c620261",
   "metadata": {},
   "source": [
    "Gör en ny graf över mätdata (y som funktion av x) och rita in den anpassade linjen. För att göra det skapar du lämpligen en ny x-variabel:\n",
    "\n",
    "`x_linje = np.arange(-2,1.5,0.01)`\n",
    "\n",
    "och beräknar sedan motsvarande värden på `y_linje` enligt $y=A+Bx$."
   ]
  },
  {
   "cell_type": "code",
   "execution_count": null,
   "id": "b1c545f0",
   "metadata": {},
   "outputs": [],
   "source": []
  },
  {
   "cell_type": "markdown",
   "id": "a9c636e4",
   "metadata": {},
   "source": [
    "Beräkna standardavvikelsen för datapunkternas spridning kring linjen enligt\n",
    "\n",
    "$s_y = \\sqrt{\\sum\\frac{(y_i-A-Bx)^2}{N-2}}$"
   ]
  },
  {
   "cell_type": "code",
   "execution_count": null,
   "id": "ef862d87",
   "metadata": {},
   "outputs": [],
   "source": [
    "s_y = \n",
    "print(f's_y = {s_y}')\n",
    "\n",
    "\n",
    "\n",
    "\n"
   ]
  },
  {
   "cell_type": "markdown",
   "id": "512b6619",
   "metadata": {},
   "source": [
    "Gör om grafen ovan och lägg till linjerna för $\\pm s_y$. Om du vill kan du använda funktionen\n",
    "\n",
    "`plt.fill_between(x,y_max, y_min, alpha=0.5)`"
   ]
  },
  {
   "cell_type": "code",
   "execution_count": null,
   "id": "70e7b2de",
   "metadata": {},
   "outputs": [],
   "source": []
  },
  {
   "cell_type": "markdown",
   "id": "40452b87",
   "metadata": {},
   "source": [
    "Beräkna osäkerheterna i konstanterna $a$ och $b$ enligt:\n",
    "\n",
    "$s_A = s_y\\sqrt{\\frac{\\sum x^2}{\\Delta}}$\n",
    "\n",
    "$s_B = s_y\\sqrt{\\frac{N}{\\Delta}}$\n",
    "\n",
    "Skriv ut resultatet."
   ]
  },
  {
   "cell_type": "code",
   "execution_count": null,
   "id": "55f67d21",
   "metadata": {},
   "outputs": [],
   "source": [
    "s_a = \n",
    "s_b = "
   ]
  },
  {
   "cell_type": "code",
   "execution_count": null,
   "id": "fe988def",
   "metadata": {},
   "outputs": [],
   "source": [
    "print(f's_a = {s_a}')\n",
    "print(f's_b = {s_b}')"
   ]
  },
  {
   "cell_type": "markdown",
   "id": "95d99e6c",
   "metadata": {},
   "source": [
    "### Använd anpassningen för att bestämma g\n",
    "\n",
    "Enligt teorin för en matematisk pendel är:\n",
    "\n",
    "$T = 2\\pi\\sqrt{\\frac{l}{g}} = \\frac{2\\pi}{\\sqrt{g}}\\sqrt{l}$\n",
    "\n",
    "Logaritmera detta uttryck och avgör om det anpassade värdet på $b$ stämmer med teorin.\n",
    "\n",
    "Beräkna värdet på konstanten $g$ utifrån det anpassade värdet på $a$. Använd felfortplantningsformeln för att beräkna osäkerheten i $g$, $\\delta g = s_g$."
   ]
  },
  {
   "cell_type": "markdown",
   "id": "cc1eb9e9",
   "metadata": {},
   "source": [
    "$g=$\n",
    "\n",
    "$s_g=$"
   ]
  },
  {
   "cell_type": "code",
   "execution_count": null,
   "id": "996653e0",
   "metadata": {},
   "outputs": [],
   "source": []
  },
  {
   "cell_type": "markdown",
   "id": "4638f7b9",
   "metadata": {},
   "source": [
    "### Frivillig extrauppgift\n",
    "\n",
    "Använd värdena på $x$ och $y$ från den anpassade linjen (`x_linje` och `y_linje`) till att bestämma motsvarande värden på $T$ och $l$. Använd sedan felfortplantning för att bestämma punkternas standardavvikelse kring $T$-värdena ($s_T$) utifrån $s_y$. Gör sedan en graf över $T(l)$ som inkluderar både mätdata och den anpassade funktionen med standardavvikelse."
   ]
  },
  {
   "cell_type": "markdown",
   "id": "c49b8588",
   "metadata": {},
   "source": [
    "$l = $\n",
    "\n",
    "$T = $\n",
    "\n",
    "$s_T = $"
   ]
  },
  {
   "cell_type": "code",
   "execution_count": null,
   "id": "b76703c4",
   "metadata": {},
   "outputs": [],
   "source": []
  },
  {
   "cell_type": "code",
   "execution_count": null,
   "id": "adbe937f",
   "metadata": {},
   "outputs": [],
   "source": []
  }
 ],
 "metadata": {
  "kernelspec": {
   "display_name": "Python 3 (ipykernel)",
   "language": "python",
   "name": "python3"
  },
  "language_info": {
   "codemirror_mode": {
    "name": "ipython",
    "version": 3
   },
   "file_extension": ".py",
   "mimetype": "text/x-python",
   "name": "python",
   "nbconvert_exporter": "python",
   "pygments_lexer": "ipython3",
   "version": "3.8.13"
  }
 },
 "nbformat": 4,
 "nbformat_minor": 5
}
