{
 "cells": [
  {
   "cell_type": "code",
   "execution_count": 2,
   "metadata": {},
   "outputs": [],
   "source": [
    "import numpy as np\n",
    "import matplotlib.pyplot as plt\n",
    "import cmath as cm"
   ]
  },
  {
   "cell_type": "code",
   "execution_count": 3,
   "metadata": {},
   "outputs": [],
   "source": [
    "def xk(L, K):\n",
    "    \"\"\"\n",
    "    This function returns the center of each box. Used for computation later.\n",
    "    \"\"\"\n",
    "    dx = L/K\n",
    "    return np.array([-(L/2) + (dx/2)+k*dx for k in range(K)]) # Center of each box\n",
    "\n",
    "def V(X):\n",
    "    \"\"\"\n",
    "    Potential energy function\n",
    "    \"\"\"\n",
    "    return 0\n",
    "\n",
    "def Xmat(L, K):\n",
    "    \"\"\"\n",
    "    This function returns the position operator matrix\n",
    "    \"\"\"\n",
    "    coords = xk(L, K)\n",
    "    X = np.zeros((K,K))\n",
    "    for i in range(K):\n",
    "        X[i][i] = coords[i]\n",
    "    return X\n",
    "\n",
    "def Pmat(L, K):\n",
    "    \"\"\"\n",
    "    This function returns the momentum operator matrix\n",
    "    \"\"\"\n",
    "    dx = L / K\n",
    "    P = np.zeros((K, K), dtype=complex)\n",
    "    for i in range(K):\n",
    "        for j in range(K):\n",
    "            if i == j - 1:\n",
    "                P[i,j] += 1\n",
    "            elif i == j + 1:\n",
    "                P[i,j] += -1\n",
    "    return (-1j/(2*dx))*P\n",
    "\n",
    "def PPmat(L, K):\n",
    "    \"\"\"\n",
    "    This function returns the momentum operator matrix squared\n",
    "    \"\"\"\n",
    "    dx = L/K\n",
    "    PP = np.zeros((K,K))\n",
    "    for i in range(K):\n",
    "        for j in range(K):\n",
    "            if i == j-1:\n",
    "                PP[i,j] += 1\n",
    "            elif i == j+1:\n",
    "                PP[i,j] += 1\n",
    "            elif i == j:\n",
    "                PP[i,j] += -2\n",
    "    return (-1/(dx**2))*PP\n",
    "\n",
    "def Hmat(L, K, V):\n",
    "    \"\"\"\n",
    "    This function returns the Hamiltonian operator matrix\n",
    "    \"\"\"\n",
    "    X = Xmat(L, K)\n",
    "    H = (1/2)*PPmat(L, K) + V(X)"
   ]
  },
  {
   "cell_type": "code",
   "execution_count": 4,
   "metadata": {},
   "outputs": [],
   "source": [
    "# Lets define our box\n",
    "L = 20  # Length of the box\n",
    "K = 100 # Number of divisions\n",
    "dx = L/K # Length of each division\n",
    "\n",
    "# Now we define operators\n",
    "X = Xmat(L, K) # Position operator\n",
    "P = Pmat(L, K) # Momentum operator\n",
    "PP = PPmat(L, K) # Momentum operator squared"
   ]
  },
  {
   "cell_type": "code",
   "execution_count": 5,
   "metadata": {},
   "outputs": [
    {
     "data": {
      "image/png": "[encoded data removed]",
      "text/plain": [
       "<Figure size 640x480 with 1 Axes>"
      ]
     },
     "metadata": {},
     "output_type": "display_data"
    }
   ],
   "source": [
    "psisample = np.array([0,0,0,0,0,0,0,0,0,0,0,-0.001,-0.007,-0.023,-0.056,-0.115,-0.212,-0.357,\n",
    "-0.560,-0.826,-1.155,-1.538,-1.960,-2.395,-2.812,-3.178,-3.459,-3.627,-3.661,\n",
    "-3.554,-3.311,-2.952,-2.506,-2.011,-1.508,-1.035,-0.623,-0.295,-0.059,0.085,\n",
    "0.152,0.160,0.132,0.088,0.046,0.016,0,-0.003,-0.002,0,0,0.004,0.020,0.058,\n",
    "0.131,0.250,0.421,0.647,0.922,1.229,1.547,1.848,2.105,2.295,2.404,2.427,2.374,\n",
    "2.264,2.126,1.988,1.880,1.822,1.823,1.880,1.975,2.084,2.175,2.216,2.185,2.068,\n",
    "1.866,1.593,1.276,0.947,0.640,0.382,0.191,0.073,0.016,0,0,0,0,0,0,0,0,0,0,0])\n",
    "\n",
    "plt.plot(xk(L, K), psisample)\n",
    "plt.title(\"Sample Wavefunction\")\n",
    "plt.xlabel(\"x\")\n",
    "plt.ylabel(\"psi(x)\")\n",
    "plt.grid()\n",
    "plt.show()"
   ]
  },
  {
   "cell_type": "code",
   "execution_count": 6,
   "metadata": {},
   "outputs": [
    {
     "name": "stdout",
     "output_type": "stream",
     "text": [
      "Mean position:  -0.48708342141796773\n",
      "Mean momentum:  -5.121647419730713e-19j\n",
      "Standard deviation of position:  4.379529857027553\n",
      "Standard deviation of momentum:  3.519583539922117j\n",
      "Uncertainty:  15.414121197391637j\n",
      "Theoretical uncertainty:  0.5\n"
     ]
    }
   ],
   "source": [
    "mean_position = (np.conjugate(psisample) @ X @ psisample.T) / (np.conjugate(psisample) @ psisample)\n",
    "\n",
    "mean_momentum = (np.conjugate(psisample) @ P @ psisample.T) / (np.conjugate(psisample) @ psisample)\n",
    "\n",
    "STD_position = np.sqrt((np.conjugate(psisample) @ X**2 @ psisample.T) / (np.conjugate(psisample) @ psisample.T) - mean_position**2)\n",
    "\n",
    "STD_momentum = np.sqrt((np.conjugate(psisample) @ P**2 @ psisample) / (np.conjugate(psisample) @ psisample) - mean_momentum**2)\n",
    "\n",
    "print(\"Mean position: \", mean_position)\n",
    "print(\"Mean momentum: \", mean_momentum)\n",
    "print(\"Standard deviation of position: \", STD_position)\n",
    "print(\"Standard deviation of momentum: \", STD_momentum)\n",
    "# Uncertainty relation\n",
    "uncertainty = STD_position * STD_momentum\n",
    "print(\"Uncertainty: \", uncertainty)\n",
    "# Theoretical uncertainty\n",
    "theoretical_uncertainty = 0.5\n",
    "print(\"Theoretical uncertainty: \", theoretical_uncertainty)"
   ]
  }
 ],
 "metadata": {
  "kernelspec": {
   "display_name": ".venv",
   "language": "python",
   "name": "python3"
  },
  "language_info": {
   "codemirror_mode": {
    "name": "ipython",
    "version": 3
   },
   "file_extension": ".py",
   "mimetype": "text/x-python",
   "name": "python",
   "nbconvert_exporter": "python",
   "pygments_lexer": "ipython3",
   "version": "3.10.12"
  }
 },
 "nbformat": 4,
 "nbformat_minor": 2
}
