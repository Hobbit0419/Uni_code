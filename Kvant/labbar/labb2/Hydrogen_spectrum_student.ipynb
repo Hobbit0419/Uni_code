{
 "cells": [
  {
   "cell_type": "markdown",
   "id": "0b30ac7c-c3e3-4755-b2cd-e10cc559a13f",
   "metadata": {
    "editable": true,
    "slideshow": {
     "slide_type": ""
    },
    "tags": []
   },
   "source": [
    "This interactive notebook will help you process the data from the hydrogen spectrum lab. You are however welcome to use your own method. You can run this notebook both on your computer (You will need to have python 3 with used packages) or you can use services such as google-colab. Start by running the following two cells (shift+enter)."
   ]
  },
  {
   "cell_type": "code",
   "execution_count": 1,
   "id": "b3ccd23b-16fc-4e14-911c-b6b4710f9b9d",
   "metadata": {
    "editable": true,
    "slideshow": {
     "slide_type": ""
    },
    "tags": []
   },
   "outputs": [],
   "source": [
    "# !pip install uncertainties==3.1.7  # include this line if you want to work in google colab\n",
    "\n",
    "import numpy as np\n",
    "import matplotlib.pyplot as plt\n",
    "from scipy import constants as c\n",
    "from scipy.stats import t as student_t\n",
    "import pandas as pd\n",
    "import statistics\n",
    "from uncertainties import ufloat\n",
    "\n",
    "import ipywidgets as widgets\n",
    "from ipywidgets import interact, interactive, fixed, interact_manual"
   ]
  },
  {
   "cell_type": "code",
   "execution_count": 2,
   "id": "48716c6d-25c4-4eb5-9da6-bdc64e27061b",
   "metadata": {
    "editable": true,
    "slideshow": {
     "slide_type": ""
    },
    "tags": []
   },
   "outputs": [],
   "source": [
    "lyman_series   = 1/1**2 - 1/np.array(np.arange(2,10))**2\n",
    "balmer_series  = 1/2**2 - 1/np.array(np.arange(3,10))**2\n",
    "paschen_series = 1/3**2 - 1/np.array(np.arange(4,10))**2\n",
    "\n",
    "# lyman_wavelengths_nm = (rydberg * lyman_series)**(-1) / 1e-9\n",
    "# balmer_wavelengths_nm = (rydberg * balmer_series)**(-1) / 1e-9\n",
    "# paschen_wavelengths_nm = (rydberg * paschen_series)**(-1) / 1e-9"
   ]
  },
  {
   "cell_type": "markdown",
   "id": "4e716b1e-0dfe-4a02-be2f-b1bb84f4131b",
   "metadata": {
    "editable": true,
    "slideshow": {
     "slide_type": ""
    },
    "tags": []
   },
   "source": [
    "fill in the measured wavelengths and run the following cell (shift+enter)"
   ]
  },
  {
   "cell_type": "code",
   "execution_count": 9,
   "id": "17387e4f-81d5-468c-9be8-83e72c182ffa",
   "metadata": {
    "editable": true,
    "slideshow": {
     "slide_type": ""
    },
    "tags": []
   },
   "outputs": [],
   "source": [
    "measured_wavelengths_nm = np.array([393.8, 410.5, 434.9, 487.0, 580.0, 618.6, 656.6, 779.1, 848.2])"
   ]
  },
  {
   "cell_type": "markdown",
   "id": "a2801300-8c99-41dc-a6ec-82f4cd796bfe",
   "metadata": {
    "editable": true,
    "slideshow": {
     "slide_type": ""
    },
    "tags": []
   },
   "source": [
    "Now run the following cell and play with the sliders. The black lines are the spectral lines you measured. If you move the sliders, eventually colored lines will show up. Red lines correspond to the Lyman series, green to the Balmer series and blue to the Paschen series. Try to match the colored lines to the lines you measured and find the Rydberg's constant. The colored line follow \n",
    "$$\n",
    "\\lambda = \\frac{1}{R \\, \\left( n_i^{-2} - n_f^{-2}\\right)}\n",
    "$$"
   ]
  },
  {
   "cell_type": "code",
   "execution_count": 10,
   "id": "2e3fbfdc-f50b-4187-b561-7549a36c4900",
   "metadata": {
    "editable": true,
    "slideshow": {
     "slide_type": ""
    },
    "tags": []
   },
   "outputs": [
    {
     "data": {
      "application/vnd.jupyter.widget-view+json": {
       "model_id": "10be3b15b5c8483d81758922431a4a09",
       "version_major": 2,
       "version_minor": 0
      },
      "text/plain": [
       "HBox(children=(FloatLogSlider(value=0.66468, description='R =', max=0.5, min=-0.5, readout_format='.4f', step=…"
      ]
     },
     "metadata": {},
     "output_type": "display_data"
    },
    {
     "data": {
      "application/vnd.jupyter.widget-view+json": {
       "model_id": "ba5d068a02f4419ea76bd89b7623af54",
       "version_major": 2,
       "version_minor": 0
      },
      "text/plain": [
       "Output()"
      ]
     },
     "metadata": {},
     "output_type": "display_data"
    }
   ],
   "source": [
    "rydberg_constant_slider_mantissa = widgets.FloatLogSlider(\n",
    "    value=0.66468,\n",
    "    base=10,\n",
    "    min=-0.5, # min exponent of base\n",
    "    max=0.5, # max exponent of base\n",
    "    step=0.000001, # exponent step\n",
    "    description='R =',\n",
    "    readout_format='.4f'\n",
    ")\n",
    "\n",
    "rydberg_constant_slider_exponent = widgets.IntSlider(\n",
    "    value=0,\n",
    "    min=-10,\n",
    "    max=10,\n",
    "    step=1,\n",
    "    description='x 10^',\n",
    "    disabled=False,\n",
    "    continuous_update=True,\n",
    "    orientation='horizontal',\n",
    "    readout=True,\n",
    "    readout_format='d'\n",
    ")\n",
    "\n",
    "box = widgets.HBox([rydberg_constant_slider_mantissa, rydberg_constant_slider_exponent])\n",
    "\n",
    "\n",
    "rydberg_constant_m = rydberg_constant_slider_mantissa.value * 10**rydberg_constant_slider_exponent.value\n",
    "\n",
    "\n",
    "def plot_things(\n",
    "    rydb_mantissa,\n",
    "    rydb_exponent\n",
    "):\n",
    "    # Clear the current plot\n",
    "    fig,ax = plt.subplots(figsize=(7,1))\n",
    "    \n",
    "\n",
    "    rydb_m = rydb_mantissa * 10**rydb_exponent \n",
    "    \n",
    "    for wl in measured_wavelengths_nm:\n",
    "        plt.plot([wl,wl], [0,1] , color ='black')\n",
    "\n",
    "    for bc in balmer_series:\n",
    "        wl = 1 / (rydb_m * bc / 1e9)\n",
    "        plt.plot([wl,wl], [0,1] , color ='g')\n",
    "    \n",
    "    for bc in lyman_series:\n",
    "        wl = 1 / (rydb_m * bc / 1e9)\n",
    "        plt.plot([wl,wl], [0,1] , color ='r')\n",
    "\n",
    "    for bc in paschen_series:\n",
    "        wl = 1 / (rydb_m * bc / 1e9)\n",
    "        plt.plot([wl,wl], [0,1] , color ='b')\n",
    "\n",
    "    ax.set_title(rf\"Rydberg's constant   $R = {rydb_mantissa:.4f} \\times 10^{{{rydb_exponent}}} $ m$^{{-1}}$\")\n",
    "    ax.set_xlabel('wavelength (nm)')\n",
    "    ax.set_xlim(350,900)\n",
    "    ax.set_ylim(0, 1)\n",
    "    ax.set_yticks([])\n",
    "    ax.grid()\n",
    "    # ax.set_aspect(1)\n",
    "    \n",
    "\n",
    "interactive_plot = interactive(\n",
    "    plot_things,\n",
    "    rydb_mantissa = rydberg_constant_slider_mantissa,\n",
    "    rydb_exponent = rydberg_constant_slider_exponent\n",
    ").children[-1]\n",
    "    \n",
    "display(box)\n",
    "display(interactive_plot)"
   ]
  },
  {
   "cell_type": "markdown",
   "id": "c9255444-6d57-4135-8c48-f0ab87be1549",
   "metadata": {
    "editable": true,
    "slideshow": {
     "slide_type": ""
    },
    "tags": []
   },
   "source": [
    "If you succesfully matched the colored lines onto the lines you measured, you can continue. From the plot above you can match the individual wavelengths $\\lambda$ with the corresponding quantum numbers of the transitions $n_i$ and $n_f$.\n",
    "Fill in the missing values and code (labeled with #*) in the following cell and run it so we can estimate the Rydberg's constant."
   ]
  },
  {
   "cell_type": "code",
   "execution_count": 18,
   "id": "a86bc9a1-fb8d-4d22-9810-48ddb5594002",
   "metadata": {
    "editable": true,
    "slideshow": {
     "slide_type": ""
    },
    "tags": []
   },
   "outputs": [
    {
     "name": "stdout",
     "output_type": "stream",
     "text": [
      "   wavelengths (nm)  n_i  n_f      R (m^-1)\n",
      "0             393.8  7.0  2.0  1.106032e+07\n",
      "1             410.5  6.0  2.0  1.096224e+07\n",
      "2             434.9  5.0  2.0  1.094942e+07\n",
      "3             487.0  4.0  2.0  1.095140e+07\n",
      "4             656.6  3.0  2.0  1.096558e+07\n",
      "Estimated Rydberg constant is: (1.098+/-0.013)e+07 m^-1\n",
      "Tabular Rydberg constant is: 10967000.0 m^-1\n",
      "Absolute difference of measured and tabular R is: (0.1+/-1.3)e+05 m^-1'\n"
     ]
    }
   ],
   "source": [
    "wavelengths_nm = np.array([393.8,410.5, 434.9, 487.0, 656.6])\n",
    "#wavelengths_nm = np.flip(wavelengths_nm)\n",
    "n_i = np.array( [7,6,5,4,3] , dtype=float)\n",
    "n_f = np.array( [2,2,2,2,2], dtype=float)\n",
    "rydberg_est_m = 1/((wavelengths_nm*1e-9)*((1/n_f**2) - (1/n_i**2)))\n",
    "\n",
    "rydberg_constant_tabular = 1.0967e7              # 1/m\n",
    "\n",
    "df = pd.DataFrame({\n",
    "    'wavelengths (nm)': wavelengths_nm,\n",
    "    'n_i': n_i,\n",
    "    'n_f': n_f,\n",
    "    'R (m^-1)': rydberg_est_m\n",
    "})\n",
    "\n",
    "print(df)\n",
    "\n",
    "mean_rydberg_est_m = statistics.mean(rydberg_est_m)\n",
    "stdev_rydber_est_m = statistics.stdev(rydberg_est_m)\n",
    "student_coefficient = student_t.ppf(1 - 0.05 / 2, len(rydberg_est_m)-1)\n",
    "error = stdev_rydber_est_m * student_coefficient\n",
    "\n",
    "rydberg_const_estimate = ufloat(mean_rydberg_est_m, error)\n",
    "\n",
    "print(f'Estimated Rydberg constant is: {rydberg_const_estimate} m^-1')\n",
    "print(f'Tabular Rydberg constant is: {rydberg_constant_tabular} m^-1')\n",
    "print(f\"Absolute difference of measured and tabular R is: {rydberg_const_estimate-rydberg_constant_tabular} m^-1'\")\n"
   ]
  },
  {
   "cell_type": "markdown",
   "id": "3604b920-293f-4bfb-aa27-21db307d90ab",
   "metadata": {
    "editable": true,
    "slideshow": {
     "slide_type": ""
    },
    "tags": []
   },
   "source": [
    "How do your results compare to the tabulated? What other constants could you find from this measurement? "
   ]
  },
  {
   "cell_type": "code",
   "execution_count": null,
   "id": "6127c7c1-6e10-44f2-ab45-b879c1eec9d0",
   "metadata": {
    "editable": true,
    "slideshow": {
     "slide_type": ""
    },
    "tags": []
   },
   "outputs": [],
   "source": []
  }
 ],
 "metadata": {
  "kernelspec": {
   "display_name": ".venv",
   "language": "python",
   "name": "python3"
  },
  "language_info": {
   "codemirror_mode": {
    "name": "ipython",
    "version": 3
   },
   "file_extension": ".py",
   "mimetype": "text/x-python",
   "name": "python",
   "nbconvert_exporter": "python",
   "pygments_lexer": "ipython3",
   "version": "3.10.12"
  }
 },
 "nbformat": 4,
 "nbformat_minor": 5
}
