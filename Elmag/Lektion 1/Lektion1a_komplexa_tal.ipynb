{
 "cells": [
  {
   "cell_type": "markdown",
   "id": "0879d46e-77a9-4d13-9cb5-b5113a714558",
   "metadata": {},
   "source": [
    "# Lektion 1a \n",
    "\n",
    "## Komplexa tal\n",
    "\n",
    "Bekanta dig med hantering av komplexa tal i Python. Relevanta Python funktioner presenteras nedan:\n",
    "(några inbyggda, mer med *cmath* )\n"
   ]
  },
  {
   "cell_type": "code",
   "execution_count": 3,
   "id": "c1642345-f10a-4d0b-9208-67b13b11d4f5",
   "metadata": {},
   "outputs": [],
   "source": [
    "import cmath as cm"
   ]
  },
  {
   "cell_type": "markdown",
   "id": "531848e8-02da-44bc-8ce7-06df20bd2567",
   "metadata": {},
   "source": [
    "### Imaginära tal i python"
   ]
  },
  {
   "cell_type": "code",
   "execution_count": 4,
   "id": "c8454ea1-53c9-4a98-8842-b08050d87662",
   "metadata": {},
   "outputs": [
    {
     "name": "stdout",
     "output_type": "stream",
     "text": [
      "Reall delen = 1.0   imaginära delen =  5.0 Beloppet =  5.0990195135927845\n"
     ]
    }
   ],
   "source": [
    "z = complex(1,5) # eller direkt\n",
    "z = 1 + 5j\n",
    "# beloppet\n",
    "mag = abs(z)\n",
    "print('Reall delen =', z.real,'  imaginära delen = ', z.imag, 'Beloppet = ', mag)"
   ]
  },
  {
   "cell_type": "markdown",
   "id": "1491ee4d-294e-40e3-b135-965a89cf0505",
   "metadata": {},
   "source": [
    "### Konjugat"
   ]
  },
  {
   "cell_type": "code",
   "execution_count": 5,
   "id": "0473f4f9-9be3-49f0-9cca-c7a4e851283f",
   "metadata": {},
   "outputs": [
    {
     "name": "stdout",
     "output_type": "stream",
     "text": [
      " Komplex tal  z= (1+5j)  och konjugat  z*= (1-5j)\n"
     ]
    }
   ],
   "source": [
    "z_konj = z.conjugate()\n",
    "print(' Komplex tal  z=', z ,' och konjugat  z*=', z_konj)"
   ]
  },
  {
   "cell_type": "markdown",
   "id": "015cf55f-6014-460f-8e25-83e6af7ffbea",
   "metadata": {},
   "source": [
    "### Rektangulär och polär form av imaginära tal"
   ]
  },
  {
   "cell_type": "code",
   "execution_count": 6,
   "id": "c8c5fe88-e954-42ad-a1ed-c8aec7fe2a7d",
   "metadata": {},
   "outputs": [
    {
     "name": "stdout",
     "output_type": "stream",
     "text": [
      "Polär form =  (5.0990195135927845, 1.373400766945016)\n",
      "Rekt form =  (0.9999999999999997+4.999999999999999j)\n",
      "Fas i radianer =  1.373400766945016\n",
      "Fas i grader =  78.69006752597979\n"
     ]
    }
   ],
   "source": [
    "# byter till polär form\n",
    "import numpy as np\n",
    "\n",
    "polar = cm.polar(z)\n",
    "print('Polär form = ',polar)\n",
    "# tillbaka till rectangulära formen\n",
    "rect = cm.rect(polar[0],polar[1])\n",
    "print('Rekt form = ',rect)\n",
    "# Bara fas\n",
    "fas1 = cm.phase(z)\n",
    "print('Fas i radianer = ', fas1)\n",
    "# eller \n",
    "fas2 = np.arctan2(z.imag,z.real)\n",
    "print('Fas i grader = ',np.rad2deg(fas2))"
   ]
  },
  {
   "attachments": {
    "257afc71-553d-49ff-8407-f477027d6751.png": {
     "image/png": "[encoded data removed]"
    }
   },
   "cell_type": "markdown",
   "id": "099d661a-a2fc-4482-9fdd-4d3a031cbd84",
   "metadata": {},
   "source": [
    "\n",
    "\n",
    "## Uppgift 1.1\n",
    "#### Förenkla 𝒁 tal och uttryck resultat i rektangulära och polära koordinater \n",
    "![image.png](attachment:257afc71-553d-49ff-8407-f477027d6751.png)\n",
    "\n"
   ]
  },
  {
   "cell_type": "code",
   "execution_count": 15,
   "id": "c867157e-592d-4b07-af38-60f097964ee5",
   "metadata": {},
   "outputs": [
    {
     "name": "stdout",
     "output_type": "stream",
     "text": [
      "Rektangulärform Z = 3.6 + 0.5j\n",
      " Polärform Z = (3.6, 0.1)\n"
     ]
    }
   ],
   "source": [
    "\n",
    "z = ((3+4j)*(5+2j)*cm.rect(2,np.deg2rad(60)))/((3+6j)*(1+2j))\n",
    "\n",
    "print(f'Rektangulärform Z = {z.real:.1f} + {z.imag:.1f}j\\n Polärform Z = ({abs(z):.1f}, {cm.phase(z):.1f})')"
   ]
  }
 ],
 "metadata": {
  "kernelspec": {
   "display_name": ".venv",
   "language": "python",
   "name": "python3"
  },
  "language_info": {
   "codemirror_mode": {
    "name": "ipython",
    "version": 3
   },
   "file_extension": ".py",
   "mimetype": "text/x-python",
   "name": "python",
   "nbconvert_exporter": "python",
   "pygments_lexer": "ipython3",
   "version": "3.10.12"
  }
 },
 "nbformat": 4,
 "nbformat_minor": 5
}
