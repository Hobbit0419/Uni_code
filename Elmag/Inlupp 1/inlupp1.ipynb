{
 "cells": [
  {
   "cell_type": "markdown",
   "metadata": {},
   "source": [
    "# Kretsanalys\n",
    "\n",
    "## a)\n",
    "Beräkna spänningarna U1, U2, U3, U4 och U5 i nedanstående växelspännings krets. \n",
    "\n",
    "![](krets.png)\n",
    "\n",
    "### Metod\n",
    "\n",
    "För att kunna beräkna spänningarna behöver vi använda oss av någon form av kretsanalys. Här använder vi slinganalys för att hitta strömarna och spänningarna.\n",
    "\n",
    "För att göra slinganalys behöver vi ha en referens nod och eftersom vi har en jordad nod så är det redan löst. Vi använder sedan Kirchoffs sling lag som säger \n",
    "\n",
    "$$\n",
    "\\sum_{k=0} ^n V_k = 0 \n",
    "$$\n",
    "\n",
    "För varje sluten slinga.\n",
    "\n",
    "Med hjälp av detta sätter vi upp ett ekvations system\n",
    "\n",
    "$$\n",
    "V_1 - R_1 I_1 - C_1 I_1 + C_1 I_2 = 0 \\\\\n",
    "V_3 - C_1 I_2 - R_4 I_2 - R_2 I_ 2 - L_1 I_2 + C_1 I_1 + R_2 I_3 = 0 \\\\\n",
    "V_3 - R_3 I_3 - C_3 I_3 - C_2 I_3 -R_2 I_3 + R_2 I_2 + C_3 I_4 = 0 \\\\\n",
    "V_2 - C_3 I_4 - L_2 I_4 + C_3 I_3 = 0\n",
    "$$\n",
    "\n",
    "Samlar vi termer ser det ut såhär\n",
    "\n",
    "$$\n",
    "I_1(R_1 + C_1) I_2(C_1) = V_1 \\\\\n",
    "I_1(C_1) + I_2(C_1 + R_4 + R_2 + L_1) + I_3(R_2) = V_3 \\\\\n",
    "I_2(R_2) + I_3(R_3 + C_3 + C_2 + R_2) + I_4(C_3) = V_3 \\\\\n",
    "I_3(C_3) + I_4(C_3 + L_2) = V_2\n",
    "$$\n",
    "\n",
    "Detta kan skrivas på matrisform\n",
    "\n",
    "$$\n",
    "\\begin{pmatrix}\n",
    "    (R_1 + C_1) & C_1 & 0 & 0 \\\\\n",
    "    C_1 & (C_1 + R_4 + R_2 + L_1) & R_2 & 0 \\\\\n",
    "    0 & R_2 & (R_3 + C_3 + C_2 + R_2) & C_3 \\\\\n",
    "    0 & 0 & C_3 & (C_3 + L_2)\n",
    "\\end{pmatrix}\n",
    "\n",
    "\\begin{pmatrix}\n",
    "    I_1 \\\\\n",
    "    I_2 \\\\\n",
    "    I_3 \\\\\n",
    "    I_4\n",
    "\\end{pmatrix}\n",
    "\n",
    "=\\begin{pmatrix}\n",
    "    V_1 \\\\\n",
    "    V_3 \\\\\n",
    "    V_3 \\\\\n",
    "    V_2\n",
    "\\end{pmatrix}\n",
    "$$\n",
    "\n",
    "Detta systemet löses sedan numeriskt med datorn och potentialerna i de givna punkterna ges av följande.\n",
    "\n",
    "$$\n",
    "U_1 = U_2 - I_2R_4 \\\\\n",
    "U_2 = U_5 + I_3R_3 \\\\\n",
    "U_3 = -I_3C_2 \\\\\n",
    "U_4 = U_1 - I_1C_1-I_2C_1 \\\\\n",
    "U_5 = I_4C_3+I_3C_3\n",
    "$$"
   ]
  },
  {
   "cell_type": "code",
   "execution_count": 197,
   "metadata": {},
   "outputs": [],
   "source": [
    "import cmath as cm\n",
    "import numpy as np\n",
    "from scipy.optimize import minimize"
   ]
  },
  {
   "cell_type": "code",
   "execution_count": 198,
   "metadata": {},
   "outputs": [],
   "source": [
    "#I detta blocket definerar vi spänningar och komponenter i kretsen\n",
    "f = 1000\n",
    "w = 2*np.pi*f\n",
    "\n",
    "E1 = 5*cm.exp(1j*0)\n",
    "E2 = 3*cm.exp(1j*cm.pi/2)\n",
    "E3 = 1*cm.exp(1j*cm.pi)\n",
    "\n",
    "R1 = 50\n",
    "R2 = 150\n",
    "R3 = 100\n",
    "R4 = 50\n",
    "\n",
    "L1 = 1*10**-3\n",
    "L2 = 2*10**-3\n",
    "\n",
    "C1 = 10*10**-6\n",
    "C2 = 100*10**-6\n",
    "C3 = 20*10**-9\n",
    "\n",
    "ZC1 = 1/(1j*w*C1)\n",
    "ZC2 = 1/(1j*w*C2)\n",
    "ZC3 = 1/(1j*w*C3)\n",
    "ZL1 = 1j*w*L1\n",
    "ZL2 = 1j*w*L2"
   ]
  },
  {
   "cell_type": "code",
   "execution_count": 199,
   "metadata": {},
   "outputs": [],
   "source": [
    "# Definerar och löser ekvations systemet som beskrivs i texten\n",
    "Z = np.array([[(R1+ZC1),ZC1,0,0],\n",
    "              [ZC1,(R4+R2+ZL1+ZC1),R2,0],\n",
    "              [0,R2,(R3+ZC3+ZC2+R2),ZC3],\n",
    "              [0,0,ZC3,(ZL2+ZC3)]])\n",
    "V = np.array([E1,E3,E3,E2])\n",
    "\n",
    "I = np.linalg.solve(Z,V)"
   ]
  },
  {
   "cell_type": "code",
   "execution_count": 200,
   "metadata": {},
   "outputs": [
    {
     "name": "stdout",
     "output_type": "stream",
     "text": [
      "U5 = 3.0193028404846864V med faskift 83.14195007022617 grader\n",
      "U3 = 0.045598859379809405V med faskift -1.1194513755577218 grader\n",
      "U2 = 0.3324086964072108V med faskift 23.62000348985958 grader\n",
      "U1 = 1.4346437904799183V med faskift -60.967987600666035 grader\n",
      "U4 = 0.13818219161716047V med faskift -158.73797369443912 grader\n"
     ]
    }
   ],
   "source": [
    "# Tar fram potentialerna\n",
    "U5 = I[3]*ZC3+I[2]*ZC3\n",
    "U5p = cm.polar(U5)\n",
    "print(f'U5 = {U5p[0]}V med faskift {np.rad2deg(U5p[1])} grader')\n",
    "\n",
    "U3 = -I[2]*ZC2\n",
    "U3p = cm.polar(U3)\n",
    "print(f'U3 = {U3p[0]}V med faskift {np.rad2deg(U3p[1])} grader')\n",
    "\n",
    "U2 = U5+I[2]*R3\n",
    "U2p = cm.polar(U2)\n",
    "print(f'U2 = {U2p[0]}V med faskift {np.rad2deg(U2p[1])} grader')\n",
    "\n",
    "U1 = U2-I[1]*R4\n",
    "U1p = cm.polar(U1)\n",
    "print(f'U1 = {U1p[0]}V med faskift {np.rad2deg(U1p[1])} grader')\n",
    "\n",
    "U4 = U1-I[0]*ZC1-I[1]*ZC1\n",
    "U4p = cm.polar(U4)\n",
    "print(f'U4 = {U4p[0]}V med faskift {np.rad2deg(U4p[1])} grader')"
   ]
  },
  {
   "cell_type": "markdown",
   "metadata": {},
   "source": [
    "### Resultat\n",
    "$$\n",
    "U_1 = 1,43V -61^o \\\\\n",
    "U_2 = 0,33V 23,6^o \\\\\n",
    "U_3 = 0,04 V -1,12^o \\\\\n",
    "U_4 = 0.14V -159^o \\\\\n",
    "U_5 = 3,02 V 83,1^o \\\\\n",
    "$$\n",
    "\n",
    "Stämmer väl överens med givna svar"
   ]
  },
  {
   "cell_type": "markdown",
   "metadata": {},
   "source": [
    "## b)\n",
    "\n",
    "Om C3 ersätts med en variable kondensator för vilken kapacitans fås den maximala effektutvecklingen i R2?\n",
    "\n",
    "### Metod\n",
    "Vi beräknar och plottar effekten som funktion av kapacitansen och läser av i grafen det optimala värdet\n"
   ]
  },
  {
   "cell_type": "code",
   "execution_count": 201,
   "metadata": {},
   "outputs": [],
   "source": [
    "from matplotlib import pyplot as plt"
   ]
  },
  {
   "cell_type": "code",
   "execution_count": 202,
   "metadata": {},
   "outputs": [],
   "source": [
    "C3 = np.linspace(1 * 10**-6, 50* 10**-6, 10000)\n",
    "ZC3 = 1 / (1j * w * C3)\n",
    "\n",
    "zeta_list = []\n",
    "\n",
    "for ZC3_value in ZC3:\n",
    "    Z = np.array([\n",
    "        [R1 + ZC1, ZC1, 0, 0],\n",
    "        [ZC1, R4 + R2 + ZL1 + ZC1, R2, 0],\n",
    "        [0, R2, R3 + ZC3_value + ZC2 + R2, ZC3_value],\n",
    "        [0, 0, ZC3_value, ZL2 + ZC3_value]\n",
    "    ])\n",
    "    V = np.array([E1, E3, E3, E2])\n",
    "    I = np.linalg.solve(Z, V)\n",
    "    zeta = I[1] + I[2]  \n",
    "    zeta_list.append(abs(zeta)) \n",
    "\n",
    "zeta_array = np.array(zeta_list)\n",
    "\n",
    "P = R2 * (zeta_array**2)"
   ]
  },
  {
   "cell_type": "code",
   "execution_count": 204,
   "metadata": {},
   "outputs": [
    {
     "name": "stdout",
     "output_type": "stream",
     "text": [
      "0.7929320482572055\n",
      "[1.26729673e-05]\n"
     ]
    }
   ],
   "source": [
    "print(max(P))\n",
    "print(C3[np.where(P==max(P))])"
   ]
  },
  {
   "cell_type": "markdown",
   "metadata": {},
   "source": [
    "### Resultat\n",
    "\n",
    "Optimala kapacitansen är 12,7 $\\mu$ F och max effekt är 0,79 W"
   ]
  },
  {
   "cell_type": "code",
   "execution_count": 205,
   "metadata": {},
   "outputs": [
    {
     "data": {
      "image/png": "[encoded data removed]",
      "text/plain": [
       "<Figure size 640x480 with 1 Axes>"
      ]
     },
     "metadata": {},
     "output_type": "display_data"
    }
   ],
   "source": [
    "plt.plot(C3, P)\n",
    "plt.xlabel(\"Kapacitans C3 (F)\")\n",
    "plt.ylabel(\"Effekt (W)\")\n",
    "plt.title(\"Effekt mot kapacitans C3\")\n",
    "plt.grid(True)\n",
    "plt.show()"
   ]
  }
 ],
 "metadata": {
  "kernelspec": {
   "display_name": ".venv",
   "language": "python",
   "name": "python3"
  },
  "language_info": {
   "codemirror_mode": {
    "name": "ipython",
    "version": 3
   },
   "file_extension": ".py",
   "mimetype": "text/x-python",
   "name": "python",
   "nbconvert_exporter": "python",
   "pygments_lexer": "ipython3",
   "version": "3.10.12"
  }
 },
 "nbformat": 4,
 "nbformat_minor": 2
}
