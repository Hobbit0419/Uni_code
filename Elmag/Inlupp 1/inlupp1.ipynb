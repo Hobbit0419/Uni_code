{
 "cells": [
  {
   "cell_type": "markdown",
   "metadata": {},
   "source": [
    "# Kretsanalys\n",
    "\n",
    "## a)\n",
    "Beräkna spänningarna U1, U2, U3, U4 och U5 i nedanstående växelspännings krets. \n",
    "\n",
    "![](krets.png)\n",
    "\n",
    "### Metod\n",
    "\n",
    "För att kunna beräkna spänningarna behöver vi använda oss av någon form av kretsanalys. Här använder vi slinganalys för att hitta strömarna och spänningarna.\n",
    "\n",
    "För att göra slinganalys behöver vi ha en referens nod och eftersom vi har en jordad nod så är det redan löst. Vi använder sedan Kirchoffs sling lag som säger \n",
    "\n",
    "$$\n",
    "\\sum_{k=0} ^n V_k = 0 \n",
    "$$\n",
    "\n",
    "För varje sluten slinga.\n",
    "\n",
    "Med hjälp av detta sätter vi upp ett ekvations system\n",
    "\n",
    "$$\n",
    "V_1 - R_1 I_1 - C_1 I_1 + C_1 I_2 = 0 \\\\\n",
    "-C_1 I_2 - R_4 I_2 - V_3 - R_2 I_ 2 - L_1 I_2 + C_1 I_1 + R_2 I_3 = 0 \\\\\n",
    "V_3 - R_3 I_3 - C_3 I_3 - C_2 I_3 -R_2 I_3 + R_2 I_2 + C_3 I_4 = 0 \\\\\n",
    "-V_2 - C_3 I_4 - L_2 I_4 + C_3 I_3 = 0\n",
    "$$\n",
    "\n",
    "Samlar vi termer ser det ut såhär\n",
    "\n",
    "$$\n",
    "I_1(R_1 + C_1) I_2(-C_1) = V_1 \\\\\n",
    "I_1(C_1) + I_2(-C_1 - R_4 - R_2 - L_1) + I_3(R_2) = V_3 \\\\\n",
    "I_2(-R_2) + I_3(R_3 + C_3 + C_2 + R_2) + I_4(-C_3) = V_3 \\\\\n",
    "I_3(C_3) + I_4(-C_3 - L_2) = V_2\n",
    "$$\n",
    "\n",
    "Detta kan skrivas på matrisform\n",
    "\n",
    "$$\n",
    "\\begin{pmatrix}\n",
    "    (R_1 + C_1) & -C_1 & 0 & 0 \\\\\n",
    "    C_1 & (-C_1 - R_4 - R_2 - L_1) & R_2 & 0 \\\\\n",
    "    0 & -R_2 & (R_3 + C_3 + C_2 + R_2) & -C_3 \\\\\n",
    "    0 & 0 & C_3 & (-C_3 - L_2)\n",
    "\\end{pmatrix}\n",
    "\n",
    "\\begin{pmatrix}\n",
    "    I_1 \\\\\n",
    "    I_2 \\\\\n",
    "    I_3 \\\\\n",
    "    I_4\n",
    "\\end{pmatrix}\n",
    "\n",
    "=\\begin{pmatrix}\n",
    "    V_1 \\\\\n",
    "    V_3 \\\\\n",
    "    V_3 \\\\\n",
    "    V_2\n",
    "\\end{pmatrix}\n",
    "$$"
   ]
  },
  {
   "cell_type": "code",
   "execution_count": null,
   "metadata": {},
   "outputs": [],
   "source": [
    "import cmath as cm\n",
    "import numpy as np\n",
    "from scipy.optimize import minimize"
   ]
  },
  {
   "cell_type": "code",
   "execution_count": null,
   "metadata": {},
   "outputs": [],
   "source": [
    "#I detta blocket definerar vi spänningar och komponenter i kretsen\n",
    "f = 1000\n",
    "w = 2*np.pi*f\n",
    "\n",
    "V1 = cm.rect(5, 0)\n",
    "V2 = cm.rect(3, 90)\n",
    "V3 = cm.rect(1, 180)\n",
    "\n",
    "R1 = 50\n",
    "R2 = 150\n",
    "R3 = 100\n",
    "R4 = 50\n",
    "\n",
    "L1 = 1*10**-3\n",
    "L2 = 2*10**-3\n",
    "\n",
    "C1 = 10*10**-6\n",
    "C2 = 100*10**-6\n",
    "C3 = 20*10**-9\n",
    "\n",
    "ZL1 = 1j*w*L1\n",
    "ZL2 = 1j*w*L2\n",
    "ZC1 = -1j/w*C1\n",
    "ZC2 = -1j/w*C2\n",
    "ZC3 = -1j/w*C3"
   ]
  },
  {
   "cell_type": "code",
   "execution_count": null,
   "metadata": {},
   "outputs": [],
   "source": [
    "#I detta blocket definerar vi ekvationssystemet som vi behöver lösa\n",
    "Z = np.array([[(),(),(),()],\n",
    "              [(),(),(),()],\n",
    "              [(),(),(),()],\n",
    "              [(),(),(),()]])\n",
    "\n",
    "V = np.array([V1, V3, V3, V2])\n",
    "\n",
    "I = np.linalg.solve(Z, V)\n",
    "\n",
    "\n",
    "#Här löser vi ekvationssystemet\n",
    "\n"
   ]
  },
  {
   "cell_type": "markdown",
   "metadata": {},
   "source": [
    "### Resultat"
   ]
  },
  {
   "cell_type": "markdown",
   "metadata": {},
   "source": [
    "## b)\n",
    "\n",
    "Om C3 ersätts med en variable kondensator för vilken kapacitans fås den maximala effektutvecklingen i R2?\n",
    "\n",
    "### Metod\n"
   ]
  },
  {
   "cell_type": "code",
   "execution_count": null,
   "metadata": {},
   "outputs": [],
   "source": [
    "#Put code here"
   ]
  },
  {
   "cell_type": "markdown",
   "metadata": {},
   "source": [
    "### Resultat"
   ]
  }
 ],
 "metadata": {
  "kernelspec": {
   "display_name": ".venv",
   "language": "python",
   "name": "python3"
  },
  "language_info": {
   "codemirror_mode": {
    "name": "ipython",
    "version": 3
   },
   "file_extension": ".py",
   "mimetype": "text/x-python",
   "name": "python",
   "nbconvert_exporter": "python",
   "pygments_lexer": "ipython3",
   "version": "3.10.12"
  }
 },
 "nbformat": 4,
 "nbformat_minor": 2
}
